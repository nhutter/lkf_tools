{
 "cells": [
  {
   "cell_type": "markdown",
   "id": "d7e50086-ca38-42d6-8c09-889f936cc8ab",
   "metadata": {
    "tags": []
   },
   "source": [
    "# Detect and track LKFs in netcdf model output\n",
    "\n",
    "This tutorial shows how to generate a LKF data-set based on gridded RGPS sea-ice drift and deformation data in netcdf format. \n",
    "\n",
    "**Warning:** The data used in this tutorial is a preprocessed version of RGPS data that is not publicly available anymore. The distribution of the RGPS data has moved to the Alaska Satellite Facility and is available in a different format here: https://asf.alaska.edu/data-sets/derived-data-sets/seaice-measures/sea-ice-measures-data-products/. Updating this notebook to the new data formar is in progress.  \n",
    "   \n",
    "### Load `lkf_tools` package"
   ]
  },
  {
   "cell_type": "code",
   "execution_count": 1,
   "id": "f00f91bc-66b9-45a6-acd5-30de3f7b9b0b",
   "metadata": {},
   "outputs": [],
   "source": [
    "%load_ext autoreload\n",
    "%autoreload 2\n",
    "\n",
    "import xarray as xr\n",
    "import os\n",
    "from pathlib import Path\n",
    "from lkf_tools.dataset import *"
   ]
  },
  {
   "cell_type": "markdown",
   "id": "a2765c52-cb4a-4432-ac8e-9f534a6af225",
   "metadata": {},
   "source": [
    "### Open netcdf file\n",
    "\n",
    "We open the netcdf file with xarray. As an example we use here winter 2000/2001."
   ]
  },
  {
   "cell_type": "code",
   "execution_count": 2,
   "id": "ad3e51c0-b44d-4e45-9041-efc9a0b8472f",
   "metadata": {},
   "outputs": [],
   "source": [
    "data_path = Path('../../RGPS/eulerian/netcdfs/RGPS_eulerian_drift_deformation_w0001.nc')\n",
    "\n",
    "rgps_nc = xr.open_dataset(data_path)"
   ]
  },
  {
   "cell_type": "markdown",
   "id": "f161ab50-177f-4af2-9e64-24695a4b2cdb",
   "metadata": {},
   "source": [
    "### Processing netcdf file\n",
    "\n",
    "Since the RGPS netcdf file does not follow the conventions of `lkf_tools` package, we need to rename some variables and coordinates."
   ]
  },
  {
   "cell_type": "code",
   "execution_count": 3,
   "id": "a17c22fb-01a2-492c-b71a-a47bc508f7de",
   "metadata": {},
   "outputs": [
    {
     "data": {
      "text/html": [
       "<div><svg style=\"position: absolute; width: 0; height: 0; overflow: hidden\">\n",
       "<defs>\n",
       "<symbol id=\"icon-database\" viewBox=\"0 0 32 32\">\n",
       "<path d=\"M16 0c-8.837 0-16 2.239-16 5v4c0 2.761 7.163 5 16 5s16-2.239 16-5v-4c0-2.761-7.163-5-16-5z\"></path>\n",
       "<path d=\"M16 17c-8.837 0-16-2.239-16-5v6c0 2.761 7.163 5 16 5s16-2.239 16-5v-6c0 2.761-7.163 5-16 5z\"></path>\n",
       "<path d=\"M16 26c-8.837 0-16-2.239-16-5v6c0 2.761 7.163 5 16 5s16-2.239 16-5v-6c0 2.761-7.163 5-16 5z\"></path>\n",
       "</symbol>\n",
       "<symbol id=\"icon-file-text2\" viewBox=\"0 0 32 32\">\n",
       "<path d=\"M28.681 7.159c-0.694-0.947-1.662-2.053-2.724-3.116s-2.169-2.030-3.116-2.724c-1.612-1.182-2.393-1.319-2.841-1.319h-15.5c-1.378 0-2.5 1.121-2.5 2.5v27c0 1.378 1.122 2.5 2.5 2.5h23c1.378 0 2.5-1.122 2.5-2.5v-19.5c0-0.448-0.137-1.23-1.319-2.841zM24.543 5.457c0.959 0.959 1.712 1.825 2.268 2.543h-4.811v-4.811c0.718 0.556 1.584 1.309 2.543 2.268zM28 29.5c0 0.271-0.229 0.5-0.5 0.5h-23c-0.271 0-0.5-0.229-0.5-0.5v-27c0-0.271 0.229-0.5 0.5-0.5 0 0 15.499-0 15.5 0v7c0 0.552 0.448 1 1 1h7v19.5z\"></path>\n",
       "<path d=\"M23 26h-14c-0.552 0-1-0.448-1-1s0.448-1 1-1h14c0.552 0 1 0.448 1 1s-0.448 1-1 1z\"></path>\n",
       "<path d=\"M23 22h-14c-0.552 0-1-0.448-1-1s0.448-1 1-1h14c0.552 0 1 0.448 1 1s-0.448 1-1 1z\"></path>\n",
       "<path d=\"M23 18h-14c-0.552 0-1-0.448-1-1s0.448-1 1-1h14c0.552 0 1 0.448 1 1s-0.448 1-1 1z\"></path>\n",
       "</symbol>\n",
       "</defs>\n",
       "</svg>\n",
       "<style>/* CSS stylesheet for displaying xarray objects in jupyterlab.\n",
       " *\n",
       " */\n",
       "\n",
       ":root {\n",
       "  --xr-font-color0: var(--jp-content-font-color0, rgba(0, 0, 0, 1));\n",
       "  --xr-font-color2: var(--jp-content-font-color2, rgba(0, 0, 0, 0.54));\n",
       "  --xr-font-color3: var(--jp-content-font-color3, rgba(0, 0, 0, 0.38));\n",
       "  --xr-border-color: var(--jp-border-color2, #e0e0e0);\n",
       "  --xr-disabled-color: var(--jp-layout-color3, #bdbdbd);\n",
       "  --xr-background-color: var(--jp-layout-color0, white);\n",
       "  --xr-background-color-row-even: var(--jp-layout-color1, white);\n",
       "  --xr-background-color-row-odd: var(--jp-layout-color2, #eeeeee);\n",
       "}\n",
       "\n",
       "html[theme=dark],\n",
       "body.vscode-dark {\n",
       "  --xr-font-color0: rgba(255, 255, 255, 1);\n",
       "  --xr-font-color2: rgba(255, 255, 255, 0.54);\n",
       "  --xr-font-color3: rgba(255, 255, 255, 0.38);\n",
       "  --xr-border-color: #1F1F1F;\n",
       "  --xr-disabled-color: #515151;\n",
       "  --xr-background-color: #111111;\n",
       "  --xr-background-color-row-even: #111111;\n",
       "  --xr-background-color-row-odd: #313131;\n",
       "}\n",
       "\n",
       ".xr-wrap {\n",
       "  display: block !important;\n",
       "  min-width: 300px;\n",
       "  max-width: 700px;\n",
       "}\n",
       "\n",
       ".xr-text-repr-fallback {\n",
       "  /* fallback to plain text repr when CSS is not injected (untrusted notebook) */\n",
       "  display: none;\n",
       "}\n",
       "\n",
       ".xr-header {\n",
       "  padding-top: 6px;\n",
       "  padding-bottom: 6px;\n",
       "  margin-bottom: 4px;\n",
       "  border-bottom: solid 1px var(--xr-border-color);\n",
       "}\n",
       "\n",
       ".xr-header > div,\n",
       ".xr-header > ul {\n",
       "  display: inline;\n",
       "  margin-top: 0;\n",
       "  margin-bottom: 0;\n",
       "}\n",
       "\n",
       ".xr-obj-type,\n",
       ".xr-array-name {\n",
       "  margin-left: 2px;\n",
       "  margin-right: 10px;\n",
       "}\n",
       "\n",
       ".xr-obj-type {\n",
       "  color: var(--xr-font-color2);\n",
       "}\n",
       "\n",
       ".xr-sections {\n",
       "  padding-left: 0 !important;\n",
       "  display: grid;\n",
       "  grid-template-columns: 150px auto auto 1fr 20px 20px;\n",
       "}\n",
       "\n",
       ".xr-section-item {\n",
       "  display: contents;\n",
       "}\n",
       "\n",
       ".xr-section-item input {\n",
       "  display: none;\n",
       "}\n",
       "\n",
       ".xr-section-item input + label {\n",
       "  color: var(--xr-disabled-color);\n",
       "}\n",
       "\n",
       ".xr-section-item input:enabled + label {\n",
       "  cursor: pointer;\n",
       "  color: var(--xr-font-color2);\n",
       "}\n",
       "\n",
       ".xr-section-item input:enabled + label:hover {\n",
       "  color: var(--xr-font-color0);\n",
       "}\n",
       "\n",
       ".xr-section-summary {\n",
       "  grid-column: 1;\n",
       "  color: var(--xr-font-color2);\n",
       "  font-weight: 500;\n",
       "}\n",
       "\n",
       ".xr-section-summary > span {\n",
       "  display: inline-block;\n",
       "  padding-left: 0.5em;\n",
       "}\n",
       "\n",
       ".xr-section-summary-in:disabled + label {\n",
       "  color: var(--xr-font-color2);\n",
       "}\n",
       "\n",
       ".xr-section-summary-in + label:before {\n",
       "  display: inline-block;\n",
       "  content: '►';\n",
       "  font-size: 11px;\n",
       "  width: 15px;\n",
       "  text-align: center;\n",
       "}\n",
       "\n",
       ".xr-section-summary-in:disabled + label:before {\n",
       "  color: var(--xr-disabled-color);\n",
       "}\n",
       "\n",
       ".xr-section-summary-in:checked + label:before {\n",
       "  content: '▼';\n",
       "}\n",
       "\n",
       ".xr-section-summary-in:checked + label > span {\n",
       "  display: none;\n",
       "}\n",
       "\n",
       ".xr-section-summary,\n",
       ".xr-section-inline-details {\n",
       "  padding-top: 4px;\n",
       "  padding-bottom: 4px;\n",
       "}\n",
       "\n",
       ".xr-section-inline-details {\n",
       "  grid-column: 2 / -1;\n",
       "}\n",
       "\n",
       ".xr-section-details {\n",
       "  display: none;\n",
       "  grid-column: 1 / -1;\n",
       "  margin-bottom: 5px;\n",
       "}\n",
       "\n",
       ".xr-section-summary-in:checked ~ .xr-section-details {\n",
       "  display: contents;\n",
       "}\n",
       "\n",
       ".xr-array-wrap {\n",
       "  grid-column: 1 / -1;\n",
       "  display: grid;\n",
       "  grid-template-columns: 20px auto;\n",
       "}\n",
       "\n",
       ".xr-array-wrap > label {\n",
       "  grid-column: 1;\n",
       "  vertical-align: top;\n",
       "}\n",
       "\n",
       ".xr-preview {\n",
       "  color: var(--xr-font-color3);\n",
       "}\n",
       "\n",
       ".xr-array-preview,\n",
       ".xr-array-data {\n",
       "  padding: 0 5px !important;\n",
       "  grid-column: 2;\n",
       "}\n",
       "\n",
       ".xr-array-data,\n",
       ".xr-array-in:checked ~ .xr-array-preview {\n",
       "  display: none;\n",
       "}\n",
       "\n",
       ".xr-array-in:checked ~ .xr-array-data,\n",
       ".xr-array-preview {\n",
       "  display: inline-block;\n",
       "}\n",
       "\n",
       ".xr-dim-list {\n",
       "  display: inline-block !important;\n",
       "  list-style: none;\n",
       "  padding: 0 !important;\n",
       "  margin: 0;\n",
       "}\n",
       "\n",
       ".xr-dim-list li {\n",
       "  display: inline-block;\n",
       "  padding: 0;\n",
       "  margin: 0;\n",
       "}\n",
       "\n",
       ".xr-dim-list:before {\n",
       "  content: '(';\n",
       "}\n",
       "\n",
       ".xr-dim-list:after {\n",
       "  content: ')';\n",
       "}\n",
       "\n",
       ".xr-dim-list li:not(:last-child):after {\n",
       "  content: ',';\n",
       "  padding-right: 5px;\n",
       "}\n",
       "\n",
       ".xr-has-index {\n",
       "  font-weight: bold;\n",
       "}\n",
       "\n",
       ".xr-var-list,\n",
       ".xr-var-item {\n",
       "  display: contents;\n",
       "}\n",
       "\n",
       ".xr-var-item > div,\n",
       ".xr-var-item label,\n",
       ".xr-var-item > .xr-var-name span {\n",
       "  background-color: var(--xr-background-color-row-even);\n",
       "  margin-bottom: 0;\n",
       "}\n",
       "\n",
       ".xr-var-item > .xr-var-name:hover span {\n",
       "  padding-right: 5px;\n",
       "}\n",
       "\n",
       ".xr-var-list > li:nth-child(odd) > div,\n",
       ".xr-var-list > li:nth-child(odd) > label,\n",
       ".xr-var-list > li:nth-child(odd) > .xr-var-name span {\n",
       "  background-color: var(--xr-background-color-row-odd);\n",
       "}\n",
       "\n",
       ".xr-var-name {\n",
       "  grid-column: 1;\n",
       "}\n",
       "\n",
       ".xr-var-dims {\n",
       "  grid-column: 2;\n",
       "}\n",
       "\n",
       ".xr-var-dtype {\n",
       "  grid-column: 3;\n",
       "  text-align: right;\n",
       "  color: var(--xr-font-color2);\n",
       "}\n",
       "\n",
       ".xr-var-preview {\n",
       "  grid-column: 4;\n",
       "}\n",
       "\n",
       ".xr-var-name,\n",
       ".xr-var-dims,\n",
       ".xr-var-dtype,\n",
       ".xr-preview,\n",
       ".xr-attrs dt {\n",
       "  white-space: nowrap;\n",
       "  overflow: hidden;\n",
       "  text-overflow: ellipsis;\n",
       "  padding-right: 10px;\n",
       "}\n",
       "\n",
       ".xr-var-name:hover,\n",
       ".xr-var-dims:hover,\n",
       ".xr-var-dtype:hover,\n",
       ".xr-attrs dt:hover {\n",
       "  overflow: visible;\n",
       "  width: auto;\n",
       "  z-index: 1;\n",
       "}\n",
       "\n",
       ".xr-var-attrs,\n",
       ".xr-var-data {\n",
       "  display: none;\n",
       "  background-color: var(--xr-background-color) !important;\n",
       "  padding-bottom: 5px !important;\n",
       "}\n",
       "\n",
       ".xr-var-attrs-in:checked ~ .xr-var-attrs,\n",
       ".xr-var-data-in:checked ~ .xr-var-data {\n",
       "  display: block;\n",
       "}\n",
       "\n",
       ".xr-var-data > table {\n",
       "  float: right;\n",
       "}\n",
       "\n",
       ".xr-var-name span,\n",
       ".xr-var-data,\n",
       ".xr-attrs {\n",
       "  padding-left: 25px !important;\n",
       "}\n",
       "\n",
       ".xr-attrs,\n",
       ".xr-var-attrs,\n",
       ".xr-var-data {\n",
       "  grid-column: 1 / -1;\n",
       "}\n",
       "\n",
       "dl.xr-attrs {\n",
       "  padding: 0;\n",
       "  margin: 0;\n",
       "  display: grid;\n",
       "  grid-template-columns: 125px auto;\n",
       "}\n",
       "\n",
       ".xr-attrs dt,\n",
       ".xr-attrs dd {\n",
       "  padding: 0;\n",
       "  margin: 0;\n",
       "  float: left;\n",
       "  padding-right: 10px;\n",
       "  width: auto;\n",
       "}\n",
       "\n",
       ".xr-attrs dt {\n",
       "  font-weight: normal;\n",
       "  grid-column: 1;\n",
       "}\n",
       "\n",
       ".xr-attrs dt:hover span {\n",
       "  display: inline-block;\n",
       "  background: var(--xr-background-color);\n",
       "  padding-right: 10px;\n",
       "}\n",
       "\n",
       ".xr-attrs dd {\n",
       "  grid-column: 2;\n",
       "  white-space: pre-wrap;\n",
       "  word-break: break-all;\n",
       "}\n",
       "\n",
       ".xr-icon-database,\n",
       ".xr-icon-file-text2 {\n",
       "  display: inline-block;\n",
       "  vertical-align: middle;\n",
       "  width: 1em;\n",
       "  height: 1.5em !important;\n",
       "  stroke-width: 0;\n",
       "  stroke: currentColor;\n",
       "  fill: currentColor;\n",
       "}\n",
       "</style><pre class='xr-text-repr-fallback'>&lt;xarray.Dataset&gt;\n",
       "Dimensions:     (time: 60, y: 248, x: 264)\n",
       "Coordinates:\n",
       "    ULON        (y, x) float64 -111.6 -111.5 -111.3 -111.2 ... 110.2 109.9 109.6\n",
       "    ULAT        (y, x) float64 67.22 67.32 67.42 67.52 ... 68.93 68.89 68.84\n",
       "  * x           (x) float64 -2.294e+06 -2.281e+06 ... 9.812e+05 9.938e+05\n",
       "  * y           (y) float64 -9.938e+05 -9.812e+05 ... 2.081e+06 2.094e+06\n",
       "  * time        (time) datetime64[ns] 2000-11-11T12:00:00 ... 2001-05-07T12:0...\n",
       "    start_time  (time) datetime64[ns] 2000-11-10 2000-11-13 ... 2001-05-06\n",
       "    end_time    (time) datetime64[ns] 2000-11-13 2000-11-16 ... 2001-05-09\n",
       "Data variables:\n",
       "    div         (time, y, x) float32 nan nan nan nan nan ... nan nan nan nan nan\n",
       "    shr         (time, y, x) float32 ...\n",
       "    vor         (time, y, x) float32 ...\n",
       "    U           (time, y, x) float64 ...\n",
       "    V           (time, y, x) float64 ...\n",
       "    A           (time, y, x) float64 0.0 0.0 0.0 0.0 0.0 ... 0.0 0.0 0.0 0.0 0.0\n",
       "Attributes: (12/21)\n",
       "    title:                  RADARSAT Geophysical Processing System: Eulerian ...\n",
       "    summary:                Eulerian sea ice deformation and drift data inter...\n",
       "    keywords:               sea ice; deformation; divergence; shear; vorticit...\n",
       "    Conventions:            ACDD-1.3\n",
       "    id:                     w0001\n",
       "    instrument:             RADARSAT\n",
       "    ...                     ...\n",
       "    geospatial_lat_max:     89.91840624083368\n",
       "    geospatial_lon_min:     -180.0\n",
       "    geospatial_lon_max:     179.82845626253842\n",
       "    time_coverage_start:    2000-11-10T00:00:00\n",
       "    time_coverage_end:      2001-05-09T00:00:00\n",
       "    metadata_link:          https://asf.alaska.edu/wp-content/uploads/2019/03...</pre><div class='xr-wrap' style='display:none'><div class='xr-header'><div class='xr-obj-type'>xarray.Dataset</div></div><ul class='xr-sections'><li class='xr-section-item'><input id='section-dd2e4d11-085c-4a78-90bc-e17aa449f1ed' class='xr-section-summary-in' type='checkbox' disabled ><label for='section-dd2e4d11-085c-4a78-90bc-e17aa449f1ed' class='xr-section-summary'  title='Expand/collapse section'>Dimensions:</label><div class='xr-section-inline-details'><ul class='xr-dim-list'><li><span class='xr-has-index'>time</span>: 60</li><li><span class='xr-has-index'>y</span>: 248</li><li><span class='xr-has-index'>x</span>: 264</li></ul></div><div class='xr-section-details'></div></li><li class='xr-section-item'><input id='section-a7cb9dd7-bbe6-47e6-b144-afa5ba089dd3' class='xr-section-summary-in' type='checkbox'  checked><label for='section-a7cb9dd7-bbe6-47e6-b144-afa5ba089dd3' class='xr-section-summary' >Coordinates: <span>(7)</span></label><div class='xr-section-inline-details'></div><div class='xr-section-details'><ul class='xr-var-list'><li class='xr-var-item'><div class='xr-var-name'><span>ULON</span></div><div class='xr-var-dims'>(y, x)</div><div class='xr-var-dtype'>float64</div><div class='xr-var-preview xr-preview'>...</div><input id='attrs-177db0c9-425a-4b82-8b15-63a582812787' class='xr-var-attrs-in' type='checkbox' disabled><label for='attrs-177db0c9-425a-4b82-8b15-63a582812787' title='Show/Hide attributes'><svg class='icon xr-icon-file-text2'><use xlink:href='#icon-file-text2'></use></svg></label><input id='data-3a757a5e-9f99-484a-acf6-34b10f7d7b87' class='xr-var-data-in' type='checkbox'><label for='data-3a757a5e-9f99-484a-acf6-34b10f7d7b87' title='Show/Hide data repr'><svg class='icon xr-icon-database'><use xlink:href='#icon-database'></use></svg></label><div class='xr-var-attrs'><dl class='xr-attrs'></dl></div><div class='xr-var-data'><pre>array([[-111.575689, -111.461267, -111.345787, ...,   -0.729843,   -0.362627,\n",
       "           0.      ],\n",
       "       [-111.839104, -111.725672, -111.611185, ...,   -0.367276,    0.      ,\n",
       "           0.362627],\n",
       "       [-112.10356 , -111.99113 , -111.877651, ...,    0.      ,    0.367276,\n",
       "           0.729843],\n",
       "       ...,\n",
       "       [-177.047533, -177.203291, -177.35999 , ...,  109.907344,  109.624068,\n",
       "         109.342114],\n",
       "       [-177.219248, -177.375097, -177.531882, ...,  110.039648,  109.75746 ,\n",
       "         109.476575],\n",
       "       [-177.390033, -177.545968, -177.702834, ...,  110.170653,  109.889547,\n",
       "         109.609728]])</pre></div></li><li class='xr-var-item'><div class='xr-var-name'><span>ULAT</span></div><div class='xr-var-dims'>(y, x)</div><div class='xr-var-dtype'>float64</div><div class='xr-var-preview xr-preview'>...</div><input id='attrs-0f714486-9858-4ef1-a980-711ea2e137f0' class='xr-var-attrs-in' type='checkbox' disabled><label for='attrs-0f714486-9858-4ef1-a980-711ea2e137f0' title='Show/Hide attributes'><svg class='icon xr-icon-file-text2'><use xlink:href='#icon-file-text2'></use></svg></label><input id='data-6e304091-9c4e-4584-b0bf-3acfb279eb4c' class='xr-var-data-in' type='checkbox'><label for='data-6e304091-9c4e-4584-b0bf-3acfb279eb4c' title='Show/Hide data repr'><svg class='icon xr-icon-database'><use xlink:href='#icon-database'></use></svg></label><div class='xr-var-attrs'><dl class='xr-attrs'></dl></div><div class='xr-var-data'><pre>array([[67.216855, 67.318736, 67.420562, ..., 77.239612, 77.159764, 77.079411],\n",
       "       [67.260775, 67.362873, 67.464919, ..., 77.321013, 77.240639, 77.159764],\n",
       "       [67.30423 , 67.406545, 67.508809, ..., 77.401916, 77.321013, 77.239612],\n",
       "       ...,\n",
       "       [62.032364, 62.113146, 62.193756, ..., 69.136928, 69.089289, 69.041159],\n",
       "       [61.959319, 62.039857, 62.120222, ..., 69.035683, 68.988294, 68.940414],\n",
       "       [61.886055, 61.96635 , 62.046471, ..., 68.934362, 68.88722 , 68.839589]])</pre></div></li><li class='xr-var-item'><div class='xr-var-name'><span class='xr-has-index'>x</span></div><div class='xr-var-dims'>(x)</div><div class='xr-var-dtype'>float64</div><div class='xr-var-preview xr-preview'>-2.294e+06 -2.281e+06 ... 9.938e+05</div><input id='attrs-4ba4d6f3-721e-45c1-9f94-934ccad38750' class='xr-var-attrs-in' type='checkbox' disabled><label for='attrs-4ba4d6f3-721e-45c1-9f94-934ccad38750' title='Show/Hide attributes'><svg class='icon xr-icon-file-text2'><use xlink:href='#icon-file-text2'></use></svg></label><input id='data-2f9c509a-473e-4e32-b484-b54d877f34ff' class='xr-var-data-in' type='checkbox'><label for='data-2f9c509a-473e-4e32-b484-b54d877f34ff' title='Show/Hide data repr'><svg class='icon xr-icon-database'><use xlink:href='#icon-database'></use></svg></label><div class='xr-var-attrs'><dl class='xr-attrs'></dl></div><div class='xr-var-data'><pre>array([-2293750., -2281250., -2268750., ...,   968750.,   981250.,   993750.])</pre></div></li><li class='xr-var-item'><div class='xr-var-name'><span class='xr-has-index'>y</span></div><div class='xr-var-dims'>(y)</div><div class='xr-var-dtype'>float64</div><div class='xr-var-preview xr-preview'>-9.938e+05 -9.812e+05 ... 2.094e+06</div><input id='attrs-d564b4bc-3a5f-4acf-87b1-29e94f8ba2d6' class='xr-var-attrs-in' type='checkbox' disabled><label for='attrs-d564b4bc-3a5f-4acf-87b1-29e94f8ba2d6' title='Show/Hide attributes'><svg class='icon xr-icon-file-text2'><use xlink:href='#icon-file-text2'></use></svg></label><input id='data-4968c33a-9bce-4fe6-aced-099b5f215b74' class='xr-var-data-in' type='checkbox'><label for='data-4968c33a-9bce-4fe6-aced-099b5f215b74' title='Show/Hide data repr'><svg class='icon xr-icon-database'><use xlink:href='#icon-database'></use></svg></label><div class='xr-var-attrs'><dl class='xr-attrs'></dl></div><div class='xr-var-data'><pre>array([-993750., -981250., -968750., ..., 2068750., 2081250., 2093750.])</pre></div></li><li class='xr-var-item'><div class='xr-var-name'><span class='xr-has-index'>time</span></div><div class='xr-var-dims'>(time)</div><div class='xr-var-dtype'>datetime64[ns]</div><div class='xr-var-preview xr-preview'>2000-11-11T12:00:00 ... 2001-05-...</div><input id='attrs-cb24f451-3d86-43be-bee4-4d004e6172f8' class='xr-var-attrs-in' type='checkbox' disabled><label for='attrs-cb24f451-3d86-43be-bee4-4d004e6172f8' title='Show/Hide attributes'><svg class='icon xr-icon-file-text2'><use xlink:href='#icon-file-text2'></use></svg></label><input id='data-29d7d1ca-c692-4ba4-b811-a63bfc88a41d' class='xr-var-data-in' type='checkbox'><label for='data-29d7d1ca-c692-4ba4-b811-a63bfc88a41d' title='Show/Hide data repr'><svg class='icon xr-icon-database'><use xlink:href='#icon-database'></use></svg></label><div class='xr-var-attrs'><dl class='xr-attrs'></dl></div><div class='xr-var-data'><pre>array([&#x27;2000-11-11T12:00:00.000000000&#x27;, &#x27;2000-11-14T12:00:00.000000000&#x27;,\n",
       "       &#x27;2000-11-17T12:00:00.000000000&#x27;, &#x27;2000-11-20T12:00:00.000000000&#x27;,\n",
       "       &#x27;2000-11-23T12:00:00.000000000&#x27;, &#x27;2000-11-26T12:00:00.000000000&#x27;,\n",
       "       &#x27;2000-11-29T12:00:00.000000000&#x27;, &#x27;2000-12-02T12:00:00.000000000&#x27;,\n",
       "       &#x27;2000-12-05T12:00:00.000000000&#x27;, &#x27;2000-12-08T12:00:00.000000000&#x27;,\n",
       "       &#x27;2000-12-11T12:00:00.000000000&#x27;, &#x27;2000-12-14T12:00:00.000000000&#x27;,\n",
       "       &#x27;2000-12-17T12:00:00.000000000&#x27;, &#x27;2000-12-20T12:00:00.000000000&#x27;,\n",
       "       &#x27;2000-12-23T12:00:00.000000000&#x27;, &#x27;2000-12-26T12:00:00.000000000&#x27;,\n",
       "       &#x27;2000-12-29T12:00:00.000000000&#x27;, &#x27;2001-01-01T12:00:00.000000000&#x27;,\n",
       "       &#x27;2001-01-04T12:00:00.000000000&#x27;, &#x27;2001-01-07T12:00:00.000000000&#x27;,\n",
       "       &#x27;2001-01-10T12:00:00.000000000&#x27;, &#x27;2001-01-13T12:00:00.000000000&#x27;,\n",
       "       &#x27;2001-01-16T12:00:00.000000000&#x27;, &#x27;2001-01-19T12:00:00.000000000&#x27;,\n",
       "       &#x27;2001-01-22T12:00:00.000000000&#x27;, &#x27;2001-01-25T12:00:00.000000000&#x27;,\n",
       "       &#x27;2001-01-28T12:00:00.000000000&#x27;, &#x27;2001-01-31T12:00:00.000000000&#x27;,\n",
       "       &#x27;2001-02-03T12:00:00.000000000&#x27;, &#x27;2001-02-06T12:00:00.000000000&#x27;,\n",
       "       &#x27;2001-02-09T12:00:00.000000000&#x27;, &#x27;2001-02-12T12:00:00.000000000&#x27;,\n",
       "       &#x27;2001-02-15T12:00:00.000000000&#x27;, &#x27;2001-02-18T12:00:00.000000000&#x27;,\n",
       "       &#x27;2001-02-21T12:00:00.000000000&#x27;, &#x27;2001-02-24T12:00:00.000000000&#x27;,\n",
       "       &#x27;2001-02-27T12:00:00.000000000&#x27;, &#x27;2001-03-02T12:00:00.000000000&#x27;,\n",
       "       &#x27;2001-03-05T12:00:00.000000000&#x27;, &#x27;2001-03-08T12:00:00.000000000&#x27;,\n",
       "       &#x27;2001-03-11T12:00:00.000000000&#x27;, &#x27;2001-03-14T12:00:00.000000000&#x27;,\n",
       "       &#x27;2001-03-17T12:00:00.000000000&#x27;, &#x27;2001-03-20T12:00:00.000000000&#x27;,\n",
       "       &#x27;2001-03-23T12:00:00.000000000&#x27;, &#x27;2001-03-26T12:00:00.000000000&#x27;,\n",
       "       &#x27;2001-03-29T12:00:00.000000000&#x27;, &#x27;2001-04-01T12:00:00.000000000&#x27;,\n",
       "       &#x27;2001-04-04T12:00:00.000000000&#x27;, &#x27;2001-04-07T12:00:00.000000000&#x27;,\n",
       "       &#x27;2001-04-10T12:00:00.000000000&#x27;, &#x27;2001-04-13T12:00:00.000000000&#x27;,\n",
       "       &#x27;2001-04-16T12:00:00.000000000&#x27;, &#x27;2001-04-19T12:00:00.000000000&#x27;,\n",
       "       &#x27;2001-04-22T12:00:00.000000000&#x27;, &#x27;2001-04-25T12:00:00.000000000&#x27;,\n",
       "       &#x27;2001-04-28T12:00:00.000000000&#x27;, &#x27;2001-05-01T12:00:00.000000000&#x27;,\n",
       "       &#x27;2001-05-04T12:00:00.000000000&#x27;, &#x27;2001-05-07T12:00:00.000000000&#x27;],\n",
       "      dtype=&#x27;datetime64[ns]&#x27;)</pre></div></li><li class='xr-var-item'><div class='xr-var-name'><span>start_time</span></div><div class='xr-var-dims'>(time)</div><div class='xr-var-dtype'>datetime64[ns]</div><div class='xr-var-preview xr-preview'>...</div><input id='attrs-e4c9b087-e0ad-46b7-ad69-e0a71e87dd0a' class='xr-var-attrs-in' type='checkbox' disabled><label for='attrs-e4c9b087-e0ad-46b7-ad69-e0a71e87dd0a' title='Show/Hide attributes'><svg class='icon xr-icon-file-text2'><use xlink:href='#icon-file-text2'></use></svg></label><input id='data-0c4cd8e5-230f-4c13-af5d-83a03d1b63c0' class='xr-var-data-in' type='checkbox'><label for='data-0c4cd8e5-230f-4c13-af5d-83a03d1b63c0' title='Show/Hide data repr'><svg class='icon xr-icon-database'><use xlink:href='#icon-database'></use></svg></label><div class='xr-var-attrs'><dl class='xr-attrs'></dl></div><div class='xr-var-data'><pre>array([&#x27;2000-11-10T00:00:00.000000000&#x27;, &#x27;2000-11-13T00:00:00.000000000&#x27;,\n",
       "       &#x27;2000-11-16T00:00:00.000000000&#x27;, &#x27;2000-11-19T00:00:00.000000000&#x27;,\n",
       "       &#x27;2000-11-22T00:00:00.000000000&#x27;, &#x27;2000-11-25T00:00:00.000000000&#x27;,\n",
       "       &#x27;2000-11-28T00:00:00.000000000&#x27;, &#x27;2000-12-01T00:00:00.000000000&#x27;,\n",
       "       &#x27;2000-12-04T00:00:00.000000000&#x27;, &#x27;2000-12-07T00:00:00.000000000&#x27;,\n",
       "       &#x27;2000-12-10T00:00:00.000000000&#x27;, &#x27;2000-12-13T00:00:00.000000000&#x27;,\n",
       "       &#x27;2000-12-16T00:00:00.000000000&#x27;, &#x27;2000-12-19T00:00:00.000000000&#x27;,\n",
       "       &#x27;2000-12-22T00:00:00.000000000&#x27;, &#x27;2000-12-25T00:00:00.000000000&#x27;,\n",
       "       &#x27;2000-12-28T00:00:00.000000000&#x27;, &#x27;2000-12-31T00:00:00.000000000&#x27;,\n",
       "       &#x27;2001-01-03T00:00:00.000000000&#x27;, &#x27;2001-01-06T00:00:00.000000000&#x27;,\n",
       "       &#x27;2001-01-09T00:00:00.000000000&#x27;, &#x27;2001-01-12T00:00:00.000000000&#x27;,\n",
       "       &#x27;2001-01-15T00:00:00.000000000&#x27;, &#x27;2001-01-18T00:00:00.000000000&#x27;,\n",
       "       &#x27;2001-01-21T00:00:00.000000000&#x27;, &#x27;2001-01-24T00:00:00.000000000&#x27;,\n",
       "       &#x27;2001-01-27T00:00:00.000000000&#x27;, &#x27;2001-01-30T00:00:00.000000000&#x27;,\n",
       "       &#x27;2001-02-02T00:00:00.000000000&#x27;, &#x27;2001-02-05T00:00:00.000000000&#x27;,\n",
       "       &#x27;2001-02-08T00:00:00.000000000&#x27;, &#x27;2001-02-11T00:00:00.000000000&#x27;,\n",
       "       &#x27;2001-02-14T00:00:00.000000000&#x27;, &#x27;2001-02-17T00:00:00.000000000&#x27;,\n",
       "       &#x27;2001-02-20T00:00:00.000000000&#x27;, &#x27;2001-02-23T00:00:00.000000000&#x27;,\n",
       "       &#x27;2001-02-26T00:00:00.000000000&#x27;, &#x27;2001-03-01T00:00:00.000000000&#x27;,\n",
       "       &#x27;2001-03-04T00:00:00.000000000&#x27;, &#x27;2001-03-07T00:00:00.000000000&#x27;,\n",
       "       &#x27;2001-03-10T00:00:00.000000000&#x27;, &#x27;2001-03-13T00:00:00.000000000&#x27;,\n",
       "       &#x27;2001-03-16T00:00:00.000000000&#x27;, &#x27;2001-03-19T00:00:00.000000000&#x27;,\n",
       "       &#x27;2001-03-22T00:00:00.000000000&#x27;, &#x27;2001-03-25T00:00:00.000000000&#x27;,\n",
       "       &#x27;2001-03-28T00:00:00.000000000&#x27;, &#x27;2001-03-31T00:00:00.000000000&#x27;,\n",
       "       &#x27;2001-04-03T00:00:00.000000000&#x27;, &#x27;2001-04-06T00:00:00.000000000&#x27;,\n",
       "       &#x27;2001-04-09T00:00:00.000000000&#x27;, &#x27;2001-04-12T00:00:00.000000000&#x27;,\n",
       "       &#x27;2001-04-15T00:00:00.000000000&#x27;, &#x27;2001-04-18T00:00:00.000000000&#x27;,\n",
       "       &#x27;2001-04-21T00:00:00.000000000&#x27;, &#x27;2001-04-24T00:00:00.000000000&#x27;,\n",
       "       &#x27;2001-04-27T00:00:00.000000000&#x27;, &#x27;2001-04-30T00:00:00.000000000&#x27;,\n",
       "       &#x27;2001-05-03T00:00:00.000000000&#x27;, &#x27;2001-05-06T00:00:00.000000000&#x27;],\n",
       "      dtype=&#x27;datetime64[ns]&#x27;)</pre></div></li><li class='xr-var-item'><div class='xr-var-name'><span>end_time</span></div><div class='xr-var-dims'>(time)</div><div class='xr-var-dtype'>datetime64[ns]</div><div class='xr-var-preview xr-preview'>...</div><input id='attrs-2676082e-fe80-414d-aed1-cdc106654072' class='xr-var-attrs-in' type='checkbox' disabled><label for='attrs-2676082e-fe80-414d-aed1-cdc106654072' title='Show/Hide attributes'><svg class='icon xr-icon-file-text2'><use xlink:href='#icon-file-text2'></use></svg></label><input id='data-ef3c2d86-b474-48e5-b7ca-b675649462c0' class='xr-var-data-in' type='checkbox'><label for='data-ef3c2d86-b474-48e5-b7ca-b675649462c0' title='Show/Hide data repr'><svg class='icon xr-icon-database'><use xlink:href='#icon-database'></use></svg></label><div class='xr-var-attrs'><dl class='xr-attrs'></dl></div><div class='xr-var-data'><pre>array([&#x27;2000-11-13T00:00:00.000000000&#x27;, &#x27;2000-11-16T00:00:00.000000000&#x27;,\n",
       "       &#x27;2000-11-19T00:00:00.000000000&#x27;, &#x27;2000-11-22T00:00:00.000000000&#x27;,\n",
       "       &#x27;2000-11-25T00:00:00.000000000&#x27;, &#x27;2000-11-28T00:00:00.000000000&#x27;,\n",
       "       &#x27;2000-12-01T00:00:00.000000000&#x27;, &#x27;2000-12-04T00:00:00.000000000&#x27;,\n",
       "       &#x27;2000-12-07T00:00:00.000000000&#x27;, &#x27;2000-12-10T00:00:00.000000000&#x27;,\n",
       "       &#x27;2000-12-13T00:00:00.000000000&#x27;, &#x27;2000-12-16T00:00:00.000000000&#x27;,\n",
       "       &#x27;2000-12-19T00:00:00.000000000&#x27;, &#x27;2000-12-22T00:00:00.000000000&#x27;,\n",
       "       &#x27;2000-12-25T00:00:00.000000000&#x27;, &#x27;2000-12-28T00:00:00.000000000&#x27;,\n",
       "       &#x27;2000-12-31T00:00:00.000000000&#x27;, &#x27;2001-01-03T00:00:00.000000000&#x27;,\n",
       "       &#x27;2001-01-06T00:00:00.000000000&#x27;, &#x27;2001-01-09T00:00:00.000000000&#x27;,\n",
       "       &#x27;2001-01-12T00:00:00.000000000&#x27;, &#x27;2001-01-15T00:00:00.000000000&#x27;,\n",
       "       &#x27;2001-01-18T00:00:00.000000000&#x27;, &#x27;2001-01-21T00:00:00.000000000&#x27;,\n",
       "       &#x27;2001-01-24T00:00:00.000000000&#x27;, &#x27;2001-01-27T00:00:00.000000000&#x27;,\n",
       "       &#x27;2001-01-30T00:00:00.000000000&#x27;, &#x27;2001-02-02T00:00:00.000000000&#x27;,\n",
       "       &#x27;2001-02-05T00:00:00.000000000&#x27;, &#x27;2001-02-08T00:00:00.000000000&#x27;,\n",
       "       &#x27;2001-02-11T00:00:00.000000000&#x27;, &#x27;2001-02-14T00:00:00.000000000&#x27;,\n",
       "       &#x27;2001-02-17T00:00:00.000000000&#x27;, &#x27;2001-02-20T00:00:00.000000000&#x27;,\n",
       "       &#x27;2001-02-23T00:00:00.000000000&#x27;, &#x27;2001-02-26T00:00:00.000000000&#x27;,\n",
       "       &#x27;2001-03-01T00:00:00.000000000&#x27;, &#x27;2001-03-04T00:00:00.000000000&#x27;,\n",
       "       &#x27;2001-03-07T00:00:00.000000000&#x27;, &#x27;2001-03-10T00:00:00.000000000&#x27;,\n",
       "       &#x27;2001-03-13T00:00:00.000000000&#x27;, &#x27;2001-03-16T00:00:00.000000000&#x27;,\n",
       "       &#x27;2001-03-19T00:00:00.000000000&#x27;, &#x27;2001-03-22T00:00:00.000000000&#x27;,\n",
       "       &#x27;2001-03-25T00:00:00.000000000&#x27;, &#x27;2001-03-28T00:00:00.000000000&#x27;,\n",
       "       &#x27;2001-03-31T00:00:00.000000000&#x27;, &#x27;2001-04-03T00:00:00.000000000&#x27;,\n",
       "       &#x27;2001-04-06T00:00:00.000000000&#x27;, &#x27;2001-04-09T00:00:00.000000000&#x27;,\n",
       "       &#x27;2001-04-12T00:00:00.000000000&#x27;, &#x27;2001-04-15T00:00:00.000000000&#x27;,\n",
       "       &#x27;2001-04-18T00:00:00.000000000&#x27;, &#x27;2001-04-21T00:00:00.000000000&#x27;,\n",
       "       &#x27;2001-04-24T00:00:00.000000000&#x27;, &#x27;2001-04-27T00:00:00.000000000&#x27;,\n",
       "       &#x27;2001-04-30T00:00:00.000000000&#x27;, &#x27;2001-05-03T00:00:00.000000000&#x27;,\n",
       "       &#x27;2001-05-06T00:00:00.000000000&#x27;, &#x27;2001-05-09T00:00:00.000000000&#x27;],\n",
       "      dtype=&#x27;datetime64[ns]&#x27;)</pre></div></li></ul></div></li><li class='xr-section-item'><input id='section-79cd1d9d-046f-4fdd-97c8-e650ea82cc9c' class='xr-section-summary-in' type='checkbox'  checked><label for='section-79cd1d9d-046f-4fdd-97c8-e650ea82cc9c' class='xr-section-summary' >Data variables: <span>(6)</span></label><div class='xr-section-inline-details'></div><div class='xr-section-details'><ul class='xr-var-list'><li class='xr-var-item'><div class='xr-var-name'><span>div</span></div><div class='xr-var-dims'>(time, y, x)</div><div class='xr-var-dtype'>float32</div><div class='xr-var-preview xr-preview'>nan nan nan nan ... nan nan nan nan</div><input id='attrs-0e180b30-4c37-4d78-af49-8162c840bef3' class='xr-var-attrs-in' type='checkbox' ><label for='attrs-0e180b30-4c37-4d78-af49-8162c840bef3' title='Show/Hide attributes'><svg class='icon xr-icon-file-text2'><use xlink:href='#icon-file-text2'></use></svg></label><input id='data-bbe81d7f-dbd7-4129-a33d-f89aa6e58069' class='xr-var-data-in' type='checkbox'><label for='data-bbe81d7f-dbd7-4129-a33d-f89aa6e58069' title='Show/Hide data repr'><svg class='icon xr-icon-database'><use xlink:href='#icon-database'></use></svg></label><div class='xr-var-attrs'><dl class='xr-attrs'><dt><span>long_name :</span></dt><dd>sea-ice divergence</dd><dt><span>standard_name :</span></dt><dd>divergence</dd><dt><span>units :</span></dt><dd>1/s</dd></dl></div><div class='xr-var-data'><pre>array([[[nan, nan, ..., nan, nan],\n",
       "        [nan, nan, ..., nan, nan],\n",
       "        ...,\n",
       "        [nan, nan, ..., nan, nan],\n",
       "        [nan, nan, ..., nan, nan]],\n",
       "\n",
       "       [[nan, nan, ..., nan, nan],\n",
       "        [nan, nan, ..., nan, nan],\n",
       "        ...,\n",
       "        [nan, nan, ..., nan, nan],\n",
       "        [nan, nan, ..., nan, nan]],\n",
       "\n",
       "       ...,\n",
       "\n",
       "       [[nan, nan, ..., nan, nan],\n",
       "        [nan, nan, ..., nan, nan],\n",
       "        ...,\n",
       "        [nan, nan, ..., nan, nan],\n",
       "        [nan, nan, ..., nan, nan]],\n",
       "\n",
       "       [[nan, nan, ..., nan, nan],\n",
       "        [nan, nan, ..., nan, nan],\n",
       "        ...,\n",
       "        [nan, nan, ..., nan, nan],\n",
       "        [nan, nan, ..., nan, nan]]], dtype=float32)</pre></div></li><li class='xr-var-item'><div class='xr-var-name'><span>shr</span></div><div class='xr-var-dims'>(time, y, x)</div><div class='xr-var-dtype'>float32</div><div class='xr-var-preview xr-preview'>...</div><input id='attrs-382ae8f7-9e6d-4de3-ab79-fbd2b4a96772' class='xr-var-attrs-in' type='checkbox' ><label for='attrs-382ae8f7-9e6d-4de3-ab79-fbd2b4a96772' title='Show/Hide attributes'><svg class='icon xr-icon-file-text2'><use xlink:href='#icon-file-text2'></use></svg></label><input id='data-538830fd-b815-40f3-a2d0-08549315cb1e' class='xr-var-data-in' type='checkbox'><label for='data-538830fd-b815-40f3-a2d0-08549315cb1e' title='Show/Hide data repr'><svg class='icon xr-icon-database'><use xlink:href='#icon-database'></use></svg></label><div class='xr-var-attrs'><dl class='xr-attrs'><dt><span>long_name :</span></dt><dd>sea-ice shear</dd><dt><span>standard_name :</span></dt><dd>shear</dd><dt><span>units :</span></dt><dd>1/s</dd></dl></div><div class='xr-var-data'><pre>[3928320 values with dtype=float32]</pre></div></li><li class='xr-var-item'><div class='xr-var-name'><span>vor</span></div><div class='xr-var-dims'>(time, y, x)</div><div class='xr-var-dtype'>float32</div><div class='xr-var-preview xr-preview'>...</div><input id='attrs-f4846979-9fb0-498e-b05a-b4404b5a904c' class='xr-var-attrs-in' type='checkbox' ><label for='attrs-f4846979-9fb0-498e-b05a-b4404b5a904c' title='Show/Hide attributes'><svg class='icon xr-icon-file-text2'><use xlink:href='#icon-file-text2'></use></svg></label><input id='data-d36a1ae6-5ba4-4a68-9852-e05dea1201b3' class='xr-var-data-in' type='checkbox'><label for='data-d36a1ae6-5ba4-4a68-9852-e05dea1201b3' title='Show/Hide data repr'><svg class='icon xr-icon-database'><use xlink:href='#icon-database'></use></svg></label><div class='xr-var-attrs'><dl class='xr-attrs'><dt><span>long_name :</span></dt><dd>sea-ice vorticity</dd><dt><span>standard_name :</span></dt><dd>vorticity</dd><dt><span>units :</span></dt><dd>1/s</dd></dl></div><div class='xr-var-data'><pre>[3928320 values with dtype=float32]</pre></div></li><li class='xr-var-item'><div class='xr-var-name'><span>U</span></div><div class='xr-var-dims'>(time, y, x)</div><div class='xr-var-dtype'>float64</div><div class='xr-var-preview xr-preview'>...</div><input id='attrs-65670f4c-3637-4676-a3e5-ed6777f7a0d2' class='xr-var-attrs-in' type='checkbox' ><label for='attrs-65670f4c-3637-4676-a3e5-ed6777f7a0d2' title='Show/Hide attributes'><svg class='icon xr-icon-file-text2'><use xlink:href='#icon-file-text2'></use></svg></label><input id='data-243a91dd-1162-43f9-8a56-2484745efbb0' class='xr-var-data-in' type='checkbox'><label for='data-243a91dd-1162-43f9-8a56-2484745efbb0' title='Show/Hide data repr'><svg class='icon xr-icon-database'><use xlink:href='#icon-database'></use></svg></label><div class='xr-var-attrs'><dl class='xr-attrs'><dt><span>long_name :</span></dt><dd>sea-ice velocity in x-direction of grid projection</dd><dt><span>standard_name :</span></dt><dd>u</dd><dt><span>units :</span></dt><dd>m/s</dd></dl></div><div class='xr-var-data'><pre>[3928320 values with dtype=float64]</pre></div></li><li class='xr-var-item'><div class='xr-var-name'><span>V</span></div><div class='xr-var-dims'>(time, y, x)</div><div class='xr-var-dtype'>float64</div><div class='xr-var-preview xr-preview'>...</div><input id='attrs-98a2b3ce-c1a8-480d-aa1a-3724663aa93f' class='xr-var-attrs-in' type='checkbox' ><label for='attrs-98a2b3ce-c1a8-480d-aa1a-3724663aa93f' title='Show/Hide attributes'><svg class='icon xr-icon-file-text2'><use xlink:href='#icon-file-text2'></use></svg></label><input id='data-0e5f7afc-3683-4162-8779-f996e4cd26ea' class='xr-var-data-in' type='checkbox'><label for='data-0e5f7afc-3683-4162-8779-f996e4cd26ea' title='Show/Hide data repr'><svg class='icon xr-icon-database'><use xlink:href='#icon-database'></use></svg></label><div class='xr-var-attrs'><dl class='xr-attrs'><dt><span>long_name :</span></dt><dd>sea-ice velocity in y-direction of grid projection</dd><dt><span>standard_name :</span></dt><dd>v</dd><dt><span>units :</span></dt><dd>m/s</dd></dl></div><div class='xr-var-data'><pre>[3928320 values with dtype=float64]</pre></div></li><li class='xr-var-item'><div class='xr-var-name'><span>A</span></div><div class='xr-var-dims'>(time, y, x)</div><div class='xr-var-dtype'>float64</div><div class='xr-var-preview xr-preview'>0.0 0.0 0.0 0.0 ... 0.0 0.0 0.0 0.0</div><input id='attrs-bc974894-01a2-4183-89f9-049cabb97a22' class='xr-var-attrs-in' type='checkbox' ><label for='attrs-bc974894-01a2-4183-89f9-049cabb97a22' title='Show/Hide attributes'><svg class='icon xr-icon-file-text2'><use xlink:href='#icon-file-text2'></use></svg></label><input id='data-ac0a1ce8-f4e1-48da-a953-3bcd00060952' class='xr-var-data-in' type='checkbox'><label for='data-ac0a1ce8-f4e1-48da-a953-3bcd00060952' title='Show/Hide data repr'><svg class='icon xr-icon-database'><use xlink:href='#icon-database'></use></svg></label><div class='xr-var-attrs'><dl class='xr-attrs'><dt><span>long_name :</span></dt><dd>sea-ice divergence</dd><dt><span>standard_name :</span></dt><dd>divergence</dd><dt><span>units :</span></dt><dd>1/s</dd></dl></div><div class='xr-var-data'><pre>array([[[0., 0., 0., ..., 0., 0., 0.],\n",
       "        [0., 0., 0., ..., 0., 0., 0.],\n",
       "        [0., 0., 0., ..., 0., 0., 0.],\n",
       "        ...,\n",
       "        [0., 0., 0., ..., 0., 0., 0.],\n",
       "        [0., 0., 0., ..., 0., 0., 0.],\n",
       "        [0., 0., 0., ..., 0., 0., 0.]],\n",
       "\n",
       "       [[0., 0., 0., ..., 0., 0., 0.],\n",
       "        [0., 0., 0., ..., 0., 0., 0.],\n",
       "        [0., 0., 0., ..., 0., 0., 0.],\n",
       "        ...,\n",
       "        [0., 0., 0., ..., 0., 0., 0.],\n",
       "        [0., 0., 0., ..., 0., 0., 0.],\n",
       "        [0., 0., 0., ..., 0., 0., 0.]],\n",
       "\n",
       "       [[0., 0., 0., ..., 0., 0., 0.],\n",
       "        [0., 0., 0., ..., 0., 0., 0.],\n",
       "        [0., 0., 0., ..., 0., 0., 0.],\n",
       "        ...,\n",
       "...\n",
       "        ...,\n",
       "        [0., 0., 0., ..., 0., 0., 0.],\n",
       "        [0., 0., 0., ..., 0., 0., 0.],\n",
       "        [0., 0., 0., ..., 0., 0., 0.]],\n",
       "\n",
       "       [[0., 0., 0., ..., 0., 0., 0.],\n",
       "        [0., 0., 0., ..., 0., 0., 0.],\n",
       "        [0., 0., 0., ..., 0., 0., 0.],\n",
       "        ...,\n",
       "        [0., 0., 0., ..., 0., 0., 0.],\n",
       "        [0., 0., 0., ..., 0., 0., 0.],\n",
       "        [0., 0., 0., ..., 0., 0., 0.]],\n",
       "\n",
       "       [[0., 0., 0., ..., 0., 0., 0.],\n",
       "        [0., 0., 0., ..., 0., 0., 0.],\n",
       "        [0., 0., 0., ..., 0., 0., 0.],\n",
       "        ...,\n",
       "        [0., 0., 0., ..., 0., 0., 0.],\n",
       "        [0., 0., 0., ..., 0., 0., 0.],\n",
       "        [0., 0., 0., ..., 0., 0., 0.]]])</pre></div></li></ul></div></li><li class='xr-section-item'><input id='section-0b22262a-4122-40ea-bd09-3225a144c159' class='xr-section-summary-in' type='checkbox'  ><label for='section-0b22262a-4122-40ea-bd09-3225a144c159' class='xr-section-summary' >Attributes: <span>(21)</span></label><div class='xr-section-inline-details'></div><div class='xr-section-details'><dl class='xr-attrs'><dt><span>title :</span></dt><dd>RADARSAT Geophysical Processing System: Eulerian drift and deformation data (w0001)</dd><dt><span>summary :</span></dt><dd>Eulerian sea ice deformation and drift data interpolated from the Lagrangian sea ice tracking data from RGPS</dd><dt><span>keywords :</span></dt><dd>sea ice; deformation; divergence; shear; vorticity; drift</dd><dt><span>Conventions :</span></dt><dd>ACDD-1.3</dd><dt><span>id :</span></dt><dd>w0001</dd><dt><span>instrument :</span></dt><dd>RADARSAT</dd><dt><span>source :</span></dt><dd>RGPS (Ron Kwok)</dd><dt><span>date_created :</span></dt><dd>2023-06-29</dd><dt><span>creator_name :</span></dt><dd>Ron Kwok</dd><dt><span>creator_email :</span></dt><dd>rkwok01@uw.edu</dd><dt><span>publisher_name :</span></dt><dd>Nils Hutter</dd><dt><span>publisher_email :</span></dt><dd>nils.hutter@awi.de</dd><dt><span>geospatial_bounds :</span></dt><dd>POLYGON ((-111.58 67.22, -177.39 61.89, 109.61 68.84, 0.00 77.08))</dd><dt><span>geospatial_bounds_crs :</span></dt><dd>+proj=stere +lat_0=90 +lat_ts=70 +lon_0=-45 +x_0=0 +y_0=0 +ellps=WGS84 +units=m +no_defs</dd><dt><span>geospatial_lat_min :</span></dt><dd>61.88605549486699</dd><dt><span>geospatial_lat_max :</span></dt><dd>89.91840624083368</dd><dt><span>geospatial_lon_min :</span></dt><dd>-180.0</dd><dt><span>geospatial_lon_max :</span></dt><dd>179.82845626253842</dd><dt><span>time_coverage_start :</span></dt><dd>2000-11-10T00:00:00</dd><dt><span>time_coverage_end :</span></dt><dd>2001-05-09T00:00:00</dd><dt><span>metadata_link :</span></dt><dd>https://asf.alaska.edu/wp-content/uploads/2019/03/users-master_v1.0.pdf</dd></dl></div></li></ul></div></div>"
      ],
      "text/plain": [
       "<xarray.Dataset>\n",
       "Dimensions:     (time: 60, y: 248, x: 264)\n",
       "Coordinates:\n",
       "    ULON        (y, x) float64 ...\n",
       "    ULAT        (y, x) float64 ...\n",
       "  * x           (x) float64 -2.294e+06 -2.281e+06 ... 9.812e+05 9.938e+05\n",
       "  * y           (y) float64 -9.938e+05 -9.812e+05 ... 2.081e+06 2.094e+06\n",
       "  * time        (time) datetime64[ns] 2000-11-11T12:00:00 ... 2001-05-07T12:0...\n",
       "    start_time  (time) datetime64[ns] ...\n",
       "    end_time    (time) datetime64[ns] ...\n",
       "Data variables:\n",
       "    div         (time, y, x) float32 nan nan nan nan nan ... nan nan nan nan nan\n",
       "    shr         (time, y, x) float32 ...\n",
       "    vor         (time, y, x) float32 ...\n",
       "    U           (time, y, x) float64 ...\n",
       "    V           (time, y, x) float64 ...\n",
       "    A           (time, y, x) float64 0.0 0.0 0.0 0.0 0.0 ... 0.0 0.0 0.0 0.0 0.0\n",
       "Attributes: (12/21)\n",
       "    title:                  RADARSAT Geophysical Processing System: Eulerian ...\n",
       "    summary:                Eulerian sea ice deformation and drift data inter...\n",
       "    keywords:               sea ice; deformation; divergence; shear; vorticit...\n",
       "    Conventions:            ACDD-1.3\n",
       "    id:                     w0001\n",
       "    instrument:             RADARSAT\n",
       "    ...                     ...\n",
       "    geospatial_lat_max:     89.91840624083368\n",
       "    geospatial_lon_min:     -180.0\n",
       "    geospatial_lon_max:     179.82845626253842\n",
       "    time_coverage_start:    2000-11-10T00:00:00\n",
       "    time_coverage_end:      2001-05-09T00:00:00\n",
       "    metadata_link:          https://asf.alaska.edu/wp-content/uploads/2019/03..."
      ]
     },
     "execution_count": 3,
     "metadata": {},
     "output_type": "execute_result"
    }
   ],
   "source": [
    "rgps_nc = rgps_nc.rename({'xc':'x', 'yc':'y', 'divergence':'div', 'shear':'shr',\n",
    "                          'vorticity':'vor', 'u':'U', 'v':'V', 'lon':'ULON', 'lat':'ULAT'})\n",
    "rgps_nc = rgps_nc.assign(A=np.isfinite(rgps_nc.div).astype('float'))\n",
    "rgps_nc"
   ]
  },
  {
   "cell_type": "code",
   "execution_count": 4,
   "id": "c0a4f99b-d2ea-4343-b6a5-784bb45afd8a",
   "metadata": {},
   "outputs": [
    {
     "data": {
      "text/plain": [
       "<matplotlib.collections.QuadMesh at 0x150f27ca0>"
      ]
     },
     "execution_count": 4,
     "metadata": {},
     "output_type": "execute_result"
    },
    {
     "data": {
      "image/png": "[encoded data removed]",
      "text/plain": [
       "<Figure size 432x288 with 2 Axes>"
      ]
     },
     "metadata": {
      "needs_background": "light"
     },
     "output_type": "display_data"
    }
   ],
   "source": [
    "rgps_nc.A[0,:,:].plot()"
   ]
  },
  {
   "cell_type": "markdown",
   "id": "2a15406b-0afd-4a06-a95d-e74c92422a62",
   "metadata": {},
   "source": [
    "### Open a new processing object\n",
    "This step initiates a lkf processing object that reads in the netcdf files and sets everything up to run the detection and processing steps."
   ]
  },
  {
   "cell_type": "code",
   "execution_count": 5,
   "id": "6c4de8c4-8e8f-451f-b2b7-debc25d0461d",
   "metadata": {},
   "outputs": [
    {
     "name": "stdout",
     "output_type": "stream",
     "text": [
      "Warning: DXU and DYU are missing in netcdf file!\n",
      "  -->  Compute dxu and dyu from lon,lat using SSMI projection\n"
     ]
    }
   ],
   "source": [
    "lkf_data = lkf_dataset(data_path,\n",
    "                           output_path='../data/lkfs/RGPS/w0001/',\n",
    "                           xarray=rgps_nc,t_red=1)"
   ]
  },
  {
   "cell_type": "markdown",
   "id": "2a1c7259-fb26-4ef1-9273-fa0050240b45",
   "metadata": {},
   "source": [
    "### Detection of LKFs\n",
    "After initialising the lkf processing object, we run the detection step. If `indexes` is defined only those specific time steps will be detected. Here we just detect the first two days for demonstration purposes.\n",
    "\n",
    "*Note: the algorithms currently outputs a number of warnings, that can be ignored mostly. It is an open issue to remove those warnings.*"
   ]
  },
  {
   "cell_type": "code",
   "execution_count": 6,
   "id": "9d2ce375-a27c-4180-9de8-902c51f96dee",
   "metadata": {
    "collapsed": true,
    "jupyter": {
     "outputs_hidden": true
    },
    "tags": []
   },
   "outputs": [
    {
     "name": "stdout",
     "output_type": "stream",
     "text": [
      "Compute deformation rates and detect features for day 1\n",
      "Start detection routines\n"
     ]
    },
    {
     "name": "stderr",
     "output_type": "stream",
     "text": [
      "/Users/nhutter/Documents/Research/lkf_tools/lkf_tools/detection.py:97: RuntimeWarning: invalid value encountered in true_divide\n",
      "  gaussian_field = field_nonnan_f/mask_nan_f\n",
      "/Users/nhutter/Documents/Research/lkf_tools/lkf_tools/detection.py:1149: RuntimeWarning: Mean of empty slice\n",
      "  eps_tot = np.nanmean(np.stack(eps_tot),axis=0)\n",
      "/Users/nhutter/Documents/Research/lkf_tools/lkf_tools/detection.py:248: RuntimeWarning: invalid value encountered in true_divide\n",
      "  dx = (seg_active[:,:,-1]-seg_active[np.arange(seg_active.shape[0]),:,-num_points])/np.stack([num_points-1,num_points-1],axis=1) - (seg_append-seg_active[:,:,-1])\n",
      "/Users/nhutter/Documents/Research/lkf_tools/lkf_tools/detection.py:566: RuntimeWarning: invalid value encountered in arccos\n",
      "  angle = np.arccos(angle)/np.pi*180\n",
      "/Users/nhutter/Documents/Research/lkf_tools/lkf_tools/detection.py:559: RuntimeWarning: invalid value encountered in true_divide\n",
      "  e1 = (e1/np.sqrt(np.sum(e1**2))) # Normalize basis vector\n",
      "/Users/nhutter/Documents/Research/lkf_tools/lkf_tools/detection.py:562: RuntimeWarning: invalid value encountered in true_divide\n",
      "  f1 = (f1/np.sqrt(np.sum(f1**2))) # Normalize basis vector\n",
      "/Users/nhutter/miniforge3/envs/lkf_tools/lib/python3.10/site-packages/numpy/lib/npyio.py:518: VisibleDeprecationWarning: Creating an ndarray from ragged nested sequences (which is a list-or-tuple of lists-or-tuples-or ndarrays with different lengths or shapes) is deprecated. If you meant to do this, you must specify 'dtype=object' when creating the ndarray.\n",
      "  arr = np.asanyarray(arr)\n"
     ]
    },
    {
     "name": "stdout",
     "output_type": "stream",
     "text": [
      "Compute deformation rates and detect features for day 2\n",
      "Start detection routines\n"
     ]
    },
    {
     "name": "stderr",
     "output_type": "stream",
     "text": [
      "/Users/nhutter/Documents/Research/lkf_tools/lkf_tools/detection.py:97: RuntimeWarning: invalid value encountered in true_divide\n",
      "  gaussian_field = field_nonnan_f/mask_nan_f\n",
      "/Users/nhutter/Documents/Research/lkf_tools/lkf_tools/detection.py:1149: RuntimeWarning: Mean of empty slice\n",
      "  eps_tot = np.nanmean(np.stack(eps_tot),axis=0)\n",
      "/Users/nhutter/Documents/Research/lkf_tools/lkf_tools/detection.py:248: RuntimeWarning: invalid value encountered in true_divide\n",
      "  dx = (seg_active[:,:,-1]-seg_active[np.arange(seg_active.shape[0]),:,-num_points])/np.stack([num_points-1,num_points-1],axis=1) - (seg_append-seg_active[:,:,-1])\n",
      "/Users/nhutter/Documents/Research/lkf_tools/lkf_tools/detection.py:1170: RuntimeWarning: divide by zero encountered in log10\n",
      "  eps_mn = compute_mn_eps(np.log10(eps_tot),seg)\n",
      "/Users/nhutter/Documents/Research/lkf_tools/lkf_tools/detection.py:1179: RuntimeWarning: divide by zero encountered in log10\n",
      "  eps_mn = compute_mn_eps(np.log10(eps_tot),seg)\n",
      "/Users/nhutter/Documents/Research/lkf_tools/lkf_tools/detection.py:562: RuntimeWarning: invalid value encountered in true_divide\n",
      "  f1 = (f1/np.sqrt(np.sum(f1**2))) # Normalize basis vector\n",
      "/Users/nhutter/Documents/Research/lkf_tools/lkf_tools/detection.py:559: RuntimeWarning: invalid value encountered in true_divide\n",
      "  e1 = (e1/np.sqrt(np.sum(e1**2))) # Normalize basis vector\n",
      "/Users/nhutter/miniforge3/envs/lkf_tools/lib/python3.10/site-packages/numpy/lib/npyio.py:518: VisibleDeprecationWarning: Creating an ndarray from ragged nested sequences (which is a list-or-tuple of lists-or-tuples-or ndarrays with different lengths or shapes) is deprecated. If you meant to do this, you must specify 'dtype=object' when creating the ndarray.\n",
      "  arr = np.asanyarray(arr)\n"
     ]
    },
    {
     "name": "stdout",
     "output_type": "stream",
     "text": [
      "Compute deformation rates and detect features for day 3\n",
      "Start detection routines\n"
     ]
    },
    {
     "name": "stderr",
     "output_type": "stream",
     "text": [
      "/Users/nhutter/Documents/Research/lkf_tools/lkf_tools/detection.py:97: RuntimeWarning: invalid value encountered in true_divide\n",
      "  gaussian_field = field_nonnan_f/mask_nan_f\n",
      "/Users/nhutter/Documents/Research/lkf_tools/lkf_tools/detection.py:1149: RuntimeWarning: Mean of empty slice\n",
      "  eps_tot = np.nanmean(np.stack(eps_tot),axis=0)\n",
      "/Users/nhutter/Documents/Research/lkf_tools/lkf_tools/detection.py:248: RuntimeWarning: invalid value encountered in true_divide\n",
      "  dx = (seg_active[:,:,-1]-seg_active[np.arange(seg_active.shape[0]),:,-num_points])/np.stack([num_points-1,num_points-1],axis=1) - (seg_append-seg_active[:,:,-1])\n",
      "/Users/nhutter/Documents/Research/lkf_tools/lkf_tools/detection.py:1170: RuntimeWarning: divide by zero encountered in log10\n",
      "  eps_mn = compute_mn_eps(np.log10(eps_tot),seg)\n",
      "/Users/nhutter/Documents/Research/lkf_tools/lkf_tools/detection.py:566: RuntimeWarning: invalid value encountered in arccos\n",
      "  angle = np.arccos(angle)/np.pi*180\n",
      "/Users/nhutter/Documents/Research/lkf_tools/lkf_tools/detection.py:1179: RuntimeWarning: divide by zero encountered in log10\n",
      "  eps_mn = compute_mn_eps(np.log10(eps_tot),seg)\n",
      "/Users/nhutter/Documents/Research/lkf_tools/lkf_tools/detection.py:562: RuntimeWarning: invalid value encountered in true_divide\n",
      "  f1 = (f1/np.sqrt(np.sum(f1**2))) # Normalize basis vector\n",
      "/Users/nhutter/Documents/Research/lkf_tools/lkf_tools/detection.py:559: RuntimeWarning: invalid value encountered in true_divide\n",
      "  e1 = (e1/np.sqrt(np.sum(e1**2))) # Normalize basis vector\n",
      "/Users/nhutter/miniforge3/envs/lkf_tools/lib/python3.10/site-packages/numpy/lib/npyio.py:518: VisibleDeprecationWarning: Creating an ndarray from ragged nested sequences (which is a list-or-tuple of lists-or-tuples-or ndarrays with different lengths or shapes) is deprecated. If you meant to do this, you must specify 'dtype=object' when creating the ndarray.\n",
      "  arr = np.asanyarray(arr)\n"
     ]
    },
    {
     "name": "stdout",
     "output_type": "stream",
     "text": [
      "Compute deformation rates and detect features for day 4\n",
      "Start detection routines\n"
     ]
    },
    {
     "name": "stderr",
     "output_type": "stream",
     "text": [
      "/Users/nhutter/Documents/Research/lkf_tools/lkf_tools/detection.py:97: RuntimeWarning: invalid value encountered in true_divide\n",
      "  gaussian_field = field_nonnan_f/mask_nan_f\n",
      "/Users/nhutter/Documents/Research/lkf_tools/lkf_tools/detection.py:1149: RuntimeWarning: Mean of empty slice\n",
      "  eps_tot = np.nanmean(np.stack(eps_tot),axis=0)\n",
      "/Users/nhutter/Documents/Research/lkf_tools/lkf_tools/detection.py:248: RuntimeWarning: invalid value encountered in true_divide\n",
      "  dx = (seg_active[:,:,-1]-seg_active[np.arange(seg_active.shape[0]),:,-num_points])/np.stack([num_points-1,num_points-1],axis=1) - (seg_append-seg_active[:,:,-1])\n",
      "/Users/nhutter/Documents/Research/lkf_tools/lkf_tools/detection.py:562: RuntimeWarning: invalid value encountered in true_divide\n",
      "  f1 = (f1/np.sqrt(np.sum(f1**2))) # Normalize basis vector\n",
      "/Users/nhutter/Documents/Research/lkf_tools/lkf_tools/detection.py:559: RuntimeWarning: invalid value encountered in true_divide\n",
      "  e1 = (e1/np.sqrt(np.sum(e1**2))) # Normalize basis vector\n",
      "/Users/nhutter/miniforge3/envs/lkf_tools/lib/python3.10/site-packages/numpy/lib/npyio.py:518: VisibleDeprecationWarning: Creating an ndarray from ragged nested sequences (which is a list-or-tuple of lists-or-tuples-or ndarrays with different lengths or shapes) is deprecated. If you meant to do this, you must specify 'dtype=object' when creating the ndarray.\n",
      "  arr = np.asanyarray(arr)\n"
     ]
    },
    {
     "name": "stdout",
     "output_type": "stream",
     "text": [
      "Compute deformation rates and detect features for day 5\n",
      "Start detection routines\n"
     ]
    },
    {
     "name": "stderr",
     "output_type": "stream",
     "text": [
      "/Users/nhutter/Documents/Research/lkf_tools/lkf_tools/detection.py:97: RuntimeWarning: invalid value encountered in true_divide\n",
      "  gaussian_field = field_nonnan_f/mask_nan_f\n",
      "/Users/nhutter/Documents/Research/lkf_tools/lkf_tools/detection.py:1149: RuntimeWarning: Mean of empty slice\n",
      "  eps_tot = np.nanmean(np.stack(eps_tot),axis=0)\n",
      "/Users/nhutter/Documents/Research/lkf_tools/lkf_tools/detection.py:248: RuntimeWarning: invalid value encountered in true_divide\n",
      "  dx = (seg_active[:,:,-1]-seg_active[np.arange(seg_active.shape[0]),:,-num_points])/np.stack([num_points-1,num_points-1],axis=1) - (seg_append-seg_active[:,:,-1])\n",
      "/Users/nhutter/Documents/Research/lkf_tools/lkf_tools/detection.py:566: RuntimeWarning: invalid value encountered in arccos\n",
      "  angle = np.arccos(angle)/np.pi*180\n",
      "/Users/nhutter/Documents/Research/lkf_tools/lkf_tools/detection.py:562: RuntimeWarning: invalid value encountered in true_divide\n",
      "  f1 = (f1/np.sqrt(np.sum(f1**2))) # Normalize basis vector\n",
      "/Users/nhutter/Documents/Research/lkf_tools/lkf_tools/detection.py:559: RuntimeWarning: invalid value encountered in true_divide\n",
      "  e1 = (e1/np.sqrt(np.sum(e1**2))) # Normalize basis vector\n",
      "/Users/nhutter/miniforge3/envs/lkf_tools/lib/python3.10/site-packages/numpy/lib/npyio.py:518: VisibleDeprecationWarning: Creating an ndarray from ragged nested sequences (which is a list-or-tuple of lists-or-tuples-or ndarrays with different lengths or shapes) is deprecated. If you meant to do this, you must specify 'dtype=object' when creating the ndarray.\n",
      "  arr = np.asanyarray(arr)\n"
     ]
    },
    {
     "name": "stdout",
     "output_type": "stream",
     "text": [
      "Compute deformation rates and detect features for day 6\n",
      "Start detection routines\n"
     ]
    },
    {
     "name": "stderr",
     "output_type": "stream",
     "text": [
      "/Users/nhutter/Documents/Research/lkf_tools/lkf_tools/detection.py:97: RuntimeWarning: invalid value encountered in true_divide\n",
      "  gaussian_field = field_nonnan_f/mask_nan_f\n",
      "/Users/nhutter/Documents/Research/lkf_tools/lkf_tools/detection.py:1149: RuntimeWarning: Mean of empty slice\n",
      "  eps_tot = np.nanmean(np.stack(eps_tot),axis=0)\n",
      "/Users/nhutter/Documents/Research/lkf_tools/lkf_tools/detection.py:248: RuntimeWarning: invalid value encountered in true_divide\n",
      "  dx = (seg_active[:,:,-1]-seg_active[np.arange(seg_active.shape[0]),:,-num_points])/np.stack([num_points-1,num_points-1],axis=1) - (seg_append-seg_active[:,:,-1])\n",
      "/Users/nhutter/Documents/Research/lkf_tools/lkf_tools/detection.py:1170: RuntimeWarning: divide by zero encountered in log10\n",
      "  eps_mn = compute_mn_eps(np.log10(eps_tot),seg)\n",
      "/Users/nhutter/Documents/Research/lkf_tools/lkf_tools/detection.py:1179: RuntimeWarning: divide by zero encountered in log10\n",
      "  eps_mn = compute_mn_eps(np.log10(eps_tot),seg)\n",
      "/Users/nhutter/Documents/Research/lkf_tools/lkf_tools/detection.py:559: RuntimeWarning: invalid value encountered in true_divide\n",
      "  e1 = (e1/np.sqrt(np.sum(e1**2))) # Normalize basis vector\n",
      "/Users/nhutter/Documents/Research/lkf_tools/lkf_tools/detection.py:562: RuntimeWarning: invalid value encountered in true_divide\n",
      "  f1 = (f1/np.sqrt(np.sum(f1**2))) # Normalize basis vector\n",
      "/Users/nhutter/miniforge3/envs/lkf_tools/lib/python3.10/site-packages/numpy/lib/npyio.py:518: VisibleDeprecationWarning: Creating an ndarray from ragged nested sequences (which is a list-or-tuple of lists-or-tuples-or ndarrays with different lengths or shapes) is deprecated. If you meant to do this, you must specify 'dtype=object' when creating the ndarray.\n",
      "  arr = np.asanyarray(arr)\n"
     ]
    },
    {
     "name": "stdout",
     "output_type": "stream",
     "text": [
      "Compute deformation rates and detect features for day 7\n",
      "Start detection routines\n"
     ]
    },
    {
     "name": "stderr",
     "output_type": "stream",
     "text": [
      "/Users/nhutter/Documents/Research/lkf_tools/lkf_tools/detection.py:97: RuntimeWarning: invalid value encountered in true_divide\n",
      "  gaussian_field = field_nonnan_f/mask_nan_f\n",
      "/Users/nhutter/Documents/Research/lkf_tools/lkf_tools/detection.py:1149: RuntimeWarning: Mean of empty slice\n",
      "  eps_tot = np.nanmean(np.stack(eps_tot),axis=0)\n",
      "/Users/nhutter/Documents/Research/lkf_tools/lkf_tools/detection.py:248: RuntimeWarning: invalid value encountered in true_divide\n",
      "  dx = (seg_active[:,:,-1]-seg_active[np.arange(seg_active.shape[0]),:,-num_points])/np.stack([num_points-1,num_points-1],axis=1) - (seg_append-seg_active[:,:,-1])\n",
      "/Users/nhutter/Documents/Research/lkf_tools/lkf_tools/detection.py:1170: RuntimeWarning: divide by zero encountered in log10\n",
      "  eps_mn = compute_mn_eps(np.log10(eps_tot),seg)\n",
      "/Users/nhutter/Documents/Research/lkf_tools/lkf_tools/detection.py:566: RuntimeWarning: invalid value encountered in arccos\n",
      "  angle = np.arccos(angle)/np.pi*180\n",
      "/Users/nhutter/Documents/Research/lkf_tools/lkf_tools/detection.py:1179: RuntimeWarning: divide by zero encountered in log10\n",
      "  eps_mn = compute_mn_eps(np.log10(eps_tot),seg)\n",
      "/Users/nhutter/Documents/Research/lkf_tools/lkf_tools/detection.py:562: RuntimeWarning: invalid value encountered in true_divide\n",
      "  f1 = (f1/np.sqrt(np.sum(f1**2))) # Normalize basis vector\n",
      "/Users/nhutter/Documents/Research/lkf_tools/lkf_tools/detection.py:559: RuntimeWarning: invalid value encountered in true_divide\n",
      "  e1 = (e1/np.sqrt(np.sum(e1**2))) # Normalize basis vector\n",
      "/Users/nhutter/miniforge3/envs/lkf_tools/lib/python3.10/site-packages/numpy/lib/npyio.py:518: VisibleDeprecationWarning: Creating an ndarray from ragged nested sequences (which is a list-or-tuple of lists-or-tuples-or ndarrays with different lengths or shapes) is deprecated. If you meant to do this, you must specify 'dtype=object' when creating the ndarray.\n",
      "  arr = np.asanyarray(arr)\n"
     ]
    },
    {
     "name": "stdout",
     "output_type": "stream",
     "text": [
      "Compute deformation rates and detect features for day 8\n",
      "Start detection routines\n"
     ]
    },
    {
     "name": "stderr",
     "output_type": "stream",
     "text": [
      "/Users/nhutter/Documents/Research/lkf_tools/lkf_tools/detection.py:97: RuntimeWarning: invalid value encountered in true_divide\n",
      "  gaussian_field = field_nonnan_f/mask_nan_f\n",
      "/Users/nhutter/Documents/Research/lkf_tools/lkf_tools/detection.py:1149: RuntimeWarning: Mean of empty slice\n",
      "  eps_tot = np.nanmean(np.stack(eps_tot),axis=0)\n",
      "/Users/nhutter/Documents/Research/lkf_tools/lkf_tools/detection.py:248: RuntimeWarning: invalid value encountered in true_divide\n",
      "  dx = (seg_active[:,:,-1]-seg_active[np.arange(seg_active.shape[0]),:,-num_points])/np.stack([num_points-1,num_points-1],axis=1) - (seg_append-seg_active[:,:,-1])\n",
      "/Users/nhutter/Documents/Research/lkf_tools/lkf_tools/detection.py:1170: RuntimeWarning: divide by zero encountered in log10\n",
      "  eps_mn = compute_mn_eps(np.log10(eps_tot),seg)\n",
      "/Users/nhutter/Documents/Research/lkf_tools/lkf_tools/detection.py:1179: RuntimeWarning: divide by zero encountered in log10\n",
      "  eps_mn = compute_mn_eps(np.log10(eps_tot),seg)\n",
      "/Users/nhutter/Documents/Research/lkf_tools/lkf_tools/detection.py:559: RuntimeWarning: invalid value encountered in true_divide\n",
      "  e1 = (e1/np.sqrt(np.sum(e1**2))) # Normalize basis vector\n",
      "/Users/nhutter/Documents/Research/lkf_tools/lkf_tools/detection.py:562: RuntimeWarning: invalid value encountered in true_divide\n",
      "  f1 = (f1/np.sqrt(np.sum(f1**2))) # Normalize basis vector\n",
      "/Users/nhutter/miniforge3/envs/lkf_tools/lib/python3.10/site-packages/numpy/lib/npyio.py:518: VisibleDeprecationWarning: Creating an ndarray from ragged nested sequences (which is a list-or-tuple of lists-or-tuples-or ndarrays with different lengths or shapes) is deprecated. If you meant to do this, you must specify 'dtype=object' when creating the ndarray.\n",
      "  arr = np.asanyarray(arr)\n"
     ]
    },
    {
     "name": "stdout",
     "output_type": "stream",
     "text": [
      "Compute deformation rates and detect features for day 9\n",
      "Start detection routines\n"
     ]
    },
    {
     "name": "stderr",
     "output_type": "stream",
     "text": [
      "/Users/nhutter/Documents/Research/lkf_tools/lkf_tools/detection.py:97: RuntimeWarning: invalid value encountered in true_divide\n",
      "  gaussian_field = field_nonnan_f/mask_nan_f\n",
      "/Users/nhutter/Documents/Research/lkf_tools/lkf_tools/detection.py:1149: RuntimeWarning: Mean of empty slice\n",
      "  eps_tot = np.nanmean(np.stack(eps_tot),axis=0)\n",
      "/Users/nhutter/Documents/Research/lkf_tools/lkf_tools/detection.py:248: RuntimeWarning: invalid value encountered in true_divide\n",
      "  dx = (seg_active[:,:,-1]-seg_active[np.arange(seg_active.shape[0]),:,-num_points])/np.stack([num_points-1,num_points-1],axis=1) - (seg_append-seg_active[:,:,-1])\n",
      "/Users/nhutter/Documents/Research/lkf_tools/lkf_tools/detection.py:1170: RuntimeWarning: divide by zero encountered in log10\n",
      "  eps_mn = compute_mn_eps(np.log10(eps_tot),seg)\n",
      "/Users/nhutter/Documents/Research/lkf_tools/lkf_tools/detection.py:566: RuntimeWarning: invalid value encountered in arccos\n",
      "  angle = np.arccos(angle)/np.pi*180\n",
      "/Users/nhutter/Documents/Research/lkf_tools/lkf_tools/detection.py:1179: RuntimeWarning: divide by zero encountered in log10\n",
      "  eps_mn = compute_mn_eps(np.log10(eps_tot),seg)\n",
      "/Users/nhutter/Documents/Research/lkf_tools/lkf_tools/detection.py:562: RuntimeWarning: invalid value encountered in true_divide\n",
      "  f1 = (f1/np.sqrt(np.sum(f1**2))) # Normalize basis vector\n",
      "/Users/nhutter/Documents/Research/lkf_tools/lkf_tools/detection.py:559: RuntimeWarning: invalid value encountered in true_divide\n",
      "  e1 = (e1/np.sqrt(np.sum(e1**2))) # Normalize basis vector\n",
      "/Users/nhutter/miniforge3/envs/lkf_tools/lib/python3.10/site-packages/numpy/lib/npyio.py:518: VisibleDeprecationWarning: Creating an ndarray from ragged nested sequences (which is a list-or-tuple of lists-or-tuples-or ndarrays with different lengths or shapes) is deprecated. If you meant to do this, you must specify 'dtype=object' when creating the ndarray.\n",
      "  arr = np.asanyarray(arr)\n"
     ]
    },
    {
     "name": "stdout",
     "output_type": "stream",
     "text": [
      "Compute deformation rates and detect features for day 10\n",
      "Start detection routines\n"
     ]
    },
    {
     "name": "stderr",
     "output_type": "stream",
     "text": [
      "/Users/nhutter/Documents/Research/lkf_tools/lkf_tools/detection.py:97: RuntimeWarning: invalid value encountered in true_divide\n",
      "  gaussian_field = field_nonnan_f/mask_nan_f\n",
      "/Users/nhutter/Documents/Research/lkf_tools/lkf_tools/detection.py:1149: RuntimeWarning: Mean of empty slice\n",
      "  eps_tot = np.nanmean(np.stack(eps_tot),axis=0)\n",
      "/Users/nhutter/Documents/Research/lkf_tools/lkf_tools/detection.py:248: RuntimeWarning: invalid value encountered in true_divide\n",
      "  dx = (seg_active[:,:,-1]-seg_active[np.arange(seg_active.shape[0]),:,-num_points])/np.stack([num_points-1,num_points-1],axis=1) - (seg_append-seg_active[:,:,-1])\n",
      "/Users/nhutter/Documents/Research/lkf_tools/lkf_tools/detection.py:1170: RuntimeWarning: divide by zero encountered in log10\n",
      "  eps_mn = compute_mn_eps(np.log10(eps_tot),seg)\n",
      "/Users/nhutter/Documents/Research/lkf_tools/lkf_tools/detection.py:1179: RuntimeWarning: divide by zero encountered in log10\n",
      "  eps_mn = compute_mn_eps(np.log10(eps_tot),seg)\n",
      "/Users/nhutter/Documents/Research/lkf_tools/lkf_tools/detection.py:562: RuntimeWarning: invalid value encountered in true_divide\n",
      "  f1 = (f1/np.sqrt(np.sum(f1**2))) # Normalize basis vector\n",
      "/Users/nhutter/Documents/Research/lkf_tools/lkf_tools/detection.py:559: RuntimeWarning: invalid value encountered in true_divide\n",
      "  e1 = (e1/np.sqrt(np.sum(e1**2))) # Normalize basis vector\n",
      "/Users/nhutter/miniforge3/envs/lkf_tools/lib/python3.10/site-packages/numpy/lib/npyio.py:518: VisibleDeprecationWarning: Creating an ndarray from ragged nested sequences (which is a list-or-tuple of lists-or-tuples-or ndarrays with different lengths or shapes) is deprecated. If you meant to do this, you must specify 'dtype=object' when creating the ndarray.\n",
      "  arr = np.asanyarray(arr)\n"
     ]
    },
    {
     "name": "stdout",
     "output_type": "stream",
     "text": [
      "Compute deformation rates and detect features for day 11\n",
      "Start detection routines\n"
     ]
    },
    {
     "name": "stderr",
     "output_type": "stream",
     "text": [
      "/Users/nhutter/Documents/Research/lkf_tools/lkf_tools/detection.py:97: RuntimeWarning: invalid value encountered in true_divide\n",
      "  gaussian_field = field_nonnan_f/mask_nan_f\n",
      "/Users/nhutter/Documents/Research/lkf_tools/lkf_tools/detection.py:1149: RuntimeWarning: Mean of empty slice\n",
      "  eps_tot = np.nanmean(np.stack(eps_tot),axis=0)\n",
      "/Users/nhutter/Documents/Research/lkf_tools/lkf_tools/detection.py:248: RuntimeWarning: invalid value encountered in true_divide\n",
      "  dx = (seg_active[:,:,-1]-seg_active[np.arange(seg_active.shape[0]),:,-num_points])/np.stack([num_points-1,num_points-1],axis=1) - (seg_append-seg_active[:,:,-1])\n",
      "/Users/nhutter/Documents/Research/lkf_tools/lkf_tools/detection.py:566: RuntimeWarning: invalid value encountered in arccos\n",
      "  angle = np.arccos(angle)/np.pi*180\n",
      "/Users/nhutter/Documents/Research/lkf_tools/lkf_tools/detection.py:562: RuntimeWarning: invalid value encountered in true_divide\n",
      "  f1 = (f1/np.sqrt(np.sum(f1**2))) # Normalize basis vector\n",
      "/Users/nhutter/Documents/Research/lkf_tools/lkf_tools/detection.py:559: RuntimeWarning: invalid value encountered in true_divide\n",
      "  e1 = (e1/np.sqrt(np.sum(e1**2))) # Normalize basis vector\n",
      "/Users/nhutter/miniforge3/envs/lkf_tools/lib/python3.10/site-packages/numpy/lib/npyio.py:518: VisibleDeprecationWarning: Creating an ndarray from ragged nested sequences (which is a list-or-tuple of lists-or-tuples-or ndarrays with different lengths or shapes) is deprecated. If you meant to do this, you must specify 'dtype=object' when creating the ndarray.\n",
      "  arr = np.asanyarray(arr)\n"
     ]
    },
    {
     "name": "stdout",
     "output_type": "stream",
     "text": [
      "Compute deformation rates and detect features for day 12\n",
      "Start detection routines\n"
     ]
    },
    {
     "name": "stderr",
     "output_type": "stream",
     "text": [
      "/Users/nhutter/Documents/Research/lkf_tools/lkf_tools/detection.py:97: RuntimeWarning: invalid value encountered in true_divide\n",
      "  gaussian_field = field_nonnan_f/mask_nan_f\n",
      "/Users/nhutter/Documents/Research/lkf_tools/lkf_tools/detection.py:1149: RuntimeWarning: Mean of empty slice\n",
      "  eps_tot = np.nanmean(np.stack(eps_tot),axis=0)\n",
      "/Users/nhutter/Documents/Research/lkf_tools/lkf_tools/detection.py:248: RuntimeWarning: invalid value encountered in true_divide\n",
      "  dx = (seg_active[:,:,-1]-seg_active[np.arange(seg_active.shape[0]),:,-num_points])/np.stack([num_points-1,num_points-1],axis=1) - (seg_append-seg_active[:,:,-1])\n",
      "/Users/nhutter/Documents/Research/lkf_tools/lkf_tools/detection.py:1170: RuntimeWarning: divide by zero encountered in log10\n",
      "  eps_mn = compute_mn_eps(np.log10(eps_tot),seg)\n",
      "/Users/nhutter/Documents/Research/lkf_tools/lkf_tools/detection.py:1179: RuntimeWarning: divide by zero encountered in log10\n",
      "  eps_mn = compute_mn_eps(np.log10(eps_tot),seg)\n",
      "/Users/nhutter/Documents/Research/lkf_tools/lkf_tools/detection.py:562: RuntimeWarning: invalid value encountered in true_divide\n",
      "  f1 = (f1/np.sqrt(np.sum(f1**2))) # Normalize basis vector\n",
      "/Users/nhutter/Documents/Research/lkf_tools/lkf_tools/detection.py:559: RuntimeWarning: invalid value encountered in true_divide\n",
      "  e1 = (e1/np.sqrt(np.sum(e1**2))) # Normalize basis vector\n",
      "/Users/nhutter/miniforge3/envs/lkf_tools/lib/python3.10/site-packages/numpy/lib/npyio.py:518: VisibleDeprecationWarning: Creating an ndarray from ragged nested sequences (which is a list-or-tuple of lists-or-tuples-or ndarrays with different lengths or shapes) is deprecated. If you meant to do this, you must specify 'dtype=object' when creating the ndarray.\n",
      "  arr = np.asanyarray(arr)\n"
     ]
    },
    {
     "name": "stdout",
     "output_type": "stream",
     "text": [
      "Compute deformation rates and detect features for day 13\n",
      "Start detection routines\n"
     ]
    },
    {
     "name": "stderr",
     "output_type": "stream",
     "text": [
      "/Users/nhutter/Documents/Research/lkf_tools/lkf_tools/detection.py:97: RuntimeWarning: invalid value encountered in true_divide\n",
      "  gaussian_field = field_nonnan_f/mask_nan_f\n",
      "/Users/nhutter/Documents/Research/lkf_tools/lkf_tools/detection.py:1149: RuntimeWarning: Mean of empty slice\n",
      "  eps_tot = np.nanmean(np.stack(eps_tot),axis=0)\n",
      "/Users/nhutter/Documents/Research/lkf_tools/lkf_tools/detection.py:248: RuntimeWarning: invalid value encountered in true_divide\n",
      "  dx = (seg_active[:,:,-1]-seg_active[np.arange(seg_active.shape[0]),:,-num_points])/np.stack([num_points-1,num_points-1],axis=1) - (seg_append-seg_active[:,:,-1])\n",
      "/Users/nhutter/Documents/Research/lkf_tools/lkf_tools/detection.py:1170: RuntimeWarning: divide by zero encountered in log10\n",
      "  eps_mn = compute_mn_eps(np.log10(eps_tot),seg)\n",
      "/Users/nhutter/Documents/Research/lkf_tools/lkf_tools/detection.py:566: RuntimeWarning: invalid value encountered in arccos\n",
      "  angle = np.arccos(angle)/np.pi*180\n",
      "/Users/nhutter/Documents/Research/lkf_tools/lkf_tools/detection.py:1179: RuntimeWarning: divide by zero encountered in log10\n",
      "  eps_mn = compute_mn_eps(np.log10(eps_tot),seg)\n",
      "/Users/nhutter/Documents/Research/lkf_tools/lkf_tools/detection.py:562: RuntimeWarning: invalid value encountered in true_divide\n",
      "  f1 = (f1/np.sqrt(np.sum(f1**2))) # Normalize basis vector\n",
      "/Users/nhutter/Documents/Research/lkf_tools/lkf_tools/detection.py:559: RuntimeWarning: invalid value encountered in true_divide\n",
      "  e1 = (e1/np.sqrt(np.sum(e1**2))) # Normalize basis vector\n",
      "/Users/nhutter/miniforge3/envs/lkf_tools/lib/python3.10/site-packages/numpy/lib/npyio.py:518: VisibleDeprecationWarning: Creating an ndarray from ragged nested sequences (which is a list-or-tuple of lists-or-tuples-or ndarrays with different lengths or shapes) is deprecated. If you meant to do this, you must specify 'dtype=object' when creating the ndarray.\n",
      "  arr = np.asanyarray(arr)\n"
     ]
    },
    {
     "name": "stdout",
     "output_type": "stream",
     "text": [
      "Compute deformation rates and detect features for day 14\n",
      "Start detection routines\n"
     ]
    },
    {
     "name": "stderr",
     "output_type": "stream",
     "text": [
      "/Users/nhutter/Documents/Research/lkf_tools/lkf_tools/detection.py:97: RuntimeWarning: invalid value encountered in true_divide\n",
      "  gaussian_field = field_nonnan_f/mask_nan_f\n",
      "/Users/nhutter/Documents/Research/lkf_tools/lkf_tools/detection.py:1149: RuntimeWarning: Mean of empty slice\n",
      "  eps_tot = np.nanmean(np.stack(eps_tot),axis=0)\n",
      "/Users/nhutter/Documents/Research/lkf_tools/lkf_tools/detection.py:248: RuntimeWarning: invalid value encountered in true_divide\n",
      "  dx = (seg_active[:,:,-1]-seg_active[np.arange(seg_active.shape[0]),:,-num_points])/np.stack([num_points-1,num_points-1],axis=1) - (seg_append-seg_active[:,:,-1])\n",
      "/Users/nhutter/Documents/Research/lkf_tools/lkf_tools/detection.py:1170: RuntimeWarning: divide by zero encountered in log10\n",
      "  eps_mn = compute_mn_eps(np.log10(eps_tot),seg)\n",
      "/Users/nhutter/Documents/Research/lkf_tools/lkf_tools/detection.py:566: RuntimeWarning: invalid value encountered in arccos\n",
      "  angle = np.arccos(angle)/np.pi*180\n",
      "/Users/nhutter/Documents/Research/lkf_tools/lkf_tools/detection.py:1179: RuntimeWarning: divide by zero encountered in log10\n",
      "  eps_mn = compute_mn_eps(np.log10(eps_tot),seg)\n",
      "/Users/nhutter/Documents/Research/lkf_tools/lkf_tools/detection.py:559: RuntimeWarning: invalid value encountered in true_divide\n",
      "  e1 = (e1/np.sqrt(np.sum(e1**2))) # Normalize basis vector\n",
      "/Users/nhutter/Documents/Research/lkf_tools/lkf_tools/detection.py:562: RuntimeWarning: invalid value encountered in true_divide\n",
      "  f1 = (f1/np.sqrt(np.sum(f1**2))) # Normalize basis vector\n",
      "/Users/nhutter/miniforge3/envs/lkf_tools/lib/python3.10/site-packages/numpy/lib/npyio.py:518: VisibleDeprecationWarning: Creating an ndarray from ragged nested sequences (which is a list-or-tuple of lists-or-tuples-or ndarrays with different lengths or shapes) is deprecated. If you meant to do this, you must specify 'dtype=object' when creating the ndarray.\n",
      "  arr = np.asanyarray(arr)\n"
     ]
    },
    {
     "name": "stdout",
     "output_type": "stream",
     "text": [
      "Compute deformation rates and detect features for day 15\n",
      "Start detection routines\n"
     ]
    },
    {
     "name": "stderr",
     "output_type": "stream",
     "text": [
      "/Users/nhutter/Documents/Research/lkf_tools/lkf_tools/detection.py:97: RuntimeWarning: invalid value encountered in true_divide\n",
      "  gaussian_field = field_nonnan_f/mask_nan_f\n",
      "/Users/nhutter/Documents/Research/lkf_tools/lkf_tools/detection.py:1149: RuntimeWarning: Mean of empty slice\n",
      "  eps_tot = np.nanmean(np.stack(eps_tot),axis=0)\n",
      "/Users/nhutter/Documents/Research/lkf_tools/lkf_tools/detection.py:248: RuntimeWarning: invalid value encountered in true_divide\n",
      "  dx = (seg_active[:,:,-1]-seg_active[np.arange(seg_active.shape[0]),:,-num_points])/np.stack([num_points-1,num_points-1],axis=1) - (seg_append-seg_active[:,:,-1])\n",
      "/Users/nhutter/Documents/Research/lkf_tools/lkf_tools/detection.py:1170: RuntimeWarning: divide by zero encountered in log10\n",
      "  eps_mn = compute_mn_eps(np.log10(eps_tot),seg)\n",
      "/Users/nhutter/Documents/Research/lkf_tools/lkf_tools/detection.py:1179: RuntimeWarning: divide by zero encountered in log10\n",
      "  eps_mn = compute_mn_eps(np.log10(eps_tot),seg)\n",
      "/Users/nhutter/Documents/Research/lkf_tools/lkf_tools/detection.py:559: RuntimeWarning: invalid value encountered in true_divide\n",
      "  e1 = (e1/np.sqrt(np.sum(e1**2))) # Normalize basis vector\n",
      "/Users/nhutter/Documents/Research/lkf_tools/lkf_tools/detection.py:562: RuntimeWarning: invalid value encountered in true_divide\n",
      "  f1 = (f1/np.sqrt(np.sum(f1**2))) # Normalize basis vector\n",
      "/Users/nhutter/miniforge3/envs/lkf_tools/lib/python3.10/site-packages/numpy/lib/npyio.py:518: VisibleDeprecationWarning: Creating an ndarray from ragged nested sequences (which is a list-or-tuple of lists-or-tuples-or ndarrays with different lengths or shapes) is deprecated. If you meant to do this, you must specify 'dtype=object' when creating the ndarray.\n",
      "  arr = np.asanyarray(arr)\n"
     ]
    },
    {
     "name": "stdout",
     "output_type": "stream",
     "text": [
      "Compute deformation rates and detect features for day 16\n",
      "Start detection routines\n"
     ]
    },
    {
     "name": "stderr",
     "output_type": "stream",
     "text": [
      "/Users/nhutter/Documents/Research/lkf_tools/lkf_tools/detection.py:97: RuntimeWarning: invalid value encountered in true_divide\n",
      "  gaussian_field = field_nonnan_f/mask_nan_f\n",
      "/Users/nhutter/Documents/Research/lkf_tools/lkf_tools/detection.py:1149: RuntimeWarning: Mean of empty slice\n",
      "  eps_tot = np.nanmean(np.stack(eps_tot),axis=0)\n",
      "/Users/nhutter/Documents/Research/lkf_tools/lkf_tools/detection.py:248: RuntimeWarning: invalid value encountered in true_divide\n",
      "  dx = (seg_active[:,:,-1]-seg_active[np.arange(seg_active.shape[0]),:,-num_points])/np.stack([num_points-1,num_points-1],axis=1) - (seg_append-seg_active[:,:,-1])\n",
      "/Users/nhutter/Documents/Research/lkf_tools/lkf_tools/detection.py:1170: RuntimeWarning: divide by zero encountered in log10\n",
      "  eps_mn = compute_mn_eps(np.log10(eps_tot),seg)\n",
      "/Users/nhutter/Documents/Research/lkf_tools/lkf_tools/detection.py:1179: RuntimeWarning: divide by zero encountered in log10\n",
      "  eps_mn = compute_mn_eps(np.log10(eps_tot),seg)\n",
      "/Users/nhutter/Documents/Research/lkf_tools/lkf_tools/detection.py:562: RuntimeWarning: invalid value encountered in true_divide\n",
      "  f1 = (f1/np.sqrt(np.sum(f1**2))) # Normalize basis vector\n",
      "/Users/nhutter/Documents/Research/lkf_tools/lkf_tools/detection.py:559: RuntimeWarning: invalid value encountered in true_divide\n",
      "  e1 = (e1/np.sqrt(np.sum(e1**2))) # Normalize basis vector\n",
      "/Users/nhutter/miniforge3/envs/lkf_tools/lib/python3.10/site-packages/numpy/lib/npyio.py:518: VisibleDeprecationWarning: Creating an ndarray from ragged nested sequences (which is a list-or-tuple of lists-or-tuples-or ndarrays with different lengths or shapes) is deprecated. If you meant to do this, you must specify 'dtype=object' when creating the ndarray.\n",
      "  arr = np.asanyarray(arr)\n"
     ]
    },
    {
     "name": "stdout",
     "output_type": "stream",
     "text": [
      "Compute deformation rates and detect features for day 17\n",
      "Start detection routines\n"
     ]
    },
    {
     "name": "stderr",
     "output_type": "stream",
     "text": [
      "/Users/nhutter/Documents/Research/lkf_tools/lkf_tools/detection.py:97: RuntimeWarning: invalid value encountered in true_divide\n",
      "  gaussian_field = field_nonnan_f/mask_nan_f\n",
      "/Users/nhutter/Documents/Research/lkf_tools/lkf_tools/detection.py:1149: RuntimeWarning: Mean of empty slice\n",
      "  eps_tot = np.nanmean(np.stack(eps_tot),axis=0)\n",
      "/Users/nhutter/Documents/Research/lkf_tools/lkf_tools/detection.py:248: RuntimeWarning: invalid value encountered in true_divide\n",
      "  dx = (seg_active[:,:,-1]-seg_active[np.arange(seg_active.shape[0]),:,-num_points])/np.stack([num_points-1,num_points-1],axis=1) - (seg_append-seg_active[:,:,-1])\n",
      "/Users/nhutter/Documents/Research/lkf_tools/lkf_tools/detection.py:1170: RuntimeWarning: divide by zero encountered in log10\n",
      "  eps_mn = compute_mn_eps(np.log10(eps_tot),seg)\n",
      "/Users/nhutter/Documents/Research/lkf_tools/lkf_tools/detection.py:1179: RuntimeWarning: divide by zero encountered in log10\n",
      "  eps_mn = compute_mn_eps(np.log10(eps_tot),seg)\n",
      "/Users/nhutter/Documents/Research/lkf_tools/lkf_tools/detection.py:562: RuntimeWarning: invalid value encountered in true_divide\n",
      "  f1 = (f1/np.sqrt(np.sum(f1**2))) # Normalize basis vector\n",
      "/Users/nhutter/Documents/Research/lkf_tools/lkf_tools/detection.py:559: RuntimeWarning: invalid value encountered in true_divide\n",
      "  e1 = (e1/np.sqrt(np.sum(e1**2))) # Normalize basis vector\n",
      "/Users/nhutter/miniforge3/envs/lkf_tools/lib/python3.10/site-packages/numpy/lib/npyio.py:518: VisibleDeprecationWarning: Creating an ndarray from ragged nested sequences (which is a list-or-tuple of lists-or-tuples-or ndarrays with different lengths or shapes) is deprecated. If you meant to do this, you must specify 'dtype=object' when creating the ndarray.\n",
      "  arr = np.asanyarray(arr)\n"
     ]
    },
    {
     "name": "stdout",
     "output_type": "stream",
     "text": [
      "Compute deformation rates and detect features for day 18\n",
      "Start detection routines\n"
     ]
    },
    {
     "name": "stderr",
     "output_type": "stream",
     "text": [
      "/Users/nhutter/Documents/Research/lkf_tools/lkf_tools/detection.py:97: RuntimeWarning: invalid value encountered in true_divide\n",
      "  gaussian_field = field_nonnan_f/mask_nan_f\n",
      "/Users/nhutter/Documents/Research/lkf_tools/lkf_tools/detection.py:1149: RuntimeWarning: Mean of empty slice\n",
      "  eps_tot = np.nanmean(np.stack(eps_tot),axis=0)\n",
      "/Users/nhutter/Documents/Research/lkf_tools/lkf_tools/detection.py:248: RuntimeWarning: invalid value encountered in true_divide\n",
      "  dx = (seg_active[:,:,-1]-seg_active[np.arange(seg_active.shape[0]),:,-num_points])/np.stack([num_points-1,num_points-1],axis=1) - (seg_append-seg_active[:,:,-1])\n",
      "/Users/nhutter/Documents/Research/lkf_tools/lkf_tools/detection.py:1170: RuntimeWarning: divide by zero encountered in log10\n",
      "  eps_mn = compute_mn_eps(np.log10(eps_tot),seg)\n",
      "/Users/nhutter/Documents/Research/lkf_tools/lkf_tools/detection.py:566: RuntimeWarning: invalid value encountered in arccos\n",
      "  angle = np.arccos(angle)/np.pi*180\n",
      "/Users/nhutter/Documents/Research/lkf_tools/lkf_tools/detection.py:1179: RuntimeWarning: divide by zero encountered in log10\n",
      "  eps_mn = compute_mn_eps(np.log10(eps_tot),seg)\n",
      "/Users/nhutter/Documents/Research/lkf_tools/lkf_tools/detection.py:559: RuntimeWarning: invalid value encountered in true_divide\n",
      "  e1 = (e1/np.sqrt(np.sum(e1**2))) # Normalize basis vector\n",
      "/Users/nhutter/Documents/Research/lkf_tools/lkf_tools/detection.py:562: RuntimeWarning: invalid value encountered in true_divide\n",
      "  f1 = (f1/np.sqrt(np.sum(f1**2))) # Normalize basis vector\n",
      "/Users/nhutter/miniforge3/envs/lkf_tools/lib/python3.10/site-packages/numpy/lib/npyio.py:518: VisibleDeprecationWarning: Creating an ndarray from ragged nested sequences (which is a list-or-tuple of lists-or-tuples-or ndarrays with different lengths or shapes) is deprecated. If you meant to do this, you must specify 'dtype=object' when creating the ndarray.\n",
      "  arr = np.asanyarray(arr)\n"
     ]
    },
    {
     "name": "stdout",
     "output_type": "stream",
     "text": [
      "Compute deformation rates and detect features for day 19\n",
      "Start detection routines\n"
     ]
    },
    {
     "name": "stderr",
     "output_type": "stream",
     "text": [
      "/Users/nhutter/Documents/Research/lkf_tools/lkf_tools/detection.py:97: RuntimeWarning: invalid value encountered in true_divide\n",
      "  gaussian_field = field_nonnan_f/mask_nan_f\n",
      "/Users/nhutter/Documents/Research/lkf_tools/lkf_tools/detection.py:1149: RuntimeWarning: Mean of empty slice\n",
      "  eps_tot = np.nanmean(np.stack(eps_tot),axis=0)\n",
      "/Users/nhutter/Documents/Research/lkf_tools/lkf_tools/detection.py:248: RuntimeWarning: invalid value encountered in true_divide\n",
      "  dx = (seg_active[:,:,-1]-seg_active[np.arange(seg_active.shape[0]),:,-num_points])/np.stack([num_points-1,num_points-1],axis=1) - (seg_append-seg_active[:,:,-1])\n",
      "/Users/nhutter/Documents/Research/lkf_tools/lkf_tools/detection.py:562: RuntimeWarning: invalid value encountered in true_divide\n",
      "  f1 = (f1/np.sqrt(np.sum(f1**2))) # Normalize basis vector\n",
      "/Users/nhutter/Documents/Research/lkf_tools/lkf_tools/detection.py:559: RuntimeWarning: invalid value encountered in true_divide\n",
      "  e1 = (e1/np.sqrt(np.sum(e1**2))) # Normalize basis vector\n",
      "/Users/nhutter/miniforge3/envs/lkf_tools/lib/python3.10/site-packages/numpy/lib/npyio.py:518: VisibleDeprecationWarning: Creating an ndarray from ragged nested sequences (which is a list-or-tuple of lists-or-tuples-or ndarrays with different lengths or shapes) is deprecated. If you meant to do this, you must specify 'dtype=object' when creating the ndarray.\n",
      "  arr = np.asanyarray(arr)\n"
     ]
    },
    {
     "name": "stdout",
     "output_type": "stream",
     "text": [
      "Compute deformation rates and detect features for day 20\n",
      "Start detection routines\n"
     ]
    },
    {
     "name": "stderr",
     "output_type": "stream",
     "text": [
      "/Users/nhutter/Documents/Research/lkf_tools/lkf_tools/detection.py:97: RuntimeWarning: invalid value encountered in true_divide\n",
      "  gaussian_field = field_nonnan_f/mask_nan_f\n",
      "/Users/nhutter/Documents/Research/lkf_tools/lkf_tools/detection.py:1149: RuntimeWarning: Mean of empty slice\n",
      "  eps_tot = np.nanmean(np.stack(eps_tot),axis=0)\n",
      "/Users/nhutter/Documents/Research/lkf_tools/lkf_tools/detection.py:248: RuntimeWarning: invalid value encountered in true_divide\n",
      "  dx = (seg_active[:,:,-1]-seg_active[np.arange(seg_active.shape[0]),:,-num_points])/np.stack([num_points-1,num_points-1],axis=1) - (seg_append-seg_active[:,:,-1])\n",
      "/Users/nhutter/Documents/Research/lkf_tools/lkf_tools/detection.py:1170: RuntimeWarning: divide by zero encountered in log10\n",
      "  eps_mn = compute_mn_eps(np.log10(eps_tot),seg)\n",
      "/Users/nhutter/Documents/Research/lkf_tools/lkf_tools/detection.py:566: RuntimeWarning: invalid value encountered in arccos\n",
      "  angle = np.arccos(angle)/np.pi*180\n",
      "/Users/nhutter/Documents/Research/lkf_tools/lkf_tools/detection.py:1179: RuntimeWarning: divide by zero encountered in log10\n",
      "  eps_mn = compute_mn_eps(np.log10(eps_tot),seg)\n",
      "/Users/nhutter/Documents/Research/lkf_tools/lkf_tools/detection.py:559: RuntimeWarning: invalid value encountered in true_divide\n",
      "  e1 = (e1/np.sqrt(np.sum(e1**2))) # Normalize basis vector\n",
      "/Users/nhutter/Documents/Research/lkf_tools/lkf_tools/detection.py:562: RuntimeWarning: invalid value encountered in true_divide\n",
      "  f1 = (f1/np.sqrt(np.sum(f1**2))) # Normalize basis vector\n",
      "/Users/nhutter/miniforge3/envs/lkf_tools/lib/python3.10/site-packages/numpy/lib/npyio.py:518: VisibleDeprecationWarning: Creating an ndarray from ragged nested sequences (which is a list-or-tuple of lists-or-tuples-or ndarrays with different lengths or shapes) is deprecated. If you meant to do this, you must specify 'dtype=object' when creating the ndarray.\n",
      "  arr = np.asanyarray(arr)\n"
     ]
    },
    {
     "name": "stdout",
     "output_type": "stream",
     "text": [
      "Compute deformation rates and detect features for day 21\n",
      "Start detection routines\n"
     ]
    },
    {
     "name": "stderr",
     "output_type": "stream",
     "text": [
      "/Users/nhutter/Documents/Research/lkf_tools/lkf_tools/detection.py:97: RuntimeWarning: invalid value encountered in true_divide\n",
      "  gaussian_field = field_nonnan_f/mask_nan_f\n",
      "/Users/nhutter/Documents/Research/lkf_tools/lkf_tools/detection.py:1149: RuntimeWarning: Mean of empty slice\n",
      "  eps_tot = np.nanmean(np.stack(eps_tot),axis=0)\n",
      "/Users/nhutter/Documents/Research/lkf_tools/lkf_tools/detection.py:248: RuntimeWarning: invalid value encountered in true_divide\n",
      "  dx = (seg_active[:,:,-1]-seg_active[np.arange(seg_active.shape[0]),:,-num_points])/np.stack([num_points-1,num_points-1],axis=1) - (seg_append-seg_active[:,:,-1])\n",
      "/Users/nhutter/Documents/Research/lkf_tools/lkf_tools/detection.py:1170: RuntimeWarning: divide by zero encountered in log10\n",
      "  eps_mn = compute_mn_eps(np.log10(eps_tot),seg)\n",
      "/Users/nhutter/Documents/Research/lkf_tools/lkf_tools/detection.py:1179: RuntimeWarning: divide by zero encountered in log10\n",
      "  eps_mn = compute_mn_eps(np.log10(eps_tot),seg)\n",
      "/Users/nhutter/Documents/Research/lkf_tools/lkf_tools/detection.py:559: RuntimeWarning: invalid value encountered in true_divide\n",
      "  e1 = (e1/np.sqrt(np.sum(e1**2))) # Normalize basis vector\n",
      "/Users/nhutter/Documents/Research/lkf_tools/lkf_tools/detection.py:562: RuntimeWarning: invalid value encountered in true_divide\n",
      "  f1 = (f1/np.sqrt(np.sum(f1**2))) # Normalize basis vector\n",
      "/Users/nhutter/miniforge3/envs/lkf_tools/lib/python3.10/site-packages/numpy/lib/npyio.py:518: VisibleDeprecationWarning: Creating an ndarray from ragged nested sequences (which is a list-or-tuple of lists-or-tuples-or ndarrays with different lengths or shapes) is deprecated. If you meant to do this, you must specify 'dtype=object' when creating the ndarray.\n",
      "  arr = np.asanyarray(arr)\n"
     ]
    },
    {
     "name": "stdout",
     "output_type": "stream",
     "text": [
      "Compute deformation rates and detect features for day 22\n",
      "Start detection routines\n"
     ]
    },
    {
     "name": "stderr",
     "output_type": "stream",
     "text": [
      "/Users/nhutter/Documents/Research/lkf_tools/lkf_tools/detection.py:97: RuntimeWarning: invalid value encountered in true_divide\n",
      "  gaussian_field = field_nonnan_f/mask_nan_f\n",
      "/Users/nhutter/Documents/Research/lkf_tools/lkf_tools/detection.py:1149: RuntimeWarning: Mean of empty slice\n",
      "  eps_tot = np.nanmean(np.stack(eps_tot),axis=0)\n",
      "/Users/nhutter/Documents/Research/lkf_tools/lkf_tools/detection.py:248: RuntimeWarning: invalid value encountered in true_divide\n",
      "  dx = (seg_active[:,:,-1]-seg_active[np.arange(seg_active.shape[0]),:,-num_points])/np.stack([num_points-1,num_points-1],axis=1) - (seg_append-seg_active[:,:,-1])\n",
      "/Users/nhutter/Documents/Research/lkf_tools/lkf_tools/detection.py:1170: RuntimeWarning: divide by zero encountered in log10\n",
      "  eps_mn = compute_mn_eps(np.log10(eps_tot),seg)\n",
      "/Users/nhutter/Documents/Research/lkf_tools/lkf_tools/detection.py:566: RuntimeWarning: invalid value encountered in arccos\n",
      "  angle = np.arccos(angle)/np.pi*180\n",
      "/Users/nhutter/Documents/Research/lkf_tools/lkf_tools/detection.py:1179: RuntimeWarning: divide by zero encountered in log10\n",
      "  eps_mn = compute_mn_eps(np.log10(eps_tot),seg)\n",
      "/Users/nhutter/Documents/Research/lkf_tools/lkf_tools/detection.py:562: RuntimeWarning: invalid value encountered in true_divide\n",
      "  f1 = (f1/np.sqrt(np.sum(f1**2))) # Normalize basis vector\n",
      "/Users/nhutter/Documents/Research/lkf_tools/lkf_tools/detection.py:559: RuntimeWarning: invalid value encountered in true_divide\n",
      "  e1 = (e1/np.sqrt(np.sum(e1**2))) # Normalize basis vector\n",
      "/Users/nhutter/miniforge3/envs/lkf_tools/lib/python3.10/site-packages/numpy/lib/npyio.py:518: VisibleDeprecationWarning: Creating an ndarray from ragged nested sequences (which is a list-or-tuple of lists-or-tuples-or ndarrays with different lengths or shapes) is deprecated. If you meant to do this, you must specify 'dtype=object' when creating the ndarray.\n",
      "  arr = np.asanyarray(arr)\n"
     ]
    },
    {
     "name": "stdout",
     "output_type": "stream",
     "text": [
      "Compute deformation rates and detect features for day 23\n",
      "Start detection routines\n"
     ]
    },
    {
     "name": "stderr",
     "output_type": "stream",
     "text": [
      "/Users/nhutter/Documents/Research/lkf_tools/lkf_tools/detection.py:97: RuntimeWarning: invalid value encountered in true_divide\n",
      "  gaussian_field = field_nonnan_f/mask_nan_f\n",
      "/Users/nhutter/Documents/Research/lkf_tools/lkf_tools/detection.py:1149: RuntimeWarning: Mean of empty slice\n",
      "  eps_tot = np.nanmean(np.stack(eps_tot),axis=0)\n",
      "/Users/nhutter/Documents/Research/lkf_tools/lkf_tools/detection.py:248: RuntimeWarning: invalid value encountered in true_divide\n",
      "  dx = (seg_active[:,:,-1]-seg_active[np.arange(seg_active.shape[0]),:,-num_points])/np.stack([num_points-1,num_points-1],axis=1) - (seg_append-seg_active[:,:,-1])\n",
      "/Users/nhutter/Documents/Research/lkf_tools/lkf_tools/detection.py:1170: RuntimeWarning: divide by zero encountered in log10\n",
      "  eps_mn = compute_mn_eps(np.log10(eps_tot),seg)\n",
      "/Users/nhutter/Documents/Research/lkf_tools/lkf_tools/detection.py:1179: RuntimeWarning: divide by zero encountered in log10\n",
      "  eps_mn = compute_mn_eps(np.log10(eps_tot),seg)\n",
      "/Users/nhutter/Documents/Research/lkf_tools/lkf_tools/detection.py:562: RuntimeWarning: invalid value encountered in true_divide\n",
      "  f1 = (f1/np.sqrt(np.sum(f1**2))) # Normalize basis vector\n",
      "/Users/nhutter/Documents/Research/lkf_tools/lkf_tools/detection.py:559: RuntimeWarning: invalid value encountered in true_divide\n",
      "  e1 = (e1/np.sqrt(np.sum(e1**2))) # Normalize basis vector\n",
      "/Users/nhutter/miniforge3/envs/lkf_tools/lib/python3.10/site-packages/numpy/lib/npyio.py:518: VisibleDeprecationWarning: Creating an ndarray from ragged nested sequences (which is a list-or-tuple of lists-or-tuples-or ndarrays with different lengths or shapes) is deprecated. If you meant to do this, you must specify 'dtype=object' when creating the ndarray.\n",
      "  arr = np.asanyarray(arr)\n"
     ]
    },
    {
     "name": "stdout",
     "output_type": "stream",
     "text": [
      "Compute deformation rates and detect features for day 24\n",
      "Start detection routines\n"
     ]
    },
    {
     "name": "stderr",
     "output_type": "stream",
     "text": [
      "/Users/nhutter/Documents/Research/lkf_tools/lkf_tools/detection.py:97: RuntimeWarning: invalid value encountered in true_divide\n",
      "  gaussian_field = field_nonnan_f/mask_nan_f\n",
      "/Users/nhutter/Documents/Research/lkf_tools/lkf_tools/detection.py:1149: RuntimeWarning: Mean of empty slice\n",
      "  eps_tot = np.nanmean(np.stack(eps_tot),axis=0)\n",
      "/Users/nhutter/Documents/Research/lkf_tools/lkf_tools/detection.py:248: RuntimeWarning: invalid value encountered in true_divide\n",
      "  dx = (seg_active[:,:,-1]-seg_active[np.arange(seg_active.shape[0]),:,-num_points])/np.stack([num_points-1,num_points-1],axis=1) - (seg_append-seg_active[:,:,-1])\n",
      "/Users/nhutter/Documents/Research/lkf_tools/lkf_tools/detection.py:1170: RuntimeWarning: divide by zero encountered in log10\n",
      "  eps_mn = compute_mn_eps(np.log10(eps_tot),seg)\n",
      "/Users/nhutter/Documents/Research/lkf_tools/lkf_tools/detection.py:566: RuntimeWarning: invalid value encountered in arccos\n",
      "  angle = np.arccos(angle)/np.pi*180\n",
      "/Users/nhutter/Documents/Research/lkf_tools/lkf_tools/detection.py:1179: RuntimeWarning: divide by zero encountered in log10\n",
      "  eps_mn = compute_mn_eps(np.log10(eps_tot),seg)\n",
      "/Users/nhutter/Documents/Research/lkf_tools/lkf_tools/detection.py:562: RuntimeWarning: invalid value encountered in true_divide\n",
      "  f1 = (f1/np.sqrt(np.sum(f1**2))) # Normalize basis vector\n",
      "/Users/nhutter/Documents/Research/lkf_tools/lkf_tools/detection.py:559: RuntimeWarning: invalid value encountered in true_divide\n",
      "  e1 = (e1/np.sqrt(np.sum(e1**2))) # Normalize basis vector\n",
      "/Users/nhutter/miniforge3/envs/lkf_tools/lib/python3.10/site-packages/numpy/lib/npyio.py:518: VisibleDeprecationWarning: Creating an ndarray from ragged nested sequences (which is a list-or-tuple of lists-or-tuples-or ndarrays with different lengths or shapes) is deprecated. If you meant to do this, you must specify 'dtype=object' when creating the ndarray.\n",
      "  arr = np.asanyarray(arr)\n"
     ]
    },
    {
     "name": "stdout",
     "output_type": "stream",
     "text": [
      "Compute deformation rates and detect features for day 25\n",
      "Start detection routines\n"
     ]
    },
    {
     "name": "stderr",
     "output_type": "stream",
     "text": [
      "/Users/nhutter/Documents/Research/lkf_tools/lkf_tools/detection.py:97: RuntimeWarning: invalid value encountered in true_divide\n",
      "  gaussian_field = field_nonnan_f/mask_nan_f\n",
      "/Users/nhutter/Documents/Research/lkf_tools/lkf_tools/detection.py:1149: RuntimeWarning: Mean of empty slice\n",
      "  eps_tot = np.nanmean(np.stack(eps_tot),axis=0)\n",
      "/Users/nhutter/Documents/Research/lkf_tools/lkf_tools/detection.py:248: RuntimeWarning: invalid value encountered in true_divide\n",
      "  dx = (seg_active[:,:,-1]-seg_active[np.arange(seg_active.shape[0]),:,-num_points])/np.stack([num_points-1,num_points-1],axis=1) - (seg_append-seg_active[:,:,-1])\n",
      "/Users/nhutter/Documents/Research/lkf_tools/lkf_tools/detection.py:559: RuntimeWarning: invalid value encountered in true_divide\n",
      "  e1 = (e1/np.sqrt(np.sum(e1**2))) # Normalize basis vector\n",
      "/Users/nhutter/Documents/Research/lkf_tools/lkf_tools/detection.py:562: RuntimeWarning: invalid value encountered in true_divide\n",
      "  f1 = (f1/np.sqrt(np.sum(f1**2))) # Normalize basis vector\n",
      "/Users/nhutter/miniforge3/envs/lkf_tools/lib/python3.10/site-packages/numpy/lib/npyio.py:518: VisibleDeprecationWarning: Creating an ndarray from ragged nested sequences (which is a list-or-tuple of lists-or-tuples-or ndarrays with different lengths or shapes) is deprecated. If you meant to do this, you must specify 'dtype=object' when creating the ndarray.\n",
      "  arr = np.asanyarray(arr)\n"
     ]
    },
    {
     "name": "stdout",
     "output_type": "stream",
     "text": [
      "Compute deformation rates and detect features for day 26\n",
      "Start detection routines\n"
     ]
    },
    {
     "name": "stderr",
     "output_type": "stream",
     "text": [
      "/Users/nhutter/Documents/Research/lkf_tools/lkf_tools/detection.py:97: RuntimeWarning: invalid value encountered in true_divide\n",
      "  gaussian_field = field_nonnan_f/mask_nan_f\n",
      "/Users/nhutter/Documents/Research/lkf_tools/lkf_tools/detection.py:1149: RuntimeWarning: Mean of empty slice\n",
      "  eps_tot = np.nanmean(np.stack(eps_tot),axis=0)\n",
      "/Users/nhutter/Documents/Research/lkf_tools/lkf_tools/detection.py:248: RuntimeWarning: invalid value encountered in true_divide\n",
      "  dx = (seg_active[:,:,-1]-seg_active[np.arange(seg_active.shape[0]),:,-num_points])/np.stack([num_points-1,num_points-1],axis=1) - (seg_append-seg_active[:,:,-1])\n",
      "/Users/nhutter/Documents/Research/lkf_tools/lkf_tools/detection.py:566: RuntimeWarning: invalid value encountered in arccos\n",
      "  angle = np.arccos(angle)/np.pi*180\n",
      "/Users/nhutter/Documents/Research/lkf_tools/lkf_tools/detection.py:562: RuntimeWarning: invalid value encountered in true_divide\n",
      "  f1 = (f1/np.sqrt(np.sum(f1**2))) # Normalize basis vector\n",
      "/Users/nhutter/Documents/Research/lkf_tools/lkf_tools/detection.py:559: RuntimeWarning: invalid value encountered in true_divide\n",
      "  e1 = (e1/np.sqrt(np.sum(e1**2))) # Normalize basis vector\n",
      "/Users/nhutter/miniforge3/envs/lkf_tools/lib/python3.10/site-packages/numpy/lib/npyio.py:518: VisibleDeprecationWarning: Creating an ndarray from ragged nested sequences (which is a list-or-tuple of lists-or-tuples-or ndarrays with different lengths or shapes) is deprecated. If you meant to do this, you must specify 'dtype=object' when creating the ndarray.\n",
      "  arr = np.asanyarray(arr)\n"
     ]
    },
    {
     "name": "stdout",
     "output_type": "stream",
     "text": [
      "Compute deformation rates and detect features for day 27\n",
      "Start detection routines\n"
     ]
    },
    {
     "name": "stderr",
     "output_type": "stream",
     "text": [
      "/Users/nhutter/Documents/Research/lkf_tools/lkf_tools/detection.py:97: RuntimeWarning: invalid value encountered in true_divide\n",
      "  gaussian_field = field_nonnan_f/mask_nan_f\n",
      "/Users/nhutter/Documents/Research/lkf_tools/lkf_tools/detection.py:1149: RuntimeWarning: Mean of empty slice\n",
      "  eps_tot = np.nanmean(np.stack(eps_tot),axis=0)\n",
      "/Users/nhutter/Documents/Research/lkf_tools/lkf_tools/detection.py:248: RuntimeWarning: invalid value encountered in true_divide\n",
      "  dx = (seg_active[:,:,-1]-seg_active[np.arange(seg_active.shape[0]),:,-num_points])/np.stack([num_points-1,num_points-1],axis=1) - (seg_append-seg_active[:,:,-1])\n",
      "/Users/nhutter/Documents/Research/lkf_tools/lkf_tools/detection.py:1170: RuntimeWarning: divide by zero encountered in log10\n",
      "  eps_mn = compute_mn_eps(np.log10(eps_tot),seg)\n",
      "/Users/nhutter/Documents/Research/lkf_tools/lkf_tools/detection.py:1179: RuntimeWarning: divide by zero encountered in log10\n",
      "  eps_mn = compute_mn_eps(np.log10(eps_tot),seg)\n",
      "/Users/nhutter/Documents/Research/lkf_tools/lkf_tools/detection.py:559: RuntimeWarning: invalid value encountered in true_divide\n",
      "  e1 = (e1/np.sqrt(np.sum(e1**2))) # Normalize basis vector\n",
      "/Users/nhutter/Documents/Research/lkf_tools/lkf_tools/detection.py:562: RuntimeWarning: invalid value encountered in true_divide\n",
      "  f1 = (f1/np.sqrt(np.sum(f1**2))) # Normalize basis vector\n",
      "/Users/nhutter/miniforge3/envs/lkf_tools/lib/python3.10/site-packages/numpy/lib/npyio.py:518: VisibleDeprecationWarning: Creating an ndarray from ragged nested sequences (which is a list-or-tuple of lists-or-tuples-or ndarrays with different lengths or shapes) is deprecated. If you meant to do this, you must specify 'dtype=object' when creating the ndarray.\n",
      "  arr = np.asanyarray(arr)\n"
     ]
    },
    {
     "name": "stdout",
     "output_type": "stream",
     "text": [
      "Compute deformation rates and detect features for day 28\n",
      "Start detection routines\n"
     ]
    },
    {
     "name": "stderr",
     "output_type": "stream",
     "text": [
      "/Users/nhutter/Documents/Research/lkf_tools/lkf_tools/detection.py:97: RuntimeWarning: invalid value encountered in true_divide\n",
      "  gaussian_field = field_nonnan_f/mask_nan_f\n",
      "/Users/nhutter/Documents/Research/lkf_tools/lkf_tools/detection.py:1149: RuntimeWarning: Mean of empty slice\n",
      "  eps_tot = np.nanmean(np.stack(eps_tot),axis=0)\n",
      "/Users/nhutter/Documents/Research/lkf_tools/lkf_tools/detection.py:248: RuntimeWarning: invalid value encountered in true_divide\n",
      "  dx = (seg_active[:,:,-1]-seg_active[np.arange(seg_active.shape[0]),:,-num_points])/np.stack([num_points-1,num_points-1],axis=1) - (seg_append-seg_active[:,:,-1])\n",
      "/Users/nhutter/Documents/Research/lkf_tools/lkf_tools/detection.py:566: RuntimeWarning: invalid value encountered in arccos\n",
      "  angle = np.arccos(angle)/np.pi*180\n",
      "/Users/nhutter/Documents/Research/lkf_tools/lkf_tools/detection.py:559: RuntimeWarning: invalid value encountered in true_divide\n",
      "  e1 = (e1/np.sqrt(np.sum(e1**2))) # Normalize basis vector\n",
      "/Users/nhutter/Documents/Research/lkf_tools/lkf_tools/detection.py:562: RuntimeWarning: invalid value encountered in true_divide\n",
      "  f1 = (f1/np.sqrt(np.sum(f1**2))) # Normalize basis vector\n",
      "/Users/nhutter/miniforge3/envs/lkf_tools/lib/python3.10/site-packages/numpy/lib/npyio.py:518: VisibleDeprecationWarning: Creating an ndarray from ragged nested sequences (which is a list-or-tuple of lists-or-tuples-or ndarrays with different lengths or shapes) is deprecated. If you meant to do this, you must specify 'dtype=object' when creating the ndarray.\n",
      "  arr = np.asanyarray(arr)\n"
     ]
    },
    {
     "name": "stdout",
     "output_type": "stream",
     "text": [
      "Compute deformation rates and detect features for day 29\n",
      "Start detection routines\n"
     ]
    },
    {
     "name": "stderr",
     "output_type": "stream",
     "text": [
      "/Users/nhutter/Documents/Research/lkf_tools/lkf_tools/detection.py:97: RuntimeWarning: invalid value encountered in true_divide\n",
      "  gaussian_field = field_nonnan_f/mask_nan_f\n",
      "/Users/nhutter/Documents/Research/lkf_tools/lkf_tools/detection.py:1149: RuntimeWarning: Mean of empty slice\n",
      "  eps_tot = np.nanmean(np.stack(eps_tot),axis=0)\n",
      "/Users/nhutter/Documents/Research/lkf_tools/lkf_tools/detection.py:248: RuntimeWarning: invalid value encountered in true_divide\n",
      "  dx = (seg_active[:,:,-1]-seg_active[np.arange(seg_active.shape[0]),:,-num_points])/np.stack([num_points-1,num_points-1],axis=1) - (seg_append-seg_active[:,:,-1])\n",
      "/Users/nhutter/Documents/Research/lkf_tools/lkf_tools/detection.py:1170: RuntimeWarning: divide by zero encountered in log10\n",
      "  eps_mn = compute_mn_eps(np.log10(eps_tot),seg)\n",
      "/Users/nhutter/Documents/Research/lkf_tools/lkf_tools/detection.py:566: RuntimeWarning: invalid value encountered in arccos\n",
      "  angle = np.arccos(angle)/np.pi*180\n",
      "/Users/nhutter/Documents/Research/lkf_tools/lkf_tools/detection.py:1179: RuntimeWarning: divide by zero encountered in log10\n",
      "  eps_mn = compute_mn_eps(np.log10(eps_tot),seg)\n",
      "/Users/nhutter/Documents/Research/lkf_tools/lkf_tools/detection.py:559: RuntimeWarning: invalid value encountered in true_divide\n",
      "  e1 = (e1/np.sqrt(np.sum(e1**2))) # Normalize basis vector\n",
      "/Users/nhutter/Documents/Research/lkf_tools/lkf_tools/detection.py:562: RuntimeWarning: invalid value encountered in true_divide\n",
      "  f1 = (f1/np.sqrt(np.sum(f1**2))) # Normalize basis vector\n",
      "/Users/nhutter/miniforge3/envs/lkf_tools/lib/python3.10/site-packages/numpy/lib/npyio.py:518: VisibleDeprecationWarning: Creating an ndarray from ragged nested sequences (which is a list-or-tuple of lists-or-tuples-or ndarrays with different lengths or shapes) is deprecated. If you meant to do this, you must specify 'dtype=object' when creating the ndarray.\n",
      "  arr = np.asanyarray(arr)\n",
      "/Users/nhutter/Documents/Research/lkf_tools/lkf_tools/detection.py:97: RuntimeWarning: invalid value encountered in true_divide\n",
      "  gaussian_field = field_nonnan_f/mask_nan_f\n",
      "/Users/nhutter/Documents/Research/lkf_tools/lkf_tools/detection.py:1149: RuntimeWarning: Mean of empty slice\n",
      "  eps_tot = np.nanmean(np.stack(eps_tot),axis=0)\n"
     ]
    },
    {
     "name": "stdout",
     "output_type": "stream",
     "text": [
      "Compute deformation rates and detect features for day 30\n",
      "Start detection routines\n"
     ]
    },
    {
     "name": "stderr",
     "output_type": "stream",
     "text": [
      "/Users/nhutter/Documents/Research/lkf_tools/lkf_tools/detection.py:248: RuntimeWarning: invalid value encountered in true_divide\n",
      "  dx = (seg_active[:,:,-1]-seg_active[np.arange(seg_active.shape[0]),:,-num_points])/np.stack([num_points-1,num_points-1],axis=1) - (seg_append-seg_active[:,:,-1])\n",
      "/Users/nhutter/Documents/Research/lkf_tools/lkf_tools/detection.py:566: RuntimeWarning: invalid value encountered in arccos\n",
      "  angle = np.arccos(angle)/np.pi*180\n",
      "/Users/nhutter/Documents/Research/lkf_tools/lkf_tools/detection.py:559: RuntimeWarning: invalid value encountered in true_divide\n",
      "  e1 = (e1/np.sqrt(np.sum(e1**2))) # Normalize basis vector\n",
      "/Users/nhutter/Documents/Research/lkf_tools/lkf_tools/detection.py:562: RuntimeWarning: invalid value encountered in true_divide\n",
      "  f1 = (f1/np.sqrt(np.sum(f1**2))) # Normalize basis vector\n",
      "/Users/nhutter/miniforge3/envs/lkf_tools/lib/python3.10/site-packages/numpy/lib/npyio.py:518: VisibleDeprecationWarning: Creating an ndarray from ragged nested sequences (which is a list-or-tuple of lists-or-tuples-or ndarrays with different lengths or shapes) is deprecated. If you meant to do this, you must specify 'dtype=object' when creating the ndarray.\n",
      "  arr = np.asanyarray(arr)\n"
     ]
    },
    {
     "name": "stdout",
     "output_type": "stream",
     "text": [
      "Compute deformation rates and detect features for day 31\n",
      "Start detection routines\n"
     ]
    },
    {
     "name": "stderr",
     "output_type": "stream",
     "text": [
      "/Users/nhutter/Documents/Research/lkf_tools/lkf_tools/detection.py:97: RuntimeWarning: invalid value encountered in true_divide\n",
      "  gaussian_field = field_nonnan_f/mask_nan_f\n",
      "/Users/nhutter/Documents/Research/lkf_tools/lkf_tools/detection.py:1149: RuntimeWarning: Mean of empty slice\n",
      "  eps_tot = np.nanmean(np.stack(eps_tot),axis=0)\n",
      "/Users/nhutter/Documents/Research/lkf_tools/lkf_tools/detection.py:248: RuntimeWarning: invalid value encountered in true_divide\n",
      "  dx = (seg_active[:,:,-1]-seg_active[np.arange(seg_active.shape[0]),:,-num_points])/np.stack([num_points-1,num_points-1],axis=1) - (seg_append-seg_active[:,:,-1])\n",
      "/Users/nhutter/Documents/Research/lkf_tools/lkf_tools/detection.py:566: RuntimeWarning: invalid value encountered in arccos\n",
      "  angle = np.arccos(angle)/np.pi*180\n",
      "/Users/nhutter/Documents/Research/lkf_tools/lkf_tools/detection.py:559: RuntimeWarning: invalid value encountered in true_divide\n",
      "  e1 = (e1/np.sqrt(np.sum(e1**2))) # Normalize basis vector\n",
      "/Users/nhutter/Documents/Research/lkf_tools/lkf_tools/detection.py:562: RuntimeWarning: invalid value encountered in true_divide\n",
      "  f1 = (f1/np.sqrt(np.sum(f1**2))) # Normalize basis vector\n",
      "/Users/nhutter/miniforge3/envs/lkf_tools/lib/python3.10/site-packages/numpy/lib/npyio.py:518: VisibleDeprecationWarning: Creating an ndarray from ragged nested sequences (which is a list-or-tuple of lists-or-tuples-or ndarrays with different lengths or shapes) is deprecated. If you meant to do this, you must specify 'dtype=object' when creating the ndarray.\n",
      "  arr = np.asanyarray(arr)\n",
      "/Users/nhutter/Documents/Research/lkf_tools/lkf_tools/detection.py:97: RuntimeWarning: invalid value encountered in true_divide\n",
      "  gaussian_field = field_nonnan_f/mask_nan_f\n",
      "/Users/nhutter/Documents/Research/lkf_tools/lkf_tools/detection.py:1149: RuntimeWarning: Mean of empty slice\n",
      "  eps_tot = np.nanmean(np.stack(eps_tot),axis=0)\n",
      "/Users/nhutter/Documents/Research/lkf_tools/lkf_tools/detection.py:248: RuntimeWarning: invalid value encountered in true_divide\n",
      "  dx = (seg_active[:,:,-1]-seg_active[np.arange(seg_active.shape[0]),:,-num_points])/np.stack([num_points-1,num_points-1],axis=1) - (seg_append-seg_active[:,:,-1])\n"
     ]
    },
    {
     "name": "stdout",
     "output_type": "stream",
     "text": [
      "Compute deformation rates and detect features for day 32\n",
      "Start detection routines\n"
     ]
    },
    {
     "name": "stderr",
     "output_type": "stream",
     "text": [
      "/Users/nhutter/Documents/Research/lkf_tools/lkf_tools/detection.py:1170: RuntimeWarning: divide by zero encountered in log10\n",
      "  eps_mn = compute_mn_eps(np.log10(eps_tot),seg)\n",
      "/Users/nhutter/Documents/Research/lkf_tools/lkf_tools/detection.py:566: RuntimeWarning: invalid value encountered in arccos\n",
      "  angle = np.arccos(angle)/np.pi*180\n",
      "/Users/nhutter/Documents/Research/lkf_tools/lkf_tools/detection.py:1179: RuntimeWarning: divide by zero encountered in log10\n",
      "  eps_mn = compute_mn_eps(np.log10(eps_tot),seg)\n",
      "/Users/nhutter/Documents/Research/lkf_tools/lkf_tools/detection.py:559: RuntimeWarning: invalid value encountered in true_divide\n",
      "  e1 = (e1/np.sqrt(np.sum(e1**2))) # Normalize basis vector\n",
      "/Users/nhutter/Documents/Research/lkf_tools/lkf_tools/detection.py:562: RuntimeWarning: invalid value encountered in true_divide\n",
      "  f1 = (f1/np.sqrt(np.sum(f1**2))) # Normalize basis vector\n",
      "/Users/nhutter/miniforge3/envs/lkf_tools/lib/python3.10/site-packages/numpy/lib/npyio.py:518: VisibleDeprecationWarning: Creating an ndarray from ragged nested sequences (which is a list-or-tuple of lists-or-tuples-or ndarrays with different lengths or shapes) is deprecated. If you meant to do this, you must specify 'dtype=object' when creating the ndarray.\n",
      "  arr = np.asanyarray(arr)\n"
     ]
    },
    {
     "name": "stdout",
     "output_type": "stream",
     "text": [
      "Compute deformation rates and detect features for day 33\n",
      "Start detection routines\n"
     ]
    },
    {
     "name": "stderr",
     "output_type": "stream",
     "text": [
      "/Users/nhutter/Documents/Research/lkf_tools/lkf_tools/detection.py:97: RuntimeWarning: invalid value encountered in true_divide\n",
      "  gaussian_field = field_nonnan_f/mask_nan_f\n",
      "/Users/nhutter/Documents/Research/lkf_tools/lkf_tools/detection.py:1149: RuntimeWarning: Mean of empty slice\n",
      "  eps_tot = np.nanmean(np.stack(eps_tot),axis=0)\n",
      "/Users/nhutter/Documents/Research/lkf_tools/lkf_tools/detection.py:248: RuntimeWarning: invalid value encountered in true_divide\n",
      "  dx = (seg_active[:,:,-1]-seg_active[np.arange(seg_active.shape[0]),:,-num_points])/np.stack([num_points-1,num_points-1],axis=1) - (seg_append-seg_active[:,:,-1])\n",
      "/Users/nhutter/Documents/Research/lkf_tools/lkf_tools/detection.py:566: RuntimeWarning: invalid value encountered in arccos\n",
      "  angle = np.arccos(angle)/np.pi*180\n",
      "/Users/nhutter/Documents/Research/lkf_tools/lkf_tools/detection.py:562: RuntimeWarning: invalid value encountered in true_divide\n",
      "  f1 = (f1/np.sqrt(np.sum(f1**2))) # Normalize basis vector\n",
      "/Users/nhutter/Documents/Research/lkf_tools/lkf_tools/detection.py:559: RuntimeWarning: invalid value encountered in true_divide\n",
      "  e1 = (e1/np.sqrt(np.sum(e1**2))) # Normalize basis vector\n",
      "/Users/nhutter/miniforge3/envs/lkf_tools/lib/python3.10/site-packages/numpy/lib/npyio.py:518: VisibleDeprecationWarning: Creating an ndarray from ragged nested sequences (which is a list-or-tuple of lists-or-tuples-or ndarrays with different lengths or shapes) is deprecated. If you meant to do this, you must specify 'dtype=object' when creating the ndarray.\n",
      "  arr = np.asanyarray(arr)\n"
     ]
    },
    {
     "name": "stdout",
     "output_type": "stream",
     "text": [
      "Compute deformation rates and detect features for day 34\n",
      "Start detection routines\n"
     ]
    },
    {
     "name": "stderr",
     "output_type": "stream",
     "text": [
      "/Users/nhutter/Documents/Research/lkf_tools/lkf_tools/detection.py:97: RuntimeWarning: invalid value encountered in true_divide\n",
      "  gaussian_field = field_nonnan_f/mask_nan_f\n",
      "/Users/nhutter/Documents/Research/lkf_tools/lkf_tools/detection.py:1149: RuntimeWarning: Mean of empty slice\n",
      "  eps_tot = np.nanmean(np.stack(eps_tot),axis=0)\n",
      "/Users/nhutter/Documents/Research/lkf_tools/lkf_tools/detection.py:248: RuntimeWarning: invalid value encountered in true_divide\n",
      "  dx = (seg_active[:,:,-1]-seg_active[np.arange(seg_active.shape[0]),:,-num_points])/np.stack([num_points-1,num_points-1],axis=1) - (seg_append-seg_active[:,:,-1])\n",
      "/Users/nhutter/Documents/Research/lkf_tools/lkf_tools/detection.py:1170: RuntimeWarning: divide by zero encountered in log10\n",
      "  eps_mn = compute_mn_eps(np.log10(eps_tot),seg)\n",
      "/Users/nhutter/Documents/Research/lkf_tools/lkf_tools/detection.py:566: RuntimeWarning: invalid value encountered in arccos\n",
      "  angle = np.arccos(angle)/np.pi*180\n",
      "/Users/nhutter/Documents/Research/lkf_tools/lkf_tools/detection.py:1179: RuntimeWarning: divide by zero encountered in log10\n",
      "  eps_mn = compute_mn_eps(np.log10(eps_tot),seg)\n",
      "/Users/nhutter/Documents/Research/lkf_tools/lkf_tools/detection.py:562: RuntimeWarning: invalid value encountered in true_divide\n",
      "  f1 = (f1/np.sqrt(np.sum(f1**2))) # Normalize basis vector\n",
      "/Users/nhutter/Documents/Research/lkf_tools/lkf_tools/detection.py:559: RuntimeWarning: invalid value encountered in true_divide\n",
      "  e1 = (e1/np.sqrt(np.sum(e1**2))) # Normalize basis vector\n",
      "/Users/nhutter/miniforge3/envs/lkf_tools/lib/python3.10/site-packages/numpy/lib/npyio.py:518: VisibleDeprecationWarning: Creating an ndarray from ragged nested sequences (which is a list-or-tuple of lists-or-tuples-or ndarrays with different lengths or shapes) is deprecated. If you meant to do this, you must specify 'dtype=object' when creating the ndarray.\n",
      "  arr = np.asanyarray(arr)\n",
      "/Users/nhutter/Documents/Research/lkf_tools/lkf_tools/detection.py:97: RuntimeWarning: invalid value encountered in true_divide\n",
      "  gaussian_field = field_nonnan_f/mask_nan_f\n",
      "/Users/nhutter/Documents/Research/lkf_tools/lkf_tools/detection.py:1149: RuntimeWarning: Mean of empty slice\n",
      "  eps_tot = np.nanmean(np.stack(eps_tot),axis=0)\n"
     ]
    },
    {
     "name": "stdout",
     "output_type": "stream",
     "text": [
      "Compute deformation rates and detect features for day 35\n",
      "Start detection routines\n"
     ]
    },
    {
     "name": "stderr",
     "output_type": "stream",
     "text": [
      "/Users/nhutter/Documents/Research/lkf_tools/lkf_tools/detection.py:248: RuntimeWarning: invalid value encountered in true_divide\n",
      "  dx = (seg_active[:,:,-1]-seg_active[np.arange(seg_active.shape[0]),:,-num_points])/np.stack([num_points-1,num_points-1],axis=1) - (seg_append-seg_active[:,:,-1])\n",
      "/Users/nhutter/Documents/Research/lkf_tools/lkf_tools/detection.py:1170: RuntimeWarning: divide by zero encountered in log10\n",
      "  eps_mn = compute_mn_eps(np.log10(eps_tot),seg)\n",
      "/Users/nhutter/Documents/Research/lkf_tools/lkf_tools/detection.py:1179: RuntimeWarning: divide by zero encountered in log10\n",
      "  eps_mn = compute_mn_eps(np.log10(eps_tot),seg)\n",
      "/Users/nhutter/Documents/Research/lkf_tools/lkf_tools/detection.py:562: RuntimeWarning: invalid value encountered in true_divide\n",
      "  f1 = (f1/np.sqrt(np.sum(f1**2))) # Normalize basis vector\n",
      "/Users/nhutter/Documents/Research/lkf_tools/lkf_tools/detection.py:559: RuntimeWarning: invalid value encountered in true_divide\n",
      "  e1 = (e1/np.sqrt(np.sum(e1**2))) # Normalize basis vector\n",
      "/Users/nhutter/miniforge3/envs/lkf_tools/lib/python3.10/site-packages/numpy/lib/npyio.py:518: VisibleDeprecationWarning: Creating an ndarray from ragged nested sequences (which is a list-or-tuple of lists-or-tuples-or ndarrays with different lengths or shapes) is deprecated. If you meant to do this, you must specify 'dtype=object' when creating the ndarray.\n",
      "  arr = np.asanyarray(arr)\n"
     ]
    },
    {
     "name": "stdout",
     "output_type": "stream",
     "text": [
      "Compute deformation rates and detect features for day 36\n",
      "Start detection routines\n"
     ]
    },
    {
     "name": "stderr",
     "output_type": "stream",
     "text": [
      "/Users/nhutter/Documents/Research/lkf_tools/lkf_tools/detection.py:97: RuntimeWarning: invalid value encountered in true_divide\n",
      "  gaussian_field = field_nonnan_f/mask_nan_f\n",
      "/Users/nhutter/Documents/Research/lkf_tools/lkf_tools/detection.py:1149: RuntimeWarning: Mean of empty slice\n",
      "  eps_tot = np.nanmean(np.stack(eps_tot),axis=0)\n",
      "/Users/nhutter/Documents/Research/lkf_tools/lkf_tools/detection.py:248: RuntimeWarning: invalid value encountered in true_divide\n",
      "  dx = (seg_active[:,:,-1]-seg_active[np.arange(seg_active.shape[0]),:,-num_points])/np.stack([num_points-1,num_points-1],axis=1) - (seg_append-seg_active[:,:,-1])\n",
      "/Users/nhutter/Documents/Research/lkf_tools/lkf_tools/detection.py:1170: RuntimeWarning: divide by zero encountered in log10\n",
      "  eps_mn = compute_mn_eps(np.log10(eps_tot),seg)\n",
      "/Users/nhutter/Documents/Research/lkf_tools/lkf_tools/detection.py:1179: RuntimeWarning: divide by zero encountered in log10\n",
      "  eps_mn = compute_mn_eps(np.log10(eps_tot),seg)\n",
      "/Users/nhutter/Documents/Research/lkf_tools/lkf_tools/detection.py:562: RuntimeWarning: invalid value encountered in true_divide\n",
      "  f1 = (f1/np.sqrt(np.sum(f1**2))) # Normalize basis vector\n",
      "/Users/nhutter/Documents/Research/lkf_tools/lkf_tools/detection.py:559: RuntimeWarning: invalid value encountered in true_divide\n",
      "  e1 = (e1/np.sqrt(np.sum(e1**2))) # Normalize basis vector\n",
      "/Users/nhutter/miniforge3/envs/lkf_tools/lib/python3.10/site-packages/numpy/lib/npyio.py:518: VisibleDeprecationWarning: Creating an ndarray from ragged nested sequences (which is a list-or-tuple of lists-or-tuples-or ndarrays with different lengths or shapes) is deprecated. If you meant to do this, you must specify 'dtype=object' when creating the ndarray.\n",
      "  arr = np.asanyarray(arr)\n"
     ]
    },
    {
     "name": "stdout",
     "output_type": "stream",
     "text": [
      "Compute deformation rates and detect features for day 37\n",
      "Start detection routines\n"
     ]
    },
    {
     "name": "stderr",
     "output_type": "stream",
     "text": [
      "/Users/nhutter/Documents/Research/lkf_tools/lkf_tools/detection.py:97: RuntimeWarning: invalid value encountered in true_divide\n",
      "  gaussian_field = field_nonnan_f/mask_nan_f\n",
      "/Users/nhutter/Documents/Research/lkf_tools/lkf_tools/detection.py:1149: RuntimeWarning: Mean of empty slice\n",
      "  eps_tot = np.nanmean(np.stack(eps_tot),axis=0)\n",
      "/Users/nhutter/Documents/Research/lkf_tools/lkf_tools/detection.py:248: RuntimeWarning: invalid value encountered in true_divide\n",
      "  dx = (seg_active[:,:,-1]-seg_active[np.arange(seg_active.shape[0]),:,-num_points])/np.stack([num_points-1,num_points-1],axis=1) - (seg_append-seg_active[:,:,-1])\n",
      "/Users/nhutter/Documents/Research/lkf_tools/lkf_tools/detection.py:1170: RuntimeWarning: divide by zero encountered in log10\n",
      "  eps_mn = compute_mn_eps(np.log10(eps_tot),seg)\n",
      "/Users/nhutter/Documents/Research/lkf_tools/lkf_tools/detection.py:1179: RuntimeWarning: divide by zero encountered in log10\n",
      "  eps_mn = compute_mn_eps(np.log10(eps_tot),seg)\n",
      "/Users/nhutter/Documents/Research/lkf_tools/lkf_tools/detection.py:559: RuntimeWarning: invalid value encountered in true_divide\n",
      "  e1 = (e1/np.sqrt(np.sum(e1**2))) # Normalize basis vector\n",
      "/Users/nhutter/Documents/Research/lkf_tools/lkf_tools/detection.py:562: RuntimeWarning: invalid value encountered in true_divide\n",
      "  f1 = (f1/np.sqrt(np.sum(f1**2))) # Normalize basis vector\n",
      "/Users/nhutter/miniforge3/envs/lkf_tools/lib/python3.10/site-packages/numpy/lib/npyio.py:518: VisibleDeprecationWarning: Creating an ndarray from ragged nested sequences (which is a list-or-tuple of lists-or-tuples-or ndarrays with different lengths or shapes) is deprecated. If you meant to do this, you must specify 'dtype=object' when creating the ndarray.\n",
      "  arr = np.asanyarray(arr)\n",
      "/Users/nhutter/Documents/Research/lkf_tools/lkf_tools/detection.py:97: RuntimeWarning: invalid value encountered in true_divide\n",
      "  gaussian_field = field_nonnan_f/mask_nan_f\n",
      "/Users/nhutter/Documents/Research/lkf_tools/lkf_tools/detection.py:1149: RuntimeWarning: Mean of empty slice\n",
      "  eps_tot = np.nanmean(np.stack(eps_tot),axis=0)\n"
     ]
    },
    {
     "name": "stdout",
     "output_type": "stream",
     "text": [
      "Compute deformation rates and detect features for day 38\n",
      "Start detection routines\n"
     ]
    },
    {
     "name": "stderr",
     "output_type": "stream",
     "text": [
      "/Users/nhutter/Documents/Research/lkf_tools/lkf_tools/detection.py:248: RuntimeWarning: invalid value encountered in true_divide\n",
      "  dx = (seg_active[:,:,-1]-seg_active[np.arange(seg_active.shape[0]),:,-num_points])/np.stack([num_points-1,num_points-1],axis=1) - (seg_append-seg_active[:,:,-1])\n",
      "/Users/nhutter/Documents/Research/lkf_tools/lkf_tools/detection.py:1170: RuntimeWarning: divide by zero encountered in log10\n",
      "  eps_mn = compute_mn_eps(np.log10(eps_tot),seg)\n",
      "/Users/nhutter/Documents/Research/lkf_tools/lkf_tools/detection.py:566: RuntimeWarning: invalid value encountered in arccos\n",
      "  angle = np.arccos(angle)/np.pi*180\n",
      "/Users/nhutter/Documents/Research/lkf_tools/lkf_tools/detection.py:1179: RuntimeWarning: divide by zero encountered in log10\n",
      "  eps_mn = compute_mn_eps(np.log10(eps_tot),seg)\n",
      "/Users/nhutter/Documents/Research/lkf_tools/lkf_tools/detection.py:559: RuntimeWarning: invalid value encountered in true_divide\n",
      "  e1 = (e1/np.sqrt(np.sum(e1**2))) # Normalize basis vector\n",
      "/Users/nhutter/Documents/Research/lkf_tools/lkf_tools/detection.py:562: RuntimeWarning: invalid value encountered in true_divide\n",
      "  f1 = (f1/np.sqrt(np.sum(f1**2))) # Normalize basis vector\n",
      "/Users/nhutter/miniforge3/envs/lkf_tools/lib/python3.10/site-packages/numpy/lib/npyio.py:518: VisibleDeprecationWarning: Creating an ndarray from ragged nested sequences (which is a list-or-tuple of lists-or-tuples-or ndarrays with different lengths or shapes) is deprecated. If you meant to do this, you must specify 'dtype=object' when creating the ndarray.\n",
      "  arr = np.asanyarray(arr)\n"
     ]
    },
    {
     "name": "stdout",
     "output_type": "stream",
     "text": [
      "Compute deformation rates and detect features for day 39\n",
      "Start detection routines\n"
     ]
    },
    {
     "name": "stderr",
     "output_type": "stream",
     "text": [
      "/Users/nhutter/Documents/Research/lkf_tools/lkf_tools/detection.py:97: RuntimeWarning: invalid value encountered in true_divide\n",
      "  gaussian_field = field_nonnan_f/mask_nan_f\n",
      "/Users/nhutter/Documents/Research/lkf_tools/lkf_tools/detection.py:1149: RuntimeWarning: Mean of empty slice\n",
      "  eps_tot = np.nanmean(np.stack(eps_tot),axis=0)\n",
      "/Users/nhutter/Documents/Research/lkf_tools/lkf_tools/detection.py:248: RuntimeWarning: invalid value encountered in true_divide\n",
      "  dx = (seg_active[:,:,-1]-seg_active[np.arange(seg_active.shape[0]),:,-num_points])/np.stack([num_points-1,num_points-1],axis=1) - (seg_append-seg_active[:,:,-1])\n",
      "/Users/nhutter/Documents/Research/lkf_tools/lkf_tools/detection.py:562: RuntimeWarning: invalid value encountered in true_divide\n",
      "  f1 = (f1/np.sqrt(np.sum(f1**2))) # Normalize basis vector\n",
      "/Users/nhutter/Documents/Research/lkf_tools/lkf_tools/detection.py:559: RuntimeWarning: invalid value encountered in true_divide\n",
      "  e1 = (e1/np.sqrt(np.sum(e1**2))) # Normalize basis vector\n",
      "/Users/nhutter/miniforge3/envs/lkf_tools/lib/python3.10/site-packages/numpy/lib/npyio.py:518: VisibleDeprecationWarning: Creating an ndarray from ragged nested sequences (which is a list-or-tuple of lists-or-tuples-or ndarrays with different lengths or shapes) is deprecated. If you meant to do this, you must specify 'dtype=object' when creating the ndarray.\n",
      "  arr = np.asanyarray(arr)\n",
      "/Users/nhutter/Documents/Research/lkf_tools/lkf_tools/detection.py:97: RuntimeWarning: invalid value encountered in true_divide\n",
      "  gaussian_field = field_nonnan_f/mask_nan_f\n",
      "/Users/nhutter/Documents/Research/lkf_tools/lkf_tools/detection.py:1149: RuntimeWarning: Mean of empty slice\n",
      "  eps_tot = np.nanmean(np.stack(eps_tot),axis=0)\n",
      "/Users/nhutter/Documents/Research/lkf_tools/lkf_tools/detection.py:248: RuntimeWarning: invalid value encountered in true_divide\n",
      "  dx = (seg_active[:,:,-1]-seg_active[np.arange(seg_active.shape[0]),:,-num_points])/np.stack([num_points-1,num_points-1],axis=1) - (seg_append-seg_active[:,:,-1])\n"
     ]
    },
    {
     "name": "stdout",
     "output_type": "stream",
     "text": [
      "Compute deformation rates and detect features for day 40\n",
      "Start detection routines\n"
     ]
    },
    {
     "name": "stderr",
     "output_type": "stream",
     "text": [
      "/Users/nhutter/Documents/Research/lkf_tools/lkf_tools/detection.py:562: RuntimeWarning: invalid value encountered in true_divide\n",
      "  f1 = (f1/np.sqrt(np.sum(f1**2))) # Normalize basis vector\n",
      "/Users/nhutter/Documents/Research/lkf_tools/lkf_tools/detection.py:559: RuntimeWarning: invalid value encountered in true_divide\n",
      "  e1 = (e1/np.sqrt(np.sum(e1**2))) # Normalize basis vector\n",
      "/Users/nhutter/miniforge3/envs/lkf_tools/lib/python3.10/site-packages/numpy/lib/npyio.py:518: VisibleDeprecationWarning: Creating an ndarray from ragged nested sequences (which is a list-or-tuple of lists-or-tuples-or ndarrays with different lengths or shapes) is deprecated. If you meant to do this, you must specify 'dtype=object' when creating the ndarray.\n",
      "  arr = np.asanyarray(arr)\n",
      "/Users/nhutter/Documents/Research/lkf_tools/lkf_tools/detection.py:97: RuntimeWarning: invalid value encountered in true_divide\n",
      "  gaussian_field = field_nonnan_f/mask_nan_f\n",
      "/Users/nhutter/Documents/Research/lkf_tools/lkf_tools/detection.py:1149: RuntimeWarning: Mean of empty slice\n",
      "  eps_tot = np.nanmean(np.stack(eps_tot),axis=0)\n",
      "/Users/nhutter/Documents/Research/lkf_tools/lkf_tools/detection.py:248: RuntimeWarning: invalid value encountered in true_divide\n",
      "  dx = (seg_active[:,:,-1]-seg_active[np.arange(seg_active.shape[0]),:,-num_points])/np.stack([num_points-1,num_points-1],axis=1) - (seg_append-seg_active[:,:,-1])\n"
     ]
    },
    {
     "name": "stdout",
     "output_type": "stream",
     "text": [
      "Compute deformation rates and detect features for day 41\n",
      "Start detection routines\n"
     ]
    },
    {
     "name": "stderr",
     "output_type": "stream",
     "text": [
      "/Users/nhutter/Documents/Research/lkf_tools/lkf_tools/detection.py:559: RuntimeWarning: invalid value encountered in true_divide\n",
      "  e1 = (e1/np.sqrt(np.sum(e1**2))) # Normalize basis vector\n",
      "/Users/nhutter/Documents/Research/lkf_tools/lkf_tools/detection.py:562: RuntimeWarning: invalid value encountered in true_divide\n",
      "  f1 = (f1/np.sqrt(np.sum(f1**2))) # Normalize basis vector\n",
      "/Users/nhutter/Documents/Research/lkf_tools/lkf_tools/detection.py:566: RuntimeWarning: invalid value encountered in arccos\n",
      "  angle = np.arccos(angle)/np.pi*180\n",
      "/Users/nhutter/miniforge3/envs/lkf_tools/lib/python3.10/site-packages/numpy/lib/npyio.py:518: VisibleDeprecationWarning: Creating an ndarray from ragged nested sequences (which is a list-or-tuple of lists-or-tuples-or ndarrays with different lengths or shapes) is deprecated. If you meant to do this, you must specify 'dtype=object' when creating the ndarray.\n",
      "  arr = np.asanyarray(arr)\n"
     ]
    },
    {
     "name": "stdout",
     "output_type": "stream",
     "text": [
      "Compute deformation rates and detect features for day 42\n",
      "Start detection routines\n"
     ]
    },
    {
     "name": "stderr",
     "output_type": "stream",
     "text": [
      "/Users/nhutter/Documents/Research/lkf_tools/lkf_tools/detection.py:97: RuntimeWarning: invalid value encountered in true_divide\n",
      "  gaussian_field = field_nonnan_f/mask_nan_f\n",
      "/Users/nhutter/Documents/Research/lkf_tools/lkf_tools/detection.py:1149: RuntimeWarning: Mean of empty slice\n",
      "  eps_tot = np.nanmean(np.stack(eps_tot),axis=0)\n",
      "/Users/nhutter/Documents/Research/lkf_tools/lkf_tools/detection.py:248: RuntimeWarning: invalid value encountered in true_divide\n",
      "  dx = (seg_active[:,:,-1]-seg_active[np.arange(seg_active.shape[0]),:,-num_points])/np.stack([num_points-1,num_points-1],axis=1) - (seg_append-seg_active[:,:,-1])\n",
      "/Users/nhutter/Documents/Research/lkf_tools/lkf_tools/detection.py:559: RuntimeWarning: invalid value encountered in true_divide\n",
      "  e1 = (e1/np.sqrt(np.sum(e1**2))) # Normalize basis vector\n",
      "/Users/nhutter/Documents/Research/lkf_tools/lkf_tools/detection.py:562: RuntimeWarning: invalid value encountered in true_divide\n",
      "  f1 = (f1/np.sqrt(np.sum(f1**2))) # Normalize basis vector\n",
      "/Users/nhutter/miniforge3/envs/lkf_tools/lib/python3.10/site-packages/numpy/lib/npyio.py:518: VisibleDeprecationWarning: Creating an ndarray from ragged nested sequences (which is a list-or-tuple of lists-or-tuples-or ndarrays with different lengths or shapes) is deprecated. If you meant to do this, you must specify 'dtype=object' when creating the ndarray.\n",
      "  arr = np.asanyarray(arr)\n",
      "/Users/nhutter/Documents/Research/lkf_tools/lkf_tools/detection.py:97: RuntimeWarning: invalid value encountered in true_divide\n",
      "  gaussian_field = field_nonnan_f/mask_nan_f\n",
      "/Users/nhutter/Documents/Research/lkf_tools/lkf_tools/detection.py:1149: RuntimeWarning: Mean of empty slice\n",
      "  eps_tot = np.nanmean(np.stack(eps_tot),axis=0)\n",
      "/Users/nhutter/Documents/Research/lkf_tools/lkf_tools/detection.py:248: RuntimeWarning: invalid value encountered in true_divide\n",
      "  dx = (seg_active[:,:,-1]-seg_active[np.arange(seg_active.shape[0]),:,-num_points])/np.stack([num_points-1,num_points-1],axis=1) - (seg_append-seg_active[:,:,-1])\n"
     ]
    },
    {
     "name": "stdout",
     "output_type": "stream",
     "text": [
      "Compute deformation rates and detect features for day 43\n",
      "Start detection routines\n"
     ]
    },
    {
     "name": "stderr",
     "output_type": "stream",
     "text": [
      "/Users/nhutter/Documents/Research/lkf_tools/lkf_tools/detection.py:1170: RuntimeWarning: divide by zero encountered in log10\n",
      "  eps_mn = compute_mn_eps(np.log10(eps_tot),seg)\n",
      "/Users/nhutter/Documents/Research/lkf_tools/lkf_tools/detection.py:566: RuntimeWarning: invalid value encountered in arccos\n",
      "  angle = np.arccos(angle)/np.pi*180\n",
      "/Users/nhutter/Documents/Research/lkf_tools/lkf_tools/detection.py:1179: RuntimeWarning: divide by zero encountered in log10\n",
      "  eps_mn = compute_mn_eps(np.log10(eps_tot),seg)\n",
      "/Users/nhutter/Documents/Research/lkf_tools/lkf_tools/detection.py:562: RuntimeWarning: invalid value encountered in true_divide\n",
      "  f1 = (f1/np.sqrt(np.sum(f1**2))) # Normalize basis vector\n",
      "/Users/nhutter/Documents/Research/lkf_tools/lkf_tools/detection.py:559: RuntimeWarning: invalid value encountered in true_divide\n",
      "  e1 = (e1/np.sqrt(np.sum(e1**2))) # Normalize basis vector\n",
      "/Users/nhutter/miniforge3/envs/lkf_tools/lib/python3.10/site-packages/numpy/lib/npyio.py:518: VisibleDeprecationWarning: Creating an ndarray from ragged nested sequences (which is a list-or-tuple of lists-or-tuples-or ndarrays with different lengths or shapes) is deprecated. If you meant to do this, you must specify 'dtype=object' when creating the ndarray.\n",
      "  arr = np.asanyarray(arr)\n",
      "/Users/nhutter/Documents/Research/lkf_tools/lkf_tools/detection.py:97: RuntimeWarning: invalid value encountered in true_divide\n",
      "  gaussian_field = field_nonnan_f/mask_nan_f\n",
      "/Users/nhutter/Documents/Research/lkf_tools/lkf_tools/detection.py:1149: RuntimeWarning: Mean of empty slice\n",
      "  eps_tot = np.nanmean(np.stack(eps_tot),axis=0)\n",
      "/Users/nhutter/Documents/Research/lkf_tools/lkf_tools/detection.py:248: RuntimeWarning: invalid value encountered in true_divide\n",
      "  dx = (seg_active[:,:,-1]-seg_active[np.arange(seg_active.shape[0]),:,-num_points])/np.stack([num_points-1,num_points-1],axis=1) - (seg_append-seg_active[:,:,-1])\n"
     ]
    },
    {
     "name": "stdout",
     "output_type": "stream",
     "text": [
      "Compute deformation rates and detect features for day 44\n",
      "Start detection routines\n"
     ]
    },
    {
     "name": "stderr",
     "output_type": "stream",
     "text": [
      "/Users/nhutter/Documents/Research/lkf_tools/lkf_tools/detection.py:566: RuntimeWarning: invalid value encountered in arccos\n",
      "  angle = np.arccos(angle)/np.pi*180\n",
      "/Users/nhutter/Documents/Research/lkf_tools/lkf_tools/detection.py:559: RuntimeWarning: invalid value encountered in true_divide\n",
      "  e1 = (e1/np.sqrt(np.sum(e1**2))) # Normalize basis vector\n",
      "/Users/nhutter/Documents/Research/lkf_tools/lkf_tools/detection.py:562: RuntimeWarning: invalid value encountered in true_divide\n",
      "  f1 = (f1/np.sqrt(np.sum(f1**2))) # Normalize basis vector\n",
      "/Users/nhutter/miniforge3/envs/lkf_tools/lib/python3.10/site-packages/numpy/lib/npyio.py:518: VisibleDeprecationWarning: Creating an ndarray from ragged nested sequences (which is a list-or-tuple of lists-or-tuples-or ndarrays with different lengths or shapes) is deprecated. If you meant to do this, you must specify 'dtype=object' when creating the ndarray.\n",
      "  arr = np.asanyarray(arr)\n"
     ]
    },
    {
     "name": "stdout",
     "output_type": "stream",
     "text": [
      "Compute deformation rates and detect features for day 45\n",
      "Start detection routines\n"
     ]
    },
    {
     "name": "stderr",
     "output_type": "stream",
     "text": [
      "/Users/nhutter/Documents/Research/lkf_tools/lkf_tools/detection.py:97: RuntimeWarning: invalid value encountered in true_divide\n",
      "  gaussian_field = field_nonnan_f/mask_nan_f\n",
      "/Users/nhutter/Documents/Research/lkf_tools/lkf_tools/detection.py:1149: RuntimeWarning: Mean of empty slice\n",
      "  eps_tot = np.nanmean(np.stack(eps_tot),axis=0)\n",
      "/Users/nhutter/Documents/Research/lkf_tools/lkf_tools/detection.py:248: RuntimeWarning: invalid value encountered in true_divide\n",
      "  dx = (seg_active[:,:,-1]-seg_active[np.arange(seg_active.shape[0]),:,-num_points])/np.stack([num_points-1,num_points-1],axis=1) - (seg_append-seg_active[:,:,-1])\n",
      "/Users/nhutter/Documents/Research/lkf_tools/lkf_tools/detection.py:559: RuntimeWarning: invalid value encountered in true_divide\n",
      "  e1 = (e1/np.sqrt(np.sum(e1**2))) # Normalize basis vector\n",
      "/Users/nhutter/Documents/Research/lkf_tools/lkf_tools/detection.py:562: RuntimeWarning: invalid value encountered in true_divide\n",
      "  f1 = (f1/np.sqrt(np.sum(f1**2))) # Normalize basis vector\n",
      "/Users/nhutter/miniforge3/envs/lkf_tools/lib/python3.10/site-packages/numpy/lib/npyio.py:518: VisibleDeprecationWarning: Creating an ndarray from ragged nested sequences (which is a list-or-tuple of lists-or-tuples-or ndarrays with different lengths or shapes) is deprecated. If you meant to do this, you must specify 'dtype=object' when creating the ndarray.\n",
      "  arr = np.asanyarray(arr)\n",
      "/Users/nhutter/Documents/Research/lkf_tools/lkf_tools/detection.py:97: RuntimeWarning: invalid value encountered in true_divide\n",
      "  gaussian_field = field_nonnan_f/mask_nan_f\n",
      "/Users/nhutter/Documents/Research/lkf_tools/lkf_tools/detection.py:1149: RuntimeWarning: Mean of empty slice\n",
      "  eps_tot = np.nanmean(np.stack(eps_tot),axis=0)\n",
      "/Users/nhutter/Documents/Research/lkf_tools/lkf_tools/detection.py:248: RuntimeWarning: invalid value encountered in true_divide\n",
      "  dx = (seg_active[:,:,-1]-seg_active[np.arange(seg_active.shape[0]),:,-num_points])/np.stack([num_points-1,num_points-1],axis=1) - (seg_append-seg_active[:,:,-1])\n"
     ]
    },
    {
     "name": "stdout",
     "output_type": "stream",
     "text": [
      "Compute deformation rates and detect features for day 46\n",
      "Start detection routines\n"
     ]
    },
    {
     "name": "stderr",
     "output_type": "stream",
     "text": [
      "/Users/nhutter/Documents/Research/lkf_tools/lkf_tools/detection.py:559: RuntimeWarning: invalid value encountered in true_divide\n",
      "  e1 = (e1/np.sqrt(np.sum(e1**2))) # Normalize basis vector\n",
      "/Users/nhutter/Documents/Research/lkf_tools/lkf_tools/detection.py:562: RuntimeWarning: invalid value encountered in true_divide\n",
      "  f1 = (f1/np.sqrt(np.sum(f1**2))) # Normalize basis vector\n",
      "/Users/nhutter/miniforge3/envs/lkf_tools/lib/python3.10/site-packages/numpy/lib/npyio.py:518: VisibleDeprecationWarning: Creating an ndarray from ragged nested sequences (which is a list-or-tuple of lists-or-tuples-or ndarrays with different lengths or shapes) is deprecated. If you meant to do this, you must specify 'dtype=object' when creating the ndarray.\n",
      "  arr = np.asanyarray(arr)\n",
      "/Users/nhutter/Documents/Research/lkf_tools/lkf_tools/detection.py:97: RuntimeWarning: invalid value encountered in true_divide\n",
      "  gaussian_field = field_nonnan_f/mask_nan_f\n",
      "/Users/nhutter/Documents/Research/lkf_tools/lkf_tools/detection.py:1149: RuntimeWarning: Mean of empty slice\n",
      "  eps_tot = np.nanmean(np.stack(eps_tot),axis=0)\n",
      "/Users/nhutter/Documents/Research/lkf_tools/lkf_tools/detection.py:248: RuntimeWarning: invalid value encountered in true_divide\n",
      "  dx = (seg_active[:,:,-1]-seg_active[np.arange(seg_active.shape[0]),:,-num_points])/np.stack([num_points-1,num_points-1],axis=1) - (seg_append-seg_active[:,:,-1])\n"
     ]
    },
    {
     "name": "stdout",
     "output_type": "stream",
     "text": [
      "Compute deformation rates and detect features for day 47\n",
      "Start detection routines\n"
     ]
    },
    {
     "name": "stderr",
     "output_type": "stream",
     "text": [
      "/Users/nhutter/Documents/Research/lkf_tools/lkf_tools/detection.py:562: RuntimeWarning: invalid value encountered in true_divide\n",
      "  f1 = (f1/np.sqrt(np.sum(f1**2))) # Normalize basis vector\n",
      "/Users/nhutter/Documents/Research/lkf_tools/lkf_tools/detection.py:559: RuntimeWarning: invalid value encountered in true_divide\n",
      "  e1 = (e1/np.sqrt(np.sum(e1**2))) # Normalize basis vector\n",
      "/Users/nhutter/miniforge3/envs/lkf_tools/lib/python3.10/site-packages/numpy/lib/npyio.py:518: VisibleDeprecationWarning: Creating an ndarray from ragged nested sequences (which is a list-or-tuple of lists-or-tuples-or ndarrays with different lengths or shapes) is deprecated. If you meant to do this, you must specify 'dtype=object' when creating the ndarray.\n",
      "  arr = np.asanyarray(arr)\n",
      "/Users/nhutter/Documents/Research/lkf_tools/lkf_tools/detection.py:97: RuntimeWarning: invalid value encountered in true_divide\n",
      "  gaussian_field = field_nonnan_f/mask_nan_f\n",
      "/Users/nhutter/Documents/Research/lkf_tools/lkf_tools/detection.py:1149: RuntimeWarning: Mean of empty slice\n",
      "  eps_tot = np.nanmean(np.stack(eps_tot),axis=0)\n",
      "/Users/nhutter/Documents/Research/lkf_tools/lkf_tools/detection.py:248: RuntimeWarning: invalid value encountered in true_divide\n",
      "  dx = (seg_active[:,:,-1]-seg_active[np.arange(seg_active.shape[0]),:,-num_points])/np.stack([num_points-1,num_points-1],axis=1) - (seg_append-seg_active[:,:,-1])\n"
     ]
    },
    {
     "name": "stdout",
     "output_type": "stream",
     "text": [
      "Compute deformation rates and detect features for day 48\n",
      "Start detection routines\n"
     ]
    },
    {
     "name": "stderr",
     "output_type": "stream",
     "text": [
      "/Users/nhutter/Documents/Research/lkf_tools/lkf_tools/detection.py:562: RuntimeWarning: invalid value encountered in true_divide\n",
      "  f1 = (f1/np.sqrt(np.sum(f1**2))) # Normalize basis vector\n",
      "/Users/nhutter/Documents/Research/lkf_tools/lkf_tools/detection.py:559: RuntimeWarning: invalid value encountered in true_divide\n",
      "  e1 = (e1/np.sqrt(np.sum(e1**2))) # Normalize basis vector\n",
      "/Users/nhutter/miniforge3/envs/lkf_tools/lib/python3.10/site-packages/numpy/lib/npyio.py:518: VisibleDeprecationWarning: Creating an ndarray from ragged nested sequences (which is a list-or-tuple of lists-or-tuples-or ndarrays with different lengths or shapes) is deprecated. If you meant to do this, you must specify 'dtype=object' when creating the ndarray.\n",
      "  arr = np.asanyarray(arr)\n"
     ]
    },
    {
     "name": "stdout",
     "output_type": "stream",
     "text": [
      "Compute deformation rates and detect features for day 49\n",
      "Start detection routines\n"
     ]
    },
    {
     "name": "stderr",
     "output_type": "stream",
     "text": [
      "/Users/nhutter/Documents/Research/lkf_tools/lkf_tools/detection.py:97: RuntimeWarning: invalid value encountered in true_divide\n",
      "  gaussian_field = field_nonnan_f/mask_nan_f\n",
      "/Users/nhutter/Documents/Research/lkf_tools/lkf_tools/detection.py:1149: RuntimeWarning: Mean of empty slice\n",
      "  eps_tot = np.nanmean(np.stack(eps_tot),axis=0)\n",
      "/Users/nhutter/Documents/Research/lkf_tools/lkf_tools/detection.py:248: RuntimeWarning: invalid value encountered in true_divide\n",
      "  dx = (seg_active[:,:,-1]-seg_active[np.arange(seg_active.shape[0]),:,-num_points])/np.stack([num_points-1,num_points-1],axis=1) - (seg_append-seg_active[:,:,-1])\n",
      "/Users/nhutter/Documents/Research/lkf_tools/lkf_tools/detection.py:566: RuntimeWarning: invalid value encountered in arccos\n",
      "  angle = np.arccos(angle)/np.pi*180\n",
      "/Users/nhutter/Documents/Research/lkf_tools/lkf_tools/detection.py:562: RuntimeWarning: invalid value encountered in true_divide\n",
      "  f1 = (f1/np.sqrt(np.sum(f1**2))) # Normalize basis vector\n",
      "/Users/nhutter/Documents/Research/lkf_tools/lkf_tools/detection.py:559: RuntimeWarning: invalid value encountered in true_divide\n",
      "  e1 = (e1/np.sqrt(np.sum(e1**2))) # Normalize basis vector\n",
      "/Users/nhutter/miniforge3/envs/lkf_tools/lib/python3.10/site-packages/numpy/lib/npyio.py:518: VisibleDeprecationWarning: Creating an ndarray from ragged nested sequences (which is a list-or-tuple of lists-or-tuples-or ndarrays with different lengths or shapes) is deprecated. If you meant to do this, you must specify 'dtype=object' when creating the ndarray.\n",
      "  arr = np.asanyarray(arr)\n"
     ]
    },
    {
     "name": "stdout",
     "output_type": "stream",
     "text": [
      "Compute deformation rates and detect features for day 50\n",
      "Start detection routines\n"
     ]
    },
    {
     "name": "stderr",
     "output_type": "stream",
     "text": [
      "/Users/nhutter/Documents/Research/lkf_tools/lkf_tools/detection.py:97: RuntimeWarning: invalid value encountered in true_divide\n",
      "  gaussian_field = field_nonnan_f/mask_nan_f\n",
      "/Users/nhutter/Documents/Research/lkf_tools/lkf_tools/detection.py:1149: RuntimeWarning: Mean of empty slice\n",
      "  eps_tot = np.nanmean(np.stack(eps_tot),axis=0)\n",
      "/Users/nhutter/Documents/Research/lkf_tools/lkf_tools/detection.py:248: RuntimeWarning: invalid value encountered in true_divide\n",
      "  dx = (seg_active[:,:,-1]-seg_active[np.arange(seg_active.shape[0]),:,-num_points])/np.stack([num_points-1,num_points-1],axis=1) - (seg_append-seg_active[:,:,-1])\n",
      "/Users/nhutter/Documents/Research/lkf_tools/lkf_tools/detection.py:566: RuntimeWarning: invalid value encountered in arccos\n",
      "  angle = np.arccos(angle)/np.pi*180\n",
      "/Users/nhutter/Documents/Research/lkf_tools/lkf_tools/detection.py:562: RuntimeWarning: invalid value encountered in true_divide\n",
      "  f1 = (f1/np.sqrt(np.sum(f1**2))) # Normalize basis vector\n",
      "/Users/nhutter/Documents/Research/lkf_tools/lkf_tools/detection.py:559: RuntimeWarning: invalid value encountered in true_divide\n",
      "  e1 = (e1/np.sqrt(np.sum(e1**2))) # Normalize basis vector\n",
      "/Users/nhutter/miniforge3/envs/lkf_tools/lib/python3.10/site-packages/numpy/lib/npyio.py:518: VisibleDeprecationWarning: Creating an ndarray from ragged nested sequences (which is a list-or-tuple of lists-or-tuples-or ndarrays with different lengths or shapes) is deprecated. If you meant to do this, you must specify 'dtype=object' when creating the ndarray.\n",
      "  arr = np.asanyarray(arr)\n"
     ]
    },
    {
     "name": "stdout",
     "output_type": "stream",
     "text": [
      "Compute deformation rates and detect features for day 51\n",
      "Start detection routines\n"
     ]
    },
    {
     "name": "stderr",
     "output_type": "stream",
     "text": [
      "/Users/nhutter/Documents/Research/lkf_tools/lkf_tools/detection.py:97: RuntimeWarning: invalid value encountered in true_divide\n",
      "  gaussian_field = field_nonnan_f/mask_nan_f\n",
      "/Users/nhutter/Documents/Research/lkf_tools/lkf_tools/detection.py:1149: RuntimeWarning: Mean of empty slice\n",
      "  eps_tot = np.nanmean(np.stack(eps_tot),axis=0)\n",
      "/Users/nhutter/Documents/Research/lkf_tools/lkf_tools/detection.py:248: RuntimeWarning: invalid value encountered in true_divide\n",
      "  dx = (seg_active[:,:,-1]-seg_active[np.arange(seg_active.shape[0]),:,-num_points])/np.stack([num_points-1,num_points-1],axis=1) - (seg_append-seg_active[:,:,-1])\n",
      "/Users/nhutter/Documents/Research/lkf_tools/lkf_tools/detection.py:562: RuntimeWarning: invalid value encountered in true_divide\n",
      "  f1 = (f1/np.sqrt(np.sum(f1**2))) # Normalize basis vector\n",
      "/Users/nhutter/Documents/Research/lkf_tools/lkf_tools/detection.py:559: RuntimeWarning: invalid value encountered in true_divide\n",
      "  e1 = (e1/np.sqrt(np.sum(e1**2))) # Normalize basis vector\n",
      "/Users/nhutter/miniforge3/envs/lkf_tools/lib/python3.10/site-packages/numpy/lib/npyio.py:518: VisibleDeprecationWarning: Creating an ndarray from ragged nested sequences (which is a list-or-tuple of lists-or-tuples-or ndarrays with different lengths or shapes) is deprecated. If you meant to do this, you must specify 'dtype=object' when creating the ndarray.\n",
      "  arr = np.asanyarray(arr)\n"
     ]
    },
    {
     "name": "stdout",
     "output_type": "stream",
     "text": [
      "Compute deformation rates and detect features for day 52\n",
      "Start detection routines\n"
     ]
    },
    {
     "name": "stderr",
     "output_type": "stream",
     "text": [
      "/Users/nhutter/Documents/Research/lkf_tools/lkf_tools/detection.py:97: RuntimeWarning: invalid value encountered in true_divide\n",
      "  gaussian_field = field_nonnan_f/mask_nan_f\n",
      "/Users/nhutter/Documents/Research/lkf_tools/lkf_tools/detection.py:1149: RuntimeWarning: Mean of empty slice\n",
      "  eps_tot = np.nanmean(np.stack(eps_tot),axis=0)\n",
      "/Users/nhutter/Documents/Research/lkf_tools/lkf_tools/detection.py:248: RuntimeWarning: invalid value encountered in true_divide\n",
      "  dx = (seg_active[:,:,-1]-seg_active[np.arange(seg_active.shape[0]),:,-num_points])/np.stack([num_points-1,num_points-1],axis=1) - (seg_append-seg_active[:,:,-1])\n",
      "/Users/nhutter/Documents/Research/lkf_tools/lkf_tools/detection.py:566: RuntimeWarning: invalid value encountered in arccos\n",
      "  angle = np.arccos(angle)/np.pi*180\n",
      "/Users/nhutter/Documents/Research/lkf_tools/lkf_tools/detection.py:562: RuntimeWarning: invalid value encountered in true_divide\n",
      "  f1 = (f1/np.sqrt(np.sum(f1**2))) # Normalize basis vector\n",
      "/Users/nhutter/Documents/Research/lkf_tools/lkf_tools/detection.py:559: RuntimeWarning: invalid value encountered in true_divide\n",
      "  e1 = (e1/np.sqrt(np.sum(e1**2))) # Normalize basis vector\n",
      "/Users/nhutter/miniforge3/envs/lkf_tools/lib/python3.10/site-packages/numpy/lib/npyio.py:518: VisibleDeprecationWarning: Creating an ndarray from ragged nested sequences (which is a list-or-tuple of lists-or-tuples-or ndarrays with different lengths or shapes) is deprecated. If you meant to do this, you must specify 'dtype=object' when creating the ndarray.\n",
      "  arr = np.asanyarray(arr)\n"
     ]
    },
    {
     "name": "stdout",
     "output_type": "stream",
     "text": [
      "Compute deformation rates and detect features for day 53\n",
      "Start detection routines\n"
     ]
    },
    {
     "name": "stderr",
     "output_type": "stream",
     "text": [
      "/Users/nhutter/Documents/Research/lkf_tools/lkf_tools/detection.py:97: RuntimeWarning: invalid value encountered in true_divide\n",
      "  gaussian_field = field_nonnan_f/mask_nan_f\n",
      "/Users/nhutter/Documents/Research/lkf_tools/lkf_tools/detection.py:1149: RuntimeWarning: Mean of empty slice\n",
      "  eps_tot = np.nanmean(np.stack(eps_tot),axis=0)\n",
      "/Users/nhutter/Documents/Research/lkf_tools/lkf_tools/detection.py:248: RuntimeWarning: invalid value encountered in true_divide\n",
      "  dx = (seg_active[:,:,-1]-seg_active[np.arange(seg_active.shape[0]),:,-num_points])/np.stack([num_points-1,num_points-1],axis=1) - (seg_append-seg_active[:,:,-1])\n",
      "/Users/nhutter/Documents/Research/lkf_tools/lkf_tools/detection.py:559: RuntimeWarning: invalid value encountered in true_divide\n",
      "  e1 = (e1/np.sqrt(np.sum(e1**2))) # Normalize basis vector\n",
      "/Users/nhutter/Documents/Research/lkf_tools/lkf_tools/detection.py:562: RuntimeWarning: invalid value encountered in true_divide\n",
      "  f1 = (f1/np.sqrt(np.sum(f1**2))) # Normalize basis vector\n",
      "/Users/nhutter/miniforge3/envs/lkf_tools/lib/python3.10/site-packages/numpy/lib/npyio.py:518: VisibleDeprecationWarning: Creating an ndarray from ragged nested sequences (which is a list-or-tuple of lists-or-tuples-or ndarrays with different lengths or shapes) is deprecated. If you meant to do this, you must specify 'dtype=object' when creating the ndarray.\n",
      "  arr = np.asanyarray(arr)\n",
      "/Users/nhutter/Documents/Research/lkf_tools/lkf_tools/detection.py:97: RuntimeWarning: invalid value encountered in true_divide\n",
      "  gaussian_field = field_nonnan_f/mask_nan_f\n",
      "/Users/nhutter/Documents/Research/lkf_tools/lkf_tools/detection.py:1149: RuntimeWarning: Mean of empty slice\n",
      "  eps_tot = np.nanmean(np.stack(eps_tot),axis=0)\n",
      "/Users/nhutter/Documents/Research/lkf_tools/lkf_tools/detection.py:248: RuntimeWarning: invalid value encountered in true_divide\n",
      "  dx = (seg_active[:,:,-1]-seg_active[np.arange(seg_active.shape[0]),:,-num_points])/np.stack([num_points-1,num_points-1],axis=1) - (seg_append-seg_active[:,:,-1])\n"
     ]
    },
    {
     "name": "stdout",
     "output_type": "stream",
     "text": [
      "Compute deformation rates and detect features for day 54\n",
      "Start detection routines\n"
     ]
    },
    {
     "name": "stderr",
     "output_type": "stream",
     "text": [
      "/Users/nhutter/Documents/Research/lkf_tools/lkf_tools/detection.py:566: RuntimeWarning: invalid value encountered in arccos\n",
      "  angle = np.arccos(angle)/np.pi*180\n",
      "/Users/nhutter/Documents/Research/lkf_tools/lkf_tools/detection.py:562: RuntimeWarning: invalid value encountered in true_divide\n",
      "  f1 = (f1/np.sqrt(np.sum(f1**2))) # Normalize basis vector\n",
      "/Users/nhutter/Documents/Research/lkf_tools/lkf_tools/detection.py:559: RuntimeWarning: invalid value encountered in true_divide\n",
      "  e1 = (e1/np.sqrt(np.sum(e1**2))) # Normalize basis vector\n",
      "/Users/nhutter/miniforge3/envs/lkf_tools/lib/python3.10/site-packages/numpy/lib/npyio.py:518: VisibleDeprecationWarning: Creating an ndarray from ragged nested sequences (which is a list-or-tuple of lists-or-tuples-or ndarrays with different lengths or shapes) is deprecated. If you meant to do this, you must specify 'dtype=object' when creating the ndarray.\n",
      "  arr = np.asanyarray(arr)\n"
     ]
    },
    {
     "name": "stdout",
     "output_type": "stream",
     "text": [
      "Compute deformation rates and detect features for day 55\n",
      "Start detection routines\n"
     ]
    },
    {
     "name": "stderr",
     "output_type": "stream",
     "text": [
      "/Users/nhutter/Documents/Research/lkf_tools/lkf_tools/detection.py:97: RuntimeWarning: invalid value encountered in true_divide\n",
      "  gaussian_field = field_nonnan_f/mask_nan_f\n",
      "/Users/nhutter/Documents/Research/lkf_tools/lkf_tools/detection.py:1149: RuntimeWarning: Mean of empty slice\n",
      "  eps_tot = np.nanmean(np.stack(eps_tot),axis=0)\n",
      "/Users/nhutter/Documents/Research/lkf_tools/lkf_tools/detection.py:248: RuntimeWarning: invalid value encountered in true_divide\n",
      "  dx = (seg_active[:,:,-1]-seg_active[np.arange(seg_active.shape[0]),:,-num_points])/np.stack([num_points-1,num_points-1],axis=1) - (seg_append-seg_active[:,:,-1])\n",
      "/Users/nhutter/Documents/Research/lkf_tools/lkf_tools/detection.py:566: RuntimeWarning: invalid value encountered in arccos\n",
      "  angle = np.arccos(angle)/np.pi*180\n",
      "/Users/nhutter/Documents/Research/lkf_tools/lkf_tools/detection.py:562: RuntimeWarning: invalid value encountered in true_divide\n",
      "  f1 = (f1/np.sqrt(np.sum(f1**2))) # Normalize basis vector\n",
      "/Users/nhutter/Documents/Research/lkf_tools/lkf_tools/detection.py:559: RuntimeWarning: invalid value encountered in true_divide\n",
      "  e1 = (e1/np.sqrt(np.sum(e1**2))) # Normalize basis vector\n",
      "/Users/nhutter/miniforge3/envs/lkf_tools/lib/python3.10/site-packages/numpy/lib/npyio.py:518: VisibleDeprecationWarning: Creating an ndarray from ragged nested sequences (which is a list-or-tuple of lists-or-tuples-or ndarrays with different lengths or shapes) is deprecated. If you meant to do this, you must specify 'dtype=object' when creating the ndarray.\n",
      "  arr = np.asanyarray(arr)\n"
     ]
    },
    {
     "name": "stdout",
     "output_type": "stream",
     "text": [
      "Compute deformation rates and detect features for day 56\n",
      "Start detection routines\n"
     ]
    },
    {
     "name": "stderr",
     "output_type": "stream",
     "text": [
      "/Users/nhutter/Documents/Research/lkf_tools/lkf_tools/detection.py:97: RuntimeWarning: invalid value encountered in true_divide\n",
      "  gaussian_field = field_nonnan_f/mask_nan_f\n",
      "/Users/nhutter/Documents/Research/lkf_tools/lkf_tools/detection.py:1149: RuntimeWarning: Mean of empty slice\n",
      "  eps_tot = np.nanmean(np.stack(eps_tot),axis=0)\n",
      "/Users/nhutter/Documents/Research/lkf_tools/lkf_tools/detection.py:248: RuntimeWarning: invalid value encountered in true_divide\n",
      "  dx = (seg_active[:,:,-1]-seg_active[np.arange(seg_active.shape[0]),:,-num_points])/np.stack([num_points-1,num_points-1],axis=1) - (seg_append-seg_active[:,:,-1])\n",
      "/Users/nhutter/Documents/Research/lkf_tools/lkf_tools/detection.py:566: RuntimeWarning: invalid value encountered in arccos\n",
      "  angle = np.arccos(angle)/np.pi*180\n",
      "/Users/nhutter/Documents/Research/lkf_tools/lkf_tools/detection.py:559: RuntimeWarning: invalid value encountered in true_divide\n",
      "  e1 = (e1/np.sqrt(np.sum(e1**2))) # Normalize basis vector\n",
      "/Users/nhutter/Documents/Research/lkf_tools/lkf_tools/detection.py:562: RuntimeWarning: invalid value encountered in true_divide\n",
      "  f1 = (f1/np.sqrt(np.sum(f1**2))) # Normalize basis vector\n",
      "/Users/nhutter/miniforge3/envs/lkf_tools/lib/python3.10/site-packages/numpy/lib/npyio.py:518: VisibleDeprecationWarning: Creating an ndarray from ragged nested sequences (which is a list-or-tuple of lists-or-tuples-or ndarrays with different lengths or shapes) is deprecated. If you meant to do this, you must specify 'dtype=object' when creating the ndarray.\n",
      "  arr = np.asanyarray(arr)\n"
     ]
    },
    {
     "name": "stdout",
     "output_type": "stream",
     "text": [
      "Compute deformation rates and detect features for day 57\n",
      "Start detection routines\n"
     ]
    },
    {
     "name": "stderr",
     "output_type": "stream",
     "text": [
      "/Users/nhutter/Documents/Research/lkf_tools/lkf_tools/detection.py:97: RuntimeWarning: invalid value encountered in true_divide\n",
      "  gaussian_field = field_nonnan_f/mask_nan_f\n",
      "/Users/nhutter/Documents/Research/lkf_tools/lkf_tools/detection.py:1149: RuntimeWarning: Mean of empty slice\n",
      "  eps_tot = np.nanmean(np.stack(eps_tot),axis=0)\n",
      "/Users/nhutter/Documents/Research/lkf_tools/lkf_tools/detection.py:248: RuntimeWarning: invalid value encountered in true_divide\n",
      "  dx = (seg_active[:,:,-1]-seg_active[np.arange(seg_active.shape[0]),:,-num_points])/np.stack([num_points-1,num_points-1],axis=1) - (seg_append-seg_active[:,:,-1])\n",
      "/Users/nhutter/Documents/Research/lkf_tools/lkf_tools/detection.py:566: RuntimeWarning: invalid value encountered in arccos\n",
      "  angle = np.arccos(angle)/np.pi*180\n",
      "/Users/nhutter/Documents/Research/lkf_tools/lkf_tools/detection.py:562: RuntimeWarning: invalid value encountered in true_divide\n",
      "  f1 = (f1/np.sqrt(np.sum(f1**2))) # Normalize basis vector\n",
      "/Users/nhutter/Documents/Research/lkf_tools/lkf_tools/detection.py:559: RuntimeWarning: invalid value encountered in true_divide\n",
      "  e1 = (e1/np.sqrt(np.sum(e1**2))) # Normalize basis vector\n",
      "/Users/nhutter/miniforge3/envs/lkf_tools/lib/python3.10/site-packages/numpy/lib/npyio.py:518: VisibleDeprecationWarning: Creating an ndarray from ragged nested sequences (which is a list-or-tuple of lists-or-tuples-or ndarrays with different lengths or shapes) is deprecated. If you meant to do this, you must specify 'dtype=object' when creating the ndarray.\n",
      "  arr = np.asanyarray(arr)\n",
      "/Users/nhutter/Documents/Research/lkf_tools/lkf_tools/detection.py:97: RuntimeWarning: invalid value encountered in true_divide\n",
      "  gaussian_field = field_nonnan_f/mask_nan_f\n",
      "/Users/nhutter/Documents/Research/lkf_tools/lkf_tools/detection.py:1149: RuntimeWarning: Mean of empty slice\n",
      "  eps_tot = np.nanmean(np.stack(eps_tot),axis=0)\n"
     ]
    },
    {
     "name": "stdout",
     "output_type": "stream",
     "text": [
      "Compute deformation rates and detect features for day 58\n",
      "Start detection routines\n"
     ]
    },
    {
     "name": "stderr",
     "output_type": "stream",
     "text": [
      "/Users/nhutter/Documents/Research/lkf_tools/lkf_tools/detection.py:248: RuntimeWarning: invalid value encountered in true_divide\n",
      "  dx = (seg_active[:,:,-1]-seg_active[np.arange(seg_active.shape[0]),:,-num_points])/np.stack([num_points-1,num_points-1],axis=1) - (seg_append-seg_active[:,:,-1])\n",
      "/Users/nhutter/Documents/Research/lkf_tools/lkf_tools/detection.py:566: RuntimeWarning: invalid value encountered in arccos\n",
      "  angle = np.arccos(angle)/np.pi*180\n",
      "/Users/nhutter/Documents/Research/lkf_tools/lkf_tools/detection.py:562: RuntimeWarning: invalid value encountered in true_divide\n",
      "  f1 = (f1/np.sqrt(np.sum(f1**2))) # Normalize basis vector\n",
      "/Users/nhutter/Documents/Research/lkf_tools/lkf_tools/detection.py:559: RuntimeWarning: invalid value encountered in true_divide\n",
      "  e1 = (e1/np.sqrt(np.sum(e1**2))) # Normalize basis vector\n",
      "/Users/nhutter/miniforge3/envs/lkf_tools/lib/python3.10/site-packages/numpy/lib/npyio.py:518: VisibleDeprecationWarning: Creating an ndarray from ragged nested sequences (which is a list-or-tuple of lists-or-tuples-or ndarrays with different lengths or shapes) is deprecated. If you meant to do this, you must specify 'dtype=object' when creating the ndarray.\n",
      "  arr = np.asanyarray(arr)\n",
      "/Users/nhutter/Documents/Research/lkf_tools/lkf_tools/detection.py:97: RuntimeWarning: invalid value encountered in true_divide\n",
      "  gaussian_field = field_nonnan_f/mask_nan_f\n"
     ]
    },
    {
     "name": "stdout",
     "output_type": "stream",
     "text": [
      "Compute deformation rates and detect features for day 59\n",
      "Start detection routines\n"
     ]
    },
    {
     "name": "stderr",
     "output_type": "stream",
     "text": [
      "/Users/nhutter/Documents/Research/lkf_tools/lkf_tools/detection.py:1149: RuntimeWarning: Mean of empty slice\n",
      "  eps_tot = np.nanmean(np.stack(eps_tot),axis=0)\n",
      "/Users/nhutter/Documents/Research/lkf_tools/lkf_tools/detection.py:248: RuntimeWarning: invalid value encountered in true_divide\n",
      "  dx = (seg_active[:,:,-1]-seg_active[np.arange(seg_active.shape[0]),:,-num_points])/np.stack([num_points-1,num_points-1],axis=1) - (seg_append-seg_active[:,:,-1])\n",
      "/Users/nhutter/Documents/Research/lkf_tools/lkf_tools/detection.py:559: RuntimeWarning: invalid value encountered in true_divide\n",
      "  e1 = (e1/np.sqrt(np.sum(e1**2))) # Normalize basis vector\n",
      "/Users/nhutter/Documents/Research/lkf_tools/lkf_tools/detection.py:562: RuntimeWarning: invalid value encountered in true_divide\n",
      "  f1 = (f1/np.sqrt(np.sum(f1**2))) # Normalize basis vector\n",
      "/Users/nhutter/Documents/Research/lkf_tools/lkf_tools/detection.py:566: RuntimeWarning: invalid value encountered in arccos\n",
      "  angle = np.arccos(angle)/np.pi*180\n",
      "/Users/nhutter/miniforge3/envs/lkf_tools/lib/python3.10/site-packages/numpy/lib/npyio.py:518: VisibleDeprecationWarning: Creating an ndarray from ragged nested sequences (which is a list-or-tuple of lists-or-tuples-or ndarrays with different lengths or shapes) is deprecated. If you meant to do this, you must specify 'dtype=object' when creating the ndarray.\n",
      "  arr = np.asanyarray(arr)\n",
      "/Users/nhutter/Documents/Research/lkf_tools/lkf_tools/detection.py:97: RuntimeWarning: invalid value encountered in true_divide\n",
      "  gaussian_field = field_nonnan_f/mask_nan_f\n",
      "/Users/nhutter/Documents/Research/lkf_tools/lkf_tools/detection.py:1149: RuntimeWarning: Mean of empty slice\n",
      "  eps_tot = np.nanmean(np.stack(eps_tot),axis=0)\n",
      "/Users/nhutter/Documents/Research/lkf_tools/lkf_tools/detection.py:248: RuntimeWarning: invalid value encountered in true_divide\n",
      "  dx = (seg_active[:,:,-1]-seg_active[np.arange(seg_active.shape[0]),:,-num_points])/np.stack([num_points-1,num_points-1],axis=1) - (seg_append-seg_active[:,:,-1])\n"
     ]
    },
    {
     "name": "stdout",
     "output_type": "stream",
     "text": [
      "Compute deformation rates and detect features for day 60\n",
      "Start detection routines\n"
     ]
    },
    {
     "name": "stderr",
     "output_type": "stream",
     "text": [
      "/Users/nhutter/Documents/Research/lkf_tools/lkf_tools/detection.py:566: RuntimeWarning: invalid value encountered in arccos\n",
      "  angle = np.arccos(angle)/np.pi*180\n",
      "/Users/nhutter/Documents/Research/lkf_tools/lkf_tools/detection.py:562: RuntimeWarning: invalid value encountered in true_divide\n",
      "  f1 = (f1/np.sqrt(np.sum(f1**2))) # Normalize basis vector\n",
      "/Users/nhutter/Documents/Research/lkf_tools/lkf_tools/detection.py:559: RuntimeWarning: invalid value encountered in true_divide\n",
      "  e1 = (e1/np.sqrt(np.sum(e1**2))) # Normalize basis vector\n",
      "/Users/nhutter/miniforge3/envs/lkf_tools/lib/python3.10/site-packages/numpy/lib/npyio.py:518: VisibleDeprecationWarning: Creating an ndarray from ragged nested sequences (which is a list-or-tuple of lists-or-tuples-or ndarrays with different lengths or shapes) is deprecated. If you meant to do this, you must specify 'dtype=object' when creating the ndarray.\n",
      "  arr = np.asanyarray(arr)\n"
     ]
    }
   ],
   "source": [
    "lkf_data.detect_lkfs()"
   ]
  },
  {
   "cell_type": "markdown",
   "id": "a19615d9-106d-4d7b-ac84-e02e27ba4369",
   "metadata": {},
   "source": [
    "## LKF statistics\n",
    "\n",
    "### LKF density"
   ]
  },
  {
   "cell_type": "code",
   "execution_count": 9,
   "id": "19b6222a-b140-4d09-9435-5e6e572f05f9",
   "metadata": {
    "tags": []
   },
   "outputs": [
    {
     "data": {
      "text/plain": [
       "<matplotlib.collections.QuadMesh at 0x15110be50>"
      ]
     },
     "execution_count": 9,
     "metadata": {},
     "output_type": "execute_result"
    },
    {
     "data": {
      "image/png": "[encoded data removed]",
      "text/plain": [
       "<Figure size 432x288 with 2 Axes>"
      ]
     },
     "metadata": {
      "needs_background": "light"
     },
     "output_type": "display_data"
    }
   ],
   "source": [
    "lkf_data.density().plot(vmin=0.,vmax=0.3)"
   ]
  },
  {
   "cell_type": "code",
   "execution_count": 10,
   "id": "7a12348c-66e0-4df9-a24d-7f0076e297d5",
   "metadata": {},
   "outputs": [
    {
     "data": {
      "text/plain": [
       "<matplotlib.colorbar.Colorbar at 0x15d0d01c0>"
      ]
     },
     "execution_count": 10,
     "metadata": {},
     "output_type": "execute_result"
    },
    {
     "data": {
      "image/png": "[encoded data removed]",
      "text/plain": [
       "<Figure size 720x360 with 2 Axes>"
      ]
     },
     "metadata": {
      "needs_background": "light"
     },
     "output_type": "display_data"
    }
   ],
   "source": [
    "import matplotlib.pyplot as plt\n",
    "import cartopy.crs as ccrs\n",
    "\n",
    "fig = plt.figure(figsize=[10, 5])\n",
    "\n",
    "ax = plt.subplot(1, 1, 1, projection=ccrs.Orthographic(0, 90))\n",
    "\n",
    "ax.coastlines(zorder=3)\n",
    "\n",
    "pcm = ax.pcolormesh(lkf_data.lon, lkf_data.lat,lkf_data.density(),\n",
    "                    transform=ccrs.PlateCarree(),vmin=0,vmax=0.3)\n",
    "\n",
    "plt.colorbar(pcm,label='LKF density')"
   ]
  }
 ],
 "metadata": {
  "kernelspec": {
   "display_name": "Python 3 (ipykernel)",
   "language": "python",
   "name": "python3"
  },
  "language_info": {
   "codemirror_mode": {
    "name": "ipython",
    "version": 3
   },
   "file_extension": ".py",
   "mimetype": "text/x-python",
   "name": "python",
   "nbconvert_exporter": "python",
   "pygments_lexer": "ipython3",
   "version": "3.10.2"
  }
 },
 "nbformat": 4,
 "nbformat_minor": 5
}
